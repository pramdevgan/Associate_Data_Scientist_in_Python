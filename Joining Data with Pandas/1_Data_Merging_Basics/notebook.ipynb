{
 "cells": [
  {
   "metadata": {},
   "cell_type": "markdown",
   "source": [
    "# Data Merging Basics\n",
    "\n",
    "Learn how you can merge disparate data using inner joins. By combining information from multiple sources you’ll uncover compelling insights that may have previously been hidden. You’ll also learn how the relationship between those sources, such as one-to-one or one-to-many, can affect your result.\n"
   ],
   "id": "80403f274c185065"
  },
  {
   "metadata": {
    "ExecuteTime": {
     "end_time": "2024-12-04T03:50:31.777040Z",
     "start_time": "2024-12-04T03:50:27.214176Z"
    }
   },
   "cell_type": "code",
   "source": [
    "import pandas as pd\n",
    "\n",
    "# Example DataFrames\n",
    "df1 = pd.DataFrame({\n",
    "    'ID': [1, 2, 3],\n",
    "    'Name': ['Alice', 'Bob', 'Charlie'],\n",
    "    'Value': [100, 200, 300]\n",
    "})\n",
    "\n",
    "df2 = pd.DataFrame({\n",
    "    'ID': [2, 3, 4],\n",
    "    'Value': [85, 90, 95]\n",
    "})\n"
   ],
   "id": "76afc2403b3b77de",
   "outputs": [],
   "execution_count": 1
  },
  {
   "metadata": {},
   "cell_type": "markdown",
   "source": [
    "## Inner Join\n",
    "\n",
    "An Inner join will only return rows that have matching values in both tables.\n",
    "\n",
    "- Tables = **DataFrames**\n",
    "- Merging = **Joining**\n",
    "\n",
    "### **Syntax:**\n",
    "\n",
    "```python\n",
    "result = left_dataframe.merge(right_dataframe, on='column_name', how='join_type')\n",
    "```\n",
    "\n",
    "#### **Parameters:**\n",
    "\n",
    "* `left_dataframe`: The first DataFrame.\n",
    "* `right_dataframe`: The second DataFrame.\n",
    "* `on='column_name'`: The common column(s) to merge on (must exist in both DataFrames).\n",
    "* `how='join_type'`: Type of join (`'inner'`,`'left'`,`'right'`,`'outer'`).\n",
    "* default join is **inner**\n",
    "\n",
    "```python\n",
    "import pandas as pd\n",
    "\n",
    "df1 = pd.DataFrame({\n",
    "    'ID': [1, 2, 3],\n",
    "    'Name': ['Alice', 'Bob', 'Charlie']\n",
    "})\n",
    "\n",
    "df2 = pd.DataFrame({\n",
    "    'ID': [2, 3, 4],\n",
    "    'Score': [85, 90, 95]\n",
    "})\n",
    "\n",
    "result = pd.merge(df1, df2, on='ID', how='inner')\n",
    "\n",
    "print(result)\n",
    "```\n",
    "\n",
    "| ID  | Name   | Score |\n",
    "| ----- | -------- | ------- |\n",
    "| 0 2 | Bob    | 85    |\n",
    "| 1 3 | Charle | 90    |\n",
    "\n"
   ],
   "id": "ce7e3951d1237ecc"
  },
  {
   "metadata": {
    "ExecuteTime": {
     "end_time": "2024-12-04T03:50:31.955045Z",
     "start_time": "2024-12-04T03:50:31.810848Z"
    }
   },
   "cell_type": "code",
   "source": [
    "result = df1.merge(df2, on='ID', how='inner')\n",
    "print(result)"
   ],
   "id": "abbd9ee98d5adb0b",
   "outputs": [
    {
     "name": "stdout",
     "output_type": "stream",
     "text": [
      "   ID     Name  Value_x  Value_y\n",
      "0   2      Bob      200       85\n",
      "1   3  Charlie      300       90\n"
     ]
    }
   ],
   "execution_count": 2
  },
  {
   "metadata": {},
   "cell_type": "markdown",
   "source": [
    "### Suffixes\n",
    "The suffixes are only applied to overlapping column names that are not used in the on parameter.\n",
    "\n",
    "```python\n",
    "result = df1.merge(df2, on='ID', suffixes=('_info', '_score'))\n",
    "```"
   ],
   "id": "5efe83b674bba19c"
  },
  {
   "metadata": {
    "ExecuteTime": {
     "end_time": "2024-12-04T03:50:32.387140Z",
     "start_time": "2024-12-04T03:50:32.377355Z"
    }
   },
   "cell_type": "code",
   "source": [
    "result = df1.merge(df2, on='ID', suffixes=('_df1', '_df2'))\n",
    "print(result)"
   ],
   "id": "6755934d073b0cd2",
   "outputs": [
    {
     "name": "stdout",
     "output_type": "stream",
     "text": [
      "   ID     Name  Value_df1  Value_df2\n",
      "0   2      Bob        200         85\n",
      "1   3  Charlie        300         90\n"
     ]
    }
   ],
   "execution_count": 3
  },
  {
   "metadata": {},
   "cell_type": "markdown",
   "source": [
    "# What column to merge on?\n",
    "\n",
    "Chicago provides a list of taxicab owners and vehicles licensed to operate within the city, for public safety. Your goal is to merge two tables together. One table is called `taxi_owners`, with info about the taxi cab company owners, and one is called `taxi_veh`, with info about each taxi cab vehicle. Both the `taxi_owners` and `taxi_veh` tables have been loaded for you to explore.\n",
    "\n",
    "Choose the column you would use to merge the two tables on using the `.merge()` method.\n",
    "\n",
    "***Possible answers***\n",
    "\n",
    "- `on='rid'`\n",
    "\n",
    "- `on='vid'` Correct Answer\n",
    "\n",
    "- `on='year'`\n",
    "\n",
    "- `on='zip'`\n",
    "\n",
    "Yes, great job! Both DataFrames contained the column `vid`. Now continue on to the next exercise where you will using this information to merge the tables.\n"
   ],
   "id": "82405a75bae4b53b"
  },
  {
   "metadata": {},
   "cell_type": "markdown",
   "source": [
    "### Your first inner join\n",
    "\n",
    "You have been tasked with figuring out what the most popular types of fuel used in Chicago taxis are. To complete the analysis, you need to merge the `taxi_owners` and `taxi_veh` tables together on the `vid` column. You can then use the merged table along with the `.value_counts()` method to find the most common `fuel_type`.\n",
    "\n",
    "Since you'll be working with `pandas` throughout the course, the package will be preloaded for you as `pd` in each exercise in this course. Also the `taxi_owners` and `taxi_veh` DataFrames are loaded for you.\n",
    "\n",
    "#### Instructions 1/3       **35 XP**\n",
    "\n",
    "Merge `taxi_owners` with `taxi_veh` on the column `vid`, and save the result to `taxi_own_veh`.\n"
   ],
   "id": "6b671ab04940ac91"
  },
  {
   "metadata": {
    "ExecuteTime": {
     "end_time": "2024-12-04T03:50:32.507244Z",
     "start_time": "2024-12-04T03:50:32.397701Z"
    }
   },
   "cell_type": "code",
   "source": [
    "taxi_owners = pd.read_pickle(\"../data/taxi_owners.p\")\n",
    "taxi_veh = pd.read_pickle(\"../data/taxi_vehicles.p\")\n",
    "\n",
    "print(taxi_owners.head())\n",
    "print(taxi_veh.head())"
   ],
   "id": "945dbb5f4ad95ca1",
   "outputs": [
    {
     "name": "stdout",
     "output_type": "stream",
     "text": [
      "     rid   vid           owner                 address    zip\n",
      "0  T6285  6285  AGEAN TAXI LLC     4536 N. ELSTON AVE.  60630\n",
      "1  T4862  4862    MANGIB CORP.  5717 N. WASHTENAW AVE.  60659\n",
      "2  T1495  1495   FUNRIDE, INC.     3351 W. ADDISON ST.  60618\n",
      "3  T4231  4231    ALQUSH CORP.   6611 N. CAMPBELL AVE.  60645\n",
      "4  T5971  5971  EUNIFFORD INC.     3351 W. ADDISON ST.  60618\n",
      "    vid    make   model  year fuel_type                owner\n",
      "0  2767  TOYOTA   CAMRY  2013    HYBRID       SEYED M. BADRI\n",
      "1  1411  TOYOTA    RAV4  2017    HYBRID          DESZY CORP.\n",
      "2  6500  NISSAN  SENTRA  2019  GASOLINE       AGAPH CAB CORP\n",
      "3  2746  TOYOTA   CAMRY  2013    HYBRID  MIDWEST CAB CO, INC\n",
      "4  5922  TOYOTA   CAMRY  2013    HYBRID       SUMETTI CAB CO\n"
     ]
    }
   ],
   "execution_count": 4
  },
  {
   "metadata": {
    "ExecuteTime": {
     "end_time": "2024-12-04T03:50:32.560573Z",
     "start_time": "2024-12-04T03:50:32.539013Z"
    }
   },
   "cell_type": "code",
   "source": "taxi_own_veh = taxi_owners.merge(taxi_veh, on=\"vid\")",
   "id": "57bf73114b68f061",
   "outputs": [],
   "execution_count": 5
  },
  {
   "metadata": {
    "ExecuteTime": {
     "end_time": "2024-12-04T03:50:32.574717Z",
     "start_time": "2024-12-04T03:50:32.567558Z"
    }
   },
   "cell_type": "code",
   "source": [
    "print(taxi_own_veh.head())\n",
    "print(taxi_own_veh.columns)"
   ],
   "id": "f59bd7353fa7b58c",
   "outputs": [
    {
     "name": "stdout",
     "output_type": "stream",
     "text": [
      "     rid   vid         owner_x                 address    zip    make   model  \\\n",
      "0  T6285  6285  AGEAN TAXI LLC     4536 N. ELSTON AVE.  60630  NISSAN  ALTIMA   \n",
      "1  T4862  4862    MANGIB CORP.  5717 N. WASHTENAW AVE.  60659   HONDA     CRV   \n",
      "2  T1495  1495   FUNRIDE, INC.     3351 W. ADDISON ST.  60618  TOYOTA  SIENNA   \n",
      "3  T4231  4231    ALQUSH CORP.   6611 N. CAMPBELL AVE.  60645  TOYOTA   CAMRY   \n",
      "4  T5971  5971  EUNIFFORD INC.     3351 W. ADDISON ST.  60618  TOYOTA  SIENNA   \n",
      "\n",
      "   year fuel_type         owner_y  \n",
      "0  2011    HYBRID  AGEAN TAXI LLC  \n",
      "1  2014  GASOLINE    MANGIB CORP.  \n",
      "2  2015  GASOLINE   FUNRIDE, INC.  \n",
      "3  2014    HYBRID    ALQUSH CORP.  \n",
      "4  2015  GASOLINE  EUNIFFORD INC.  \n",
      "Index(['rid', 'vid', 'owner_x', 'address', 'zip', 'make', 'model', 'year',\n",
      "       'fuel_type', 'owner_y'],\n",
      "      dtype='object')\n"
     ]
    }
   ],
   "execution_count": 6
  },
  {
   "metadata": {},
   "cell_type": "markdown",
   "source": [
    "#### Instructions 2/3\n",
    "Set the left and right table suffixes for overlapping columns of the merge to `_own` and `_veh`, respectively."
   ],
   "id": "8ef026cf77198553"
  },
  {
   "metadata": {
    "ExecuteTime": {
     "end_time": "2024-12-04T03:51:00.423091Z",
     "start_time": "2024-12-04T03:51:00.413278Z"
    }
   },
   "cell_type": "code",
   "source": [
    "# Merge the taxi_owners and taxi_veh tables setting a suffix\n",
    "taxi_own_veh = taxi_owners.merge(taxi_veh, on='vid', suffixes=('_own', '_veh'))\n",
    "\n",
    "# Print the column names of taxi_own_veh\n",
    "print(taxi_own_veh.columns)"
   ],
   "id": "64b7debedfb691f3",
   "outputs": [
    {
     "name": "stdout",
     "output_type": "stream",
     "text": [
      "Index(['rid', 'vid', 'owner_own', 'address', 'zip', 'make', 'model', 'year',\n",
      "       'fuel_type', 'owner_veh'],\n",
      "      dtype='object')\n"
     ]
    }
   ],
   "execution_count": 7
  },
  {
   "metadata": {},
   "cell_type": "markdown",
   "source": [
    "#### Instruction 3/3\n",
    "\n",
    "Select the `fuel_type` column from `taxi_own_veh` and print the `value_counts()` to find the most popular `fuel_type`s used.\n"
   ],
   "id": "418722f2e05050f2"
  },
  {
   "metadata": {
    "ExecuteTime": {
     "end_time": "2024-12-04T03:51:52.025282Z",
     "start_time": "2024-12-04T03:51:51.982377Z"
    }
   },
   "cell_type": "code",
   "source": [
    "# Merge the taxi_owners and taxi_veh tables setting a suffix\n",
    "taxi_own_veh = taxi_owners.merge(taxi_veh, on='vid', suffixes=('_own','_veh'))\n",
    "\n",
    "# Print the value_counts to find the most popular fuel_type\n",
    "print(taxi_own_veh['fuel_type'].value_counts())"
   ],
   "id": "8845d8d523689d11",
   "outputs": [
    {
     "name": "stdout",
     "output_type": "stream",
     "text": [
      "fuel_type\n",
      "HYBRID                    2792\n",
      "GASOLINE                   611\n",
      "FLEX FUEL                   89\n",
      "COMPRESSED NATURAL GAS      27\n",
      "Name: count, dtype: int64\n"
     ]
    }
   ],
   "execution_count": 8
  },
  {
   "metadata": {},
   "cell_type": "markdown",
   "source": [
    "# Inner joins and number of rows returned\n",
    "\n",
    "All of the merges you have studied to this point are called inner joins. It is necessary to understand that inner joins only return the rows with matching values in both tables. You will explore this further by reviewing the merge between the `wards` and `census` tables, then comparing it to merges of copies of these tables that are slightly altered, named `wards_altered`, and `census_altered`. The first row of the `wards` column has been changed in the altered tables. You will examine how this affects the merge between them. The tables have been loaded for you.\n",
    "\n",
    "For this exercise, it is important to know that the `wards` and `census` tables start with **50** rows.\n"
   ],
   "id": "ac51c8a9ae67a8eb"
  },
  {
   "metadata": {},
   "cell_type": "markdown",
   "source": [
    "## Instructions 1/3     **35 XP**\n",
    "\n",
    "Merge `wards` and `census` on the `ward` column and save the result to `wards_census`.\n"
   ],
   "id": "196950f111edf074"
  },
  {
   "metadata": {
    "ExecuteTime": {
     "end_time": "2024-12-04T03:56:56.083770Z",
     "start_time": "2024-12-04T03:56:56.050659Z"
    }
   },
   "cell_type": "code",
   "source": [
    "wards = pd.read_pickle(\"../data/ward.p\")\n",
    "census = pd.read_pickle(\"../data/census.p\")"
   ],
   "id": "2e65ffd5134a94e0",
   "outputs": [],
   "execution_count": 11
  },
  {
   "metadata": {
    "ExecuteTime": {
     "end_time": "2024-12-04T03:57:15.654481Z",
     "start_time": "2024-12-04T03:57:15.633756Z"
    }
   },
   "cell_type": "code",
   "source": [
    "# Merge the wards and census tables on the ward column\n",
    "wards_census = wards.merge(census, on='ward')\n",
    "\n",
    "# Print the shape of wards_census\n",
    "print('wards_census table shape:', wards_census.shape)"
   ],
   "id": "7cbcf087f035c8ca",
   "outputs": [
    {
     "name": "stdout",
     "output_type": "stream",
     "text": [
      "wards_census table shape: (50, 9)\n"
     ]
    }
   ],
   "execution_count": 12
  },
  {
   "metadata": {},
   "cell_type": "markdown",
   "source": [
    "#### Instruction 2/3\n",
    "Merge the `wards_altered` and `census` tables on the `ward` column, and notice the difference in returned rows\n"
   ],
   "id": "acd0378b75af52d"
  },
  {
   "metadata": {
    "ExecuteTime": {
     "end_time": "2024-12-04T03:59:47.163664Z",
     "start_time": "2024-12-04T03:59:47.149833Z"
    }
   },
   "cell_type": "code",
   "source": [
    "wards_altered = wards\n",
    "census_altered = census\n",
    "# Print the first few rows of the wards_altered table to view the change\n",
    "print(wards_altered[['ward']].head())\n",
    "\n",
    "# Merge the wards_altered and census tables on the ward column\n",
    "wards_altered_census = wards_altered.merge(census, on='ward')\n",
    "\n",
    "# Print the shape of wards_altered_census\n",
    "print('wards_altered_census table shape:', wards_altered_census.shape)"
   ],
   "id": "9b12813aa6094336",
   "outputs": [
    {
     "name": "stdout",
     "output_type": "stream",
     "text": [
      "  ward\n",
      "0    1\n",
      "1    2\n",
      "2    3\n",
      "3    4\n",
      "4    5\n",
      "wards_altered_census table shape: (50, 9)\n"
     ]
    }
   ],
   "execution_count": 13
  },
  {
   "metadata": {},
   "cell_type": "markdown",
   "source": [
    "#### Instructions 3/3\n",
    "\n",
    "Merge the `wards` and `census_altered` tables on the `ward` column, and notice the difference in returned rows.\n"
   ],
   "id": "aeefccc6b86c2464"
  },
  {
   "metadata": {
    "ExecuteTime": {
     "end_time": "2024-12-04T04:01:14.337412Z",
     "start_time": "2024-12-04T04:01:14.327736Z"
    }
   },
   "cell_type": "code",
   "source": [
    "# Print the first few rows of the census_altered table to view the change\n",
    "print(census_altered[['ward']].head())\n",
    "\n",
    "# Merge the wards and census_altered tables on the ward column\n",
    "wards_census_altered = wards.merge(census_altered, on='ward')\n",
    "\n",
    "# Print the shape of wards_census_altered\n",
    "print('wards_census_altered table shape:', wards_census_altered.shape)"
   ],
   "id": "2048bb3a0dca8c9b",
   "outputs": [
    {
     "name": "stdout",
     "output_type": "stream",
     "text": [
      "  ward\n",
      "0    1\n",
      "1    2\n",
      "2    3\n",
      "3    4\n",
      "4    5\n",
      "wards_census_altered table shape: (50, 9)\n"
     ]
    }
   ],
   "execution_count": 14
  },
  {
   "metadata": {},
   "cell_type": "markdown",
   "source": "Great job! In step 1, the `.merge()` returned a table with the same number of rows as the original `wards` table. However, in steps 2 and 3, using the altered tables with the altered first row of the `ward` column, the number of returned rows was fewer. There was not a matching value in the `ward` column of the other table. _Remember that `.merge()` only returns rows where the values match in both tables._\n",
   "id": "f8e7395e7a9dcab2"
  },
  {
   "metadata": {},
   "cell_type": "markdown",
   "source": [
    "## One-to-One Relationships\n",
    "\n",
    "![1:1](https://i.ibb.co/WGbT565/Screenshot-2024-12-04-094133.png)\n",
    "\n",
    "Every row in the left table is related to only one row in the right table"
   ],
   "id": "c394819968814e60"
  },
  {
   "metadata": {},
   "cell_type": "markdown",
   "source": [
    "### One-to-Many Relationships\n",
    "\n",
    "Every row in left table is related to one or more rows in the right table\n",
    "\n",
    "![1:M](https://i.ibb.co/0ZhBS4L/Screenshot-2024-12-04-094918.png)"
   ],
   "id": "1d43cf7451cf364d"
  },
  {
   "metadata": {},
   "cell_type": "markdown",
   "source": [
    "### One-to-many classification\n",
    "\n",
    "Understanding the difference between a one-to-one and one-to-many relationship is a useful skill. In this exercise, consider a set of tables from an e-commerce website. The hypothetical tables are the following:\n",
    "\n",
    "* A `customer` table with information about each customer\n",
    "* A `cust_tax_info` table with customers unique tax IDs\n",
    "* An `orders` table with information about each order\n",
    "* A `products` table with details about each unique product sold\n",
    "* An `inventory` table with information on how much total inventory is available to sell for each product\n",
    "\n",
    "#### **Instructions**       **100XP**\n",
    "\n",
    "* Select the relationship type that is most appropriate for the relationship between the different tables: **One-to-one** , or **One-to-many** .\n",
    "\n",
    "**One-to-One**\n",
    "- The relationship between `customer` and `cust_tax_info` .\n",
    "- The relationship between `products` and `inventory` .\n",
    "\n",
    "**One-to-Many**\n",
    "- The relationship between the `products` and `orders` .\n",
    "- The relationship between the `customers` and `orders` .\n",
    "\n"
   ],
   "id": "4430be63fec71e52"
  },
  {
   "metadata": {},
   "cell_type": "markdown",
   "source": [
    "# One-to-many merge\n",
    "\n",
    "A business may have one or multiple owners. In this exercise, you will continue to gain experience with one-to-many merges by merging a table of business owners, called `biz_owners`, to the `licenses` table. Recall from the video lesson, with a one-to-many relationship, a row in the left table may be repeated if it is related to multiple rows in the right table. In this lesson, you will explore this further by finding out what is the most common business owner title. (i.e., secretary, CEO, or vice president)\n",
    "\n",
    "The `licenses` and `biz_owners` DataFrames are loaded for you.\n",
    "\n",
    "## Instructions         **100 XP**\n",
    "\n",
    "* Starting with the `licenses` table on the left, merge it to the `biz_owners` table on the column `account`, and save the results to a variable named `licenses_owners`.\n",
    "* Group `licenses_owners` by `title` and count the number of accounts for each title. Save the result as `counted_df`\n",
    "* Sort `counted_df` by the number of **accounts** in **descending order** , and save this as a variable named `sorted_df`.\n",
    "* Use the `.head()` method to print the first few rows of the `sorted_df`.\n"
   ],
   "id": "a146db9f69f50018"
  },
  {
   "metadata": {
    "ExecuteTime": {
     "end_time": "2024-12-04T07:43:22.388634Z",
     "start_time": "2024-12-04T07:43:22.344406Z"
    }
   },
   "cell_type": "code",
   "source": [
    "licenses = pd.read_pickle(\"../data/licenses.p\")\n",
    "biz_owners = pd.read_pickle(\"../data/business_owners.p\")\n",
    "\n",
    "# Merge the licenses and biz_owners table on account\n",
    "licenses_owners =licenses.merge(biz_owners, on='account')\n",
    "\n",
    "# Group the results by title then count the number of accounts\n",
    "counted_df = licenses_owners.groupby(\"title\").agg({'account':'count'})\n",
    "\n",
    "# Sort the counted_df in descending order\n",
    "sorted_df = counted_df.sort_values(\"account\", ascending=False)\n",
    "\n",
    "# Use .head() method to print the first few rows of sorted_df\n",
    "print(sorted_df.head())"
   ],
   "id": "96b2a7b53a4f96fa",
   "outputs": [
    {
     "name": "stdout",
     "output_type": "stream",
     "text": [
      "                 account\n",
      "title                   \n",
      "PRESIDENT           6259\n",
      "SECRETARY           5205\n",
      "SOLE PROPRIETOR     1658\n",
      "OTHER               1200\n",
      "VICE PRESIDENT       970\n"
     ]
    }
   ],
   "execution_count": 18
  },
  {
   "metadata": {},
   "cell_type": "markdown",
   "source": "Wonderful! After merging the tables together, you counted the number of repeated rows with the combination of `.groupby()` and `.agg()` statements. You see that president, followed by secretary, are the most common business owner titles.\n",
   "id": "ed55faeb16baeff1"
  },
  {
   "metadata": {},
   "cell_type": "markdown",
   "source": [
    "## Merging Multiple DataFrames\n",
    "![Multiple Merge](https://i.ibb.co/DKJ3GMt/Screenshot-2024-12-04-133609.png)"
   ],
   "id": "ea2aaf3e88a48d4"
  },
  {
   "metadata": {},
   "cell_type": "markdown",
   "source": [
    "### Single Merge\n",
    "```python\n",
    "letf_table.merge(right_table, on=['col_1', 'col_2'])\n",
    "```\n",
    "```python\n",
    "grants.merge(licenses, on=['address', 'zip'])\n",
    "```\n",
    "* **Start with the primary DataFrame** :`grants`\n",
    "* **Use `.merge()`** : to combine data.\n",
    "* **Add the second DataFrame as the first argument** :`licenses`.\n",
    "* **Specify the common columns with `on=[...]`** :`['address', 'zip']`\n",
    "\n",
    "* Pass a List of column names we want to marge on to the 'on' argument.\n",
    "\n",
    "### Multiple Table Merge\n",
    "```python\n",
    "FirstDF.merge(SecondDF, on=[common_columns], suffixes=(suffix1, suffix2))\\\n",
    "   .merge(ThirdDF, on=[common_column], suffixes=(suffix1, suffix2))\n",
    "```\n",
    "\n",
    "```python\n",
    "grant_licenses_ward = grants.merge(licenses, on=['address', 'zip'])\\\n",
    "    .merge(wards, on='ward', suffixes=('_bus', '_ward'))\n",
    "```\n",
    "\n",
    "---------\n",
    "\n",
    "1. **Start with the base DataFrame** :`grants`.\n",
    "2. **Use `.merge()` to add the first table** :`licenses` (with common columns`['address', 'zip']`).\n",
    "3. **Chain `.merge()` to add the next table** :`wards` (with the common column`'ward'`).\n",
    "4. **Add `suffixes` if column names overlap** :`('_bus', '_ward')`.\n",
    "\n",
    "\n",
    "#### **Step-by-Step Thinking:**\n",
    "\n",
    "1. First,**combine `grants` with `licenses`** : Use the common columns`['address', 'zip']`.\n",
    "2. Next,**combine the resulting DataFrame with `wards`** : Use the common column`'ward'`.\n",
    "3. Add**suffixes to handle overlapping column names** :`('_bus', '_ward')`.\n",
    "\n",
    "This makes the logic of chaining merges easy to grasp: **\"Base + Add-On1 + Add-On2\"** .\n"
   ],
   "id": "79b531fa0db8f38e"
  },
  {
   "metadata": {},
   "cell_type": "markdown",
   "source": [
    "### Results\n",
    "```python\n",
    "import matplotlib.pyplot as plt\n",
    "\n",
    "grant_licenses_ward.groupby('ward').agg('sum').plot(kind='bar', y='grant')\n",
    "plt.show()\n",
    "```"
   ],
   "id": "bddd8b8b3e26dcbb"
  },
  {
   "metadata": {},
   "cell_type": "markdown",
   "source": [
    "### Merging even more...\n",
    "\n",
    "### Three tables:\n",
    "```python\n",
    "df1.merge(df2, on='col') \\\n",
    "    .merge(df3, on='col')\n",
    "```\n",
    "\n",
    "### Four tables:\n",
    "```python\n",
    "df1.merge(df2, on='col') \\\n",
    "    .merge(df3, on='col') \\\n",
    "    .merge(df4, on='col')\n",
    "```\n",
    "\n",
    "\n"
   ],
   "id": "4dd5b3c2aa463727"
  },
  {
   "metadata": {},
   "cell_type": "markdown",
   "source": [
    "### Total riders in a month\n",
    "\n",
    "Your goal is to find the total number of rides provided to passengers passing through the Wilson station (`station_name == 'Wilson'`) when riding Chicago's public transportation system on weekdays (`day_type == 'Weekday'`) in July (`month == 7`). Luckily, Chicago provides this detailed data, but it is in three different tables. You will work on merging these tables together to answer the question. This data is different from the business related data you have seen so far, but all the information you need to answer the question is provided.\n",
    "\n",
    "The `cal`, `ridership`, and `stations` DataFrames have been loaded for you. The relationship between the tables can be seen in the diagram below.\n",
    "\n",
    "![Table diagram. The cal table relates to ridership via year, month, and day. The ridership table relates to the stations table via station_id.](https://assets.datacamp.com/production/repositories/5486/datasets/56b5ecb2edcdc896c69effdf05ef65e5454ff996/cta_L_diagram.png)\n",
    "\n",
    "#### Instructions 1/3             **35 XP**\n",
    "\n",
    "* Merge the `ridership` and `cal` tables together, starting with the `ridership` table on the left and save the result to the variable `ridership_cal`. If you code takes too long to run, your merge conditions might be incorrect.\n"
   ],
   "id": "1f45eba8677d9dd0"
  },
  {
   "metadata": {
    "ExecuteTime": {
     "end_time": "2024-12-04T09:02:34.124363Z",
     "start_time": "2024-12-04T09:02:34.000422Z"
    }
   },
   "cell_type": "code",
   "source": [
    "cal  = pd.read_pickle(\"../data/cta_calendar.p\")\n",
    "ridership = pd.read_pickle(\"../data/cta_ridership.p\")\n",
    "stations = pd.read_pickle(\"../data/stations.p\")\n",
    "\n",
    "\n",
    "print(\"----------------------------\")\n",
    "print(cal.columns)\n",
    "print(ridership.columns)\n",
    "print(stations.columns)\n",
    "print(\"----------------------------\")\n",
    "\n",
    "# Merge the ridership and cal tables\n",
    "ridership_cal = ridership.merge(cal, on=['year', 'month', 'day'])\n",
    "print(ridership_cal.head())"
   ],
   "id": "193c48bf7bb23f09",
   "outputs": [
    {
     "name": "stdout",
     "output_type": "stream",
     "text": [
      "----------------------------\n",
      "Index(['year', 'month', 'day', 'day_type'], dtype='object')\n",
      "Index(['station_id', 'year', 'month', 'day', 'rides'], dtype='object')\n",
      "Index(['station_id', 'station_name', 'location'], dtype='object')\n",
      "----------------------------\n",
      "  station_id  year  month  day  rides        day_type\n",
      "0      40010  2019      1    1    576  Sunday/Holiday\n",
      "1      40010  2019      1    2   1457         Weekday\n",
      "2      40010  2019      1    3   1543         Weekday\n",
      "3      40010  2019      1    4   1621         Weekday\n",
      "4      40010  2019      1    5    719        Saturday\n"
     ]
    }
   ],
   "execution_count": 30
  },
  {
   "metadata": {},
   "cell_type": "markdown",
   "source": [
    "#### Instruction 2/3\n",
    "\n",
    "* Extend the previous merge to three tables by also merging the `stations` table."
   ],
   "id": "a693526c87054183"
  },
  {
   "metadata": {
    "ExecuteTime": {
     "end_time": "2024-12-04T08:55:47.759319Z",
     "start_time": "2024-12-04T08:55:47.740299Z"
    }
   },
   "cell_type": "code",
   "source": [
    "# Merge the ridership, cal, and stations tables\n",
    "ridership_cal_stations = ridership.merge(cal, on=['year','month','day']) \\\n",
    "    .merge(stations, on=\"station_id\")\n",
    "\n",
    "ridership_cal_stations.head()"
   ],
   "id": "a028702d4612075b",
   "outputs": [
    {
     "data": {
      "text/plain": [
       "  station_id  year  month  day  rides        day_type        station_name  \\\n",
       "0      40010  2019      1    1    576  Sunday/Holiday  Austin-Forest Park   \n",
       "1      40010  2019      1    2   1457         Weekday  Austin-Forest Park   \n",
       "2      40010  2019      1    3   1543         Weekday  Austin-Forest Park   \n",
       "3      40010  2019      1    4   1621         Weekday  Austin-Forest Park   \n",
       "4      40010  2019      1    5    719        Saturday  Austin-Forest Park   \n",
       "\n",
       "                  location  \n",
       "0  (41.870851, -87.776812)  \n",
       "1  (41.870851, -87.776812)  \n",
       "2  (41.870851, -87.776812)  \n",
       "3  (41.870851, -87.776812)  \n",
       "4  (41.870851, -87.776812)  "
      ],
      "text/html": [
       "<div>\n",
       "<style scoped>\n",
       "    .dataframe tbody tr th:only-of-type {\n",
       "        vertical-align: middle;\n",
       "    }\n",
       "\n",
       "    .dataframe tbody tr th {\n",
       "        vertical-align: top;\n",
       "    }\n",
       "\n",
       "    .dataframe thead th {\n",
       "        text-align: right;\n",
       "    }\n",
       "</style>\n",
       "<table border=\"1\" class=\"dataframe\">\n",
       "  <thead>\n",
       "    <tr style=\"text-align: right;\">\n",
       "      <th></th>\n",
       "      <th>station_id</th>\n",
       "      <th>year</th>\n",
       "      <th>month</th>\n",
       "      <th>day</th>\n",
       "      <th>rides</th>\n",
       "      <th>day_type</th>\n",
       "      <th>station_name</th>\n",
       "      <th>location</th>\n",
       "    </tr>\n",
       "  </thead>\n",
       "  <tbody>\n",
       "    <tr>\n",
       "      <th>0</th>\n",
       "      <td>40010</td>\n",
       "      <td>2019</td>\n",
       "      <td>1</td>\n",
       "      <td>1</td>\n",
       "      <td>576</td>\n",
       "      <td>Sunday/Holiday</td>\n",
       "      <td>Austin-Forest Park</td>\n",
       "      <td>(41.870851, -87.776812)</td>\n",
       "    </tr>\n",
       "    <tr>\n",
       "      <th>1</th>\n",
       "      <td>40010</td>\n",
       "      <td>2019</td>\n",
       "      <td>1</td>\n",
       "      <td>2</td>\n",
       "      <td>1457</td>\n",
       "      <td>Weekday</td>\n",
       "      <td>Austin-Forest Park</td>\n",
       "      <td>(41.870851, -87.776812)</td>\n",
       "    </tr>\n",
       "    <tr>\n",
       "      <th>2</th>\n",
       "      <td>40010</td>\n",
       "      <td>2019</td>\n",
       "      <td>1</td>\n",
       "      <td>3</td>\n",
       "      <td>1543</td>\n",
       "      <td>Weekday</td>\n",
       "      <td>Austin-Forest Park</td>\n",
       "      <td>(41.870851, -87.776812)</td>\n",
       "    </tr>\n",
       "    <tr>\n",
       "      <th>3</th>\n",
       "      <td>40010</td>\n",
       "      <td>2019</td>\n",
       "      <td>1</td>\n",
       "      <td>4</td>\n",
       "      <td>1621</td>\n",
       "      <td>Weekday</td>\n",
       "      <td>Austin-Forest Park</td>\n",
       "      <td>(41.870851, -87.776812)</td>\n",
       "    </tr>\n",
       "    <tr>\n",
       "      <th>4</th>\n",
       "      <td>40010</td>\n",
       "      <td>2019</td>\n",
       "      <td>1</td>\n",
       "      <td>5</td>\n",
       "      <td>719</td>\n",
       "      <td>Saturday</td>\n",
       "      <td>Austin-Forest Park</td>\n",
       "      <td>(41.870851, -87.776812)</td>\n",
       "    </tr>\n",
       "  </tbody>\n",
       "</table>\n",
       "</div>"
      ]
     },
     "execution_count": 29,
     "metadata": {},
     "output_type": "execute_result"
    }
   ],
   "execution_count": 29
  },
  {
   "metadata": {},
   "cell_type": "markdown",
   "source": [
    "#### Instructions\n",
    "* Create a variable called `filter_criteria` to select the appropriate rows from the merged table so that you can sum the `rides` column."
   ],
   "id": "609cbac6e85d224d"
  },
  {
   "metadata": {
    "ExecuteTime": {
     "end_time": "2024-12-04T09:06:16.119506Z",
     "start_time": "2024-12-04T09:06:16.100386Z"
    }
   },
   "cell_type": "code",
   "source": [
    "# Merge the ridership, cal, and stations tables\n",
    "ridership_cal_stations = ridership.merge(cal, on=['year','month','day']) \\\n",
    "\t\t\t\t\t\t\t.merge(stations, on='station_id')\n",
    "\n",
    "# Create a filter to filter ridership_cal_stations\n",
    "filter_criteria = ((ridership_cal_stations['month'] == 7)\n",
    "                   & (ridership_cal_stations['day_type'] == 'Weekday')\n",
    "                   & (ridership_cal_stations['station_name'] == 'Wilson'))\n",
    "\n",
    "# Use .loc and the filter to select for rides\n",
    "print(ridership_cal_stations.loc[filter_criteria, 'rides'].sum())\n"
   ],
   "id": "f5e74969e154e592",
   "outputs": [
    {
     "name": "stdout",
     "output_type": "stream",
     "text": [
      "140005\n"
     ]
    }
   ],
   "execution_count": 32
  },
  {
   "metadata": {},
   "cell_type": "markdown",
   "source": "Awesome work! You merged three DataFrames together, including merging two tables on multiple columns. Once the tables were merged, you filtered and selected just like any other DataFrame. Finally, you found out that the Wilson station had 140,005 riders during weekdays in July.",
   "id": "65b55ca83d18ec6a"
  },
  {
   "metadata": {},
   "cell_type": "markdown",
   "source": [
    "### Three table merge\n",
    "\n",
    "To solidify the concept of a three DataFrame merge, practice another exercise. A reasonable extension of our review of Chicago business data would include looking at demographics information about the neighborhoods where the businesses are. A table with the median income by zip code has been provided to you. You will merge the `licenses` and `wards` tables with this new income-by-zip-code table called `zip_demo`.\n",
    "\n",
    "The `licenses`, `wards`, and `zip_demo` DataFrames have been loaded for you.\n",
    "\n",
    "#### Instructions     **100 XP**\n",
    "\n",
    "* Starting with the `licenses` table, merge to it the `zip_demo` table on the `zip` column. Then merge the resulting table to the `wards` table on the `ward` column. Save result of the three merged tables to a variable named `licenses_zip_ward`.\n",
    "* Group the results of the three merged tables by the column `alderman` and find the median `income`.\n"
   ],
   "id": "65afd8ffcf16e09c"
  },
  {
   "metadata": {
    "ExecuteTime": {
     "end_time": "2024-12-04T09:19:39.835915Z",
     "start_time": "2024-12-04T09:19:39.710735Z"
    }
   },
   "cell_type": "code",
   "source": [
    "licenses = pd.read_pickle(\"../data/licenses.p\")\n",
    "zip_demo = pd.read_pickle(\"../data/zip_demo.p\")\n",
    "wards = pd.read_pickle(\"../data/ward.p\")\n",
    "# Merge licenses and zip_demo, on zip; and merge the wards on ward\n",
    "licenses_zip_ward = licenses.merge(zip_demo, on='zip') \\\n",
    "    .merge(wards, on='ward')\n",
    "\n",
    "# licenses_zip_ward.head()\n",
    "\n",
    "# Print the results by alderman and show median income\n",
    "print(licenses_zip_ward.groupby(\"alderman\").agg({'income':'median'}))"
   ],
   "id": "16ab14ebdece1d1c",
   "outputs": [
    {
     "name": "stdout",
     "output_type": "stream",
     "text": [
      "                             income\n",
      "alderman                           \n",
      "Ameya Pawar                 66246.0\n",
      "Anthony A. Beale            38206.0\n",
      "Anthony V. Napolitano       82226.0\n",
      "Ariel E. Reyboras           41307.0\n",
      "Brendan Reilly             110215.0\n",
      "Brian Hopkins               87143.0\n",
      "Carlos Ramirez-Rosa         66246.0\n",
      "Carrie M. Austin            38206.0\n",
      "Chris Taliaferro            55566.0\n",
      "Daniel \"Danny\" Solis        41226.0\n",
      "David H. Moore              33304.0\n",
      "Deborah Mell                66246.0\n",
      "Debra L. Silverstein        50554.0\n",
      "Derrick G. Curtis           65770.0\n",
      "Edward M. Burke             42335.0\n",
      "Emma M. Mitts               36283.0\n",
      "George Cardenas             33959.0\n",
      "Gilbert Villegas            41307.0\n",
      "Gregory I. Mitchell         24941.0\n",
      "Harry Osterman              45442.0\n",
      "Howard B. Brookins, Jr.     33304.0\n",
      "James Cappleman             79565.0\n",
      "Jason C. Ervin              41226.0\n",
      "Joe Moore                   39163.0\n",
      "John S. Arena               70122.0\n",
      "Leslie A. Hairston          28024.0\n",
      "Margaret Laurino            70122.0\n",
      "Marty Quinn                 67045.0\n",
      "Matthew J. O'Shea           59488.0\n",
      "Michael R. Zalewski         42335.0\n",
      "Michael Scott, Jr.          31445.0\n",
      "Michelle A. Harris          32558.0\n",
      "Michelle Smith             100116.0\n",
      "Milagros \"Milly\" Santiago   41307.0\n",
      "Nicholas Sposato            62223.0\n",
      "Pat Dowell                  46340.0\n",
      "Patrick Daley Thompson      41226.0\n",
      "Patrick J. O'Connor         50554.0\n",
      "Proco \"Joe\" Moreno          87143.0\n",
      "Raymond A. Lopez            33959.0\n",
      "Ricardo Munoz               31445.0\n",
      "Roberto Maldonado           68223.0\n",
      "Roderick T. Sawyer          32558.0\n",
      "Scott Waguespack            68223.0\n",
      "Susan Sadlowski Garza       38417.0\n",
      "Tom Tunney                  88708.0\n",
      "Toni L. Foulkes             27573.0\n",
      "Walter Burnett, Jr.         87143.0\n",
      "William D. Burns           107811.0\n",
      "Willie B. Cochran           28024.0\n"
     ]
    }
   ],
   "execution_count": 38
  },
  {
   "metadata": {},
   "cell_type": "markdown",
   "source": [
    "### One-to-many merge with multiple tables\n",
    "\n",
    "In this exercise, assume that you are looking to start a business in the city of Chicago. Your perfect idea is to start a company that uses goats to mow the lawn for other businesses. However, you have to choose a location in the city to put your goat farm. You need a location with a great deal of space and relatively few businesses and people around to avoid complaints about the smell. You will need to merge three tables to help you choose your location. The `land_use` table has info on the percentage of vacant land by city ward. The `census` table has population by ward, and the `licenses` table lists businesses by ward.\n",
    "\n",
    "The `land_use`, `census`, and `licenses` tables have been loaded for you.\n",
    "\n",
    "#### Instructions 1/3         **35 XP**\n",
    "* Merge `land_use` and `census` on the `ward` column. Merge the result of this with `licenses` on the `ward` column, using the suffix `_cen` for the left table and `_lic` for the right table. Save this to the variable `land_cen_lic`.\n"
   ],
   "id": "cec055b7dd062490"
  },
  {
   "metadata": {
    "ExecuteTime": {
     "end_time": "2024-12-04T09:33:04.204783Z",
     "start_time": "2024-12-04T09:33:04.171251Z"
    }
   },
   "cell_type": "code",
   "source": [
    "land_use = pd.read_pickle(\"../data/land_use.p\")\n",
    "census = pd.read_pickle(\"../data/census.p\")\n",
    "licenses = pd.read_pickle(\"../data/licenses.p\")\n",
    "\n",
    "# Merge land_use and census and merge result with licenses including suffixes\n",
    "land_cen_lic = land_use.merge(census, on='ward') \\\n",
    "    .merge(licenses, on='ward', suffixes=('_cen', '_lic'))\n",
    "\n",
    "land_cen_lic.head()"
   ],
   "id": "d58eda5caa9c7f94",
   "outputs": [
    {
     "data": {
      "text/plain": [
       "  ward  residential  commercial  industrial  vacant  other  pop_2000  \\\n",
       "0    1           41           9           2       2     46     52951   \n",
       "1    1           41           9           2       2     46     52951   \n",
       "2    1           41           9           2       2     46     52951   \n",
       "3    1           41           9           2       2     46     52951   \n",
       "4    1           41           9           2       2     46     52951   \n",
       "\n",
       "   pop_2010 change                  address_cen zip_cen account  aid  \\\n",
       "0     56149     6%  2765 WEST SAINT MARY STREET   60647   12024  NaN   \n",
       "1     56149     6%  2765 WEST SAINT MARY STREET   60647   14446  743   \n",
       "2     56149     6%  2765 WEST SAINT MARY STREET   60647   14624  775   \n",
       "3     56149     6%  2765 WEST SAINT MARY STREET   60647   14987  NaN   \n",
       "4     56149     6%  2765 WEST SAINT MARY STREET   60647   15642  814   \n",
       "\n",
       "               business              address_lic zip_lic  \n",
       "0   DIGILOG ELECTRONICS       1038 N ASHLAND AVE   60622  \n",
       "1      EMPTY BOTTLE INC   1035 N WESTERN AVE 1ST   60622  \n",
       "2  LITTLE MEL'S HOT DOG    2205 N CALIFORNIA AVE   60647  \n",
       "3    MR. BROWN'S LOUNGE   2301 W CHICAGO AVE 1ST   60622  \n",
       "4          Beat Kitchen  2000-2100 W DIVISION ST   60622  "
      ],
      "text/html": [
       "<div>\n",
       "<style scoped>\n",
       "    .dataframe tbody tr th:only-of-type {\n",
       "        vertical-align: middle;\n",
       "    }\n",
       "\n",
       "    .dataframe tbody tr th {\n",
       "        vertical-align: top;\n",
       "    }\n",
       "\n",
       "    .dataframe thead th {\n",
       "        text-align: right;\n",
       "    }\n",
       "</style>\n",
       "<table border=\"1\" class=\"dataframe\">\n",
       "  <thead>\n",
       "    <tr style=\"text-align: right;\">\n",
       "      <th></th>\n",
       "      <th>ward</th>\n",
       "      <th>residential</th>\n",
       "      <th>commercial</th>\n",
       "      <th>industrial</th>\n",
       "      <th>vacant</th>\n",
       "      <th>other</th>\n",
       "      <th>pop_2000</th>\n",
       "      <th>pop_2010</th>\n",
       "      <th>change</th>\n",
       "      <th>address_cen</th>\n",
       "      <th>zip_cen</th>\n",
       "      <th>account</th>\n",
       "      <th>aid</th>\n",
       "      <th>business</th>\n",
       "      <th>address_lic</th>\n",
       "      <th>zip_lic</th>\n",
       "    </tr>\n",
       "  </thead>\n",
       "  <tbody>\n",
       "    <tr>\n",
       "      <th>0</th>\n",
       "      <td>1</td>\n",
       "      <td>41</td>\n",
       "      <td>9</td>\n",
       "      <td>2</td>\n",
       "      <td>2</td>\n",
       "      <td>46</td>\n",
       "      <td>52951</td>\n",
       "      <td>56149</td>\n",
       "      <td>6%</td>\n",
       "      <td>2765 WEST SAINT MARY STREET</td>\n",
       "      <td>60647</td>\n",
       "      <td>12024</td>\n",
       "      <td>NaN</td>\n",
       "      <td>DIGILOG ELECTRONICS</td>\n",
       "      <td>1038 N ASHLAND AVE</td>\n",
       "      <td>60622</td>\n",
       "    </tr>\n",
       "    <tr>\n",
       "      <th>1</th>\n",
       "      <td>1</td>\n",
       "      <td>41</td>\n",
       "      <td>9</td>\n",
       "      <td>2</td>\n",
       "      <td>2</td>\n",
       "      <td>46</td>\n",
       "      <td>52951</td>\n",
       "      <td>56149</td>\n",
       "      <td>6%</td>\n",
       "      <td>2765 WEST SAINT MARY STREET</td>\n",
       "      <td>60647</td>\n",
       "      <td>14446</td>\n",
       "      <td>743</td>\n",
       "      <td>EMPTY BOTTLE INC</td>\n",
       "      <td>1035 N WESTERN AVE 1ST</td>\n",
       "      <td>60622</td>\n",
       "    </tr>\n",
       "    <tr>\n",
       "      <th>2</th>\n",
       "      <td>1</td>\n",
       "      <td>41</td>\n",
       "      <td>9</td>\n",
       "      <td>2</td>\n",
       "      <td>2</td>\n",
       "      <td>46</td>\n",
       "      <td>52951</td>\n",
       "      <td>56149</td>\n",
       "      <td>6%</td>\n",
       "      <td>2765 WEST SAINT MARY STREET</td>\n",
       "      <td>60647</td>\n",
       "      <td>14624</td>\n",
       "      <td>775</td>\n",
       "      <td>LITTLE MEL'S HOT DOG</td>\n",
       "      <td>2205 N CALIFORNIA AVE</td>\n",
       "      <td>60647</td>\n",
       "    </tr>\n",
       "    <tr>\n",
       "      <th>3</th>\n",
       "      <td>1</td>\n",
       "      <td>41</td>\n",
       "      <td>9</td>\n",
       "      <td>2</td>\n",
       "      <td>2</td>\n",
       "      <td>46</td>\n",
       "      <td>52951</td>\n",
       "      <td>56149</td>\n",
       "      <td>6%</td>\n",
       "      <td>2765 WEST SAINT MARY STREET</td>\n",
       "      <td>60647</td>\n",
       "      <td>14987</td>\n",
       "      <td>NaN</td>\n",
       "      <td>MR. BROWN'S LOUNGE</td>\n",
       "      <td>2301 W CHICAGO AVE 1ST</td>\n",
       "      <td>60622</td>\n",
       "    </tr>\n",
       "    <tr>\n",
       "      <th>4</th>\n",
       "      <td>1</td>\n",
       "      <td>41</td>\n",
       "      <td>9</td>\n",
       "      <td>2</td>\n",
       "      <td>2</td>\n",
       "      <td>46</td>\n",
       "      <td>52951</td>\n",
       "      <td>56149</td>\n",
       "      <td>6%</td>\n",
       "      <td>2765 WEST SAINT MARY STREET</td>\n",
       "      <td>60647</td>\n",
       "      <td>15642</td>\n",
       "      <td>814</td>\n",
       "      <td>Beat Kitchen</td>\n",
       "      <td>2000-2100 W DIVISION ST</td>\n",
       "      <td>60622</td>\n",
       "    </tr>\n",
       "  </tbody>\n",
       "</table>\n",
       "</div>"
      ]
     },
     "execution_count": 43,
     "metadata": {},
     "output_type": "execute_result"
    }
   ],
   "execution_count": 43
  },
  {
   "metadata": {},
   "cell_type": "markdown",
   "source": [
    "#### Instruction 2/3\n",
    "* Group `land_cen_lic` by `ward`, `pop_2010` (the population in 2010), and `vacant`, then count the number of `accounts`. Save the results to `pop_vac_lic`.\n"
   ],
   "id": "9dd4800724d5cb28"
  },
  {
   "metadata": {
    "ExecuteTime": {
     "end_time": "2024-12-04T09:40:19.032001Z",
     "start_time": "2024-12-04T09:40:19.005823Z"
    }
   },
   "cell_type": "code",
   "source": [
    "# Merge land_use and census and merge result with licenses including suffixes\n",
    "land_cen_lic = land_use.merge(census, on='ward') \\\n",
    "                    .merge(licenses, on='ward', suffixes=('_cen','_lic'))\n",
    "\n",
    "# Group by ward, pop_2010, and vacant, then count the # of accounts\n",
    "pop_vac_lic = land_cen_lic.groupby([\"ward\", \"pop_2010\", \"vacant\"],\n",
    "                                   as_index=False).agg({'account':'count'})\n",
    "\n",
    "pop_vac_lic.head()"
   ],
   "id": "a4e2674e5ec5c8dd",
   "outputs": [
    {
     "data": {
      "text/plain": [
       "  ward  pop_2010  vacant  account\n",
       "0    1     56149       2      253\n",
       "1   10     51535      14      130\n",
       "2   11     51497       5      201\n",
       "3   12     52235       4      255\n",
       "4   13     53722       1      101"
      ],
      "text/html": [
       "<div>\n",
       "<style scoped>\n",
       "    .dataframe tbody tr th:only-of-type {\n",
       "        vertical-align: middle;\n",
       "    }\n",
       "\n",
       "    .dataframe tbody tr th {\n",
       "        vertical-align: top;\n",
       "    }\n",
       "\n",
       "    .dataframe thead th {\n",
       "        text-align: right;\n",
       "    }\n",
       "</style>\n",
       "<table border=\"1\" class=\"dataframe\">\n",
       "  <thead>\n",
       "    <tr style=\"text-align: right;\">\n",
       "      <th></th>\n",
       "      <th>ward</th>\n",
       "      <th>pop_2010</th>\n",
       "      <th>vacant</th>\n",
       "      <th>account</th>\n",
       "    </tr>\n",
       "  </thead>\n",
       "  <tbody>\n",
       "    <tr>\n",
       "      <th>0</th>\n",
       "      <td>1</td>\n",
       "      <td>56149</td>\n",
       "      <td>2</td>\n",
       "      <td>253</td>\n",
       "    </tr>\n",
       "    <tr>\n",
       "      <th>1</th>\n",
       "      <td>10</td>\n",
       "      <td>51535</td>\n",
       "      <td>14</td>\n",
       "      <td>130</td>\n",
       "    </tr>\n",
       "    <tr>\n",
       "      <th>2</th>\n",
       "      <td>11</td>\n",
       "      <td>51497</td>\n",
       "      <td>5</td>\n",
       "      <td>201</td>\n",
       "    </tr>\n",
       "    <tr>\n",
       "      <th>3</th>\n",
       "      <td>12</td>\n",
       "      <td>52235</td>\n",
       "      <td>4</td>\n",
       "      <td>255</td>\n",
       "    </tr>\n",
       "    <tr>\n",
       "      <th>4</th>\n",
       "      <td>13</td>\n",
       "      <td>53722</td>\n",
       "      <td>1</td>\n",
       "      <td>101</td>\n",
       "    </tr>\n",
       "  </tbody>\n",
       "</table>\n",
       "</div>"
      ]
     },
     "execution_count": 46,
     "metadata": {},
     "output_type": "execute_result"
    }
   ],
   "execution_count": 46
  },
  {
   "metadata": {},
   "cell_type": "markdown",
   "source": [
    "#### Instruction 3/3\n",
    "\n",
    "* Sort `pop_vac_lic` by `vacant`, `account`, and`pop_2010` in descending, ascending, and ascending order respectively. Save it as `sorted_pop_vac_lic`.\n"
   ],
   "id": "f7ccac1697a47b6f"
  },
  {
   "metadata": {
    "ExecuteTime": {
     "end_time": "2024-12-04T09:45:05.314482Z",
     "start_time": "2024-12-04T09:45:05.291643Z"
    }
   },
   "cell_type": "code",
   "source": [
    "# Merge land_use and census and merge result with licenses including suffixes\n",
    "land_cen_lic = land_use.merge(census, on='ward') \\\n",
    "                    .merge(licenses, on='ward', suffixes=('_cen','_lic'))\n",
    "\n",
    "# Group by ward, pop_2010, and vacant, then count the # of accounts\n",
    "pop_vac_lic = land_cen_lic.groupby(['ward','pop_2010','vacant'],\n",
    "                                   as_index=False).agg({'account':'count'})\n",
    "\n",
    "# Sort pop_vac_lic and print the results\n",
    "sorted_pop_vac_lic = pop_vac_lic.sort_values(['vacant', 'account', 'pop_2010'],\n",
    "                                             ascending=[False, True, True])\n",
    "\n",
    "# Print the top few rows of sorted_pop_vac_lic\n",
    "print(sorted_pop_vac_lic.head())"
   ],
   "id": "9949ca91e489c94a",
   "outputs": [
    {
     "name": "stdout",
     "output_type": "stream",
     "text": [
      "   ward  pop_2010  vacant  account\n",
      "47    7     51581      19       80\n",
      "12   20     52372      15      123\n",
      "1    10     51535      14      130\n",
      "16   24     54909      13       98\n",
      "7    16     51954      13      156\n"
     ]
    }
   ],
   "execution_count": 52
  }
 ],
 "metadata": {
  "kernelspec": {
   "display_name": "Python 3",
   "language": "python",
   "name": "python3"
  },
  "language_info": {
   "codemirror_mode": {
    "name": "ipython",
    "version": 2
   },
   "file_extension": ".py",
   "mimetype": "text/x-python",
   "name": "python",
   "nbconvert_exporter": "python",
   "pygments_lexer": "ipython2",
   "version": "2.7.6"
  }
 },
 "nbformat": 4,
 "nbformat_minor": 5
}
