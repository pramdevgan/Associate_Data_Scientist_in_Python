{
 "cells": [
  {
   "source": "![New York City schoolbus](schoolbus.jpg)\n\nPhoto by [Jannis Lucas](https://unsplash.com/@jannis_lucas) on [Unsplash](https://unsplash.com).\n<br>\n\nEvery year, American high school students take SATs, which are standardized tests intended to measure literacy, numeracy, and writing skills. There are three sections - reading, math, and writing, each with a **maximum score of 800 points**. These tests are extremely important for students and colleges, as they play a pivotal role in the admissions process.\n\nAnalyzing the performance of schools is important for a variety of stakeholders, including policy and education professionals, researchers, government, and even parents considering which school their children should attend. \n\nYou have been provided with a dataset called `schools.csv`, which is previewed below.\n\nYou have been tasked with answering three key questions about New York City (NYC) public school SAT performance.",
   "metadata": {},
   "id": "fe0ea788-58dd-459e-8976-fafdb5c05c6d",
   "cell_type": "markdown"
  },
  {
   "metadata": {
    "ExecuteTime": {
     "end_time": "2024-11-27T17:04:10.436888Z",
     "start_time": "2024-11-27T17:04:10.409908Z"
    }
   },
   "cell_type": "code",
   "source": [
    "# Re-run this cell\n",
    "import pandas as pd\n",
    "\n",
    "# Read in the data\n",
    "schools = pd.read_csv(\"schools.csv\")\n",
    "\n",
    "# Preview the data\n",
    "schools.head()\n",
    "\n",
    "# Start coding here...\n",
    "# Add as many cells as you like..."
   ],
   "id": "35eb56559ccfe347",
   "outputs": [
    {
     "data": {
      "text/plain": [
       "                                         school_name    borough building_code  \\\n",
       "0  New Explorations into Science, Technology and ...  Manhattan          M022   \n",
       "1                               Essex Street Academy  Manhattan          M445   \n",
       "2                       Lower Manhattan Arts Academy  Manhattan          M445   \n",
       "3    High School for Dual Language and Asian Studies  Manhattan          M445   \n",
       "4      Henry Street School for International Studies  Manhattan          M056   \n",
       "\n",
       "   average_math  average_reading  average_writing  percent_tested  \n",
       "0           657              601              601             NaN  \n",
       "1           395              411              387            78.9  \n",
       "2           418              428              415            65.1  \n",
       "3           613              453              463            95.9  \n",
       "4           410              406              381            59.7  "
      ],
      "text/html": [
       "<div>\n",
       "<style scoped>\n",
       "    .dataframe tbody tr th:only-of-type {\n",
       "        vertical-align: middle;\n",
       "    }\n",
       "\n",
       "    .dataframe tbody tr th {\n",
       "        vertical-align: top;\n",
       "    }\n",
       "\n",
       "    .dataframe thead th {\n",
       "        text-align: right;\n",
       "    }\n",
       "</style>\n",
       "<table border=\"1\" class=\"dataframe\">\n",
       "  <thead>\n",
       "    <tr style=\"text-align: right;\">\n",
       "      <th></th>\n",
       "      <th>school_name</th>\n",
       "      <th>borough</th>\n",
       "      <th>building_code</th>\n",
       "      <th>average_math</th>\n",
       "      <th>average_reading</th>\n",
       "      <th>average_writing</th>\n",
       "      <th>percent_tested</th>\n",
       "    </tr>\n",
       "  </thead>\n",
       "  <tbody>\n",
       "    <tr>\n",
       "      <th>0</th>\n",
       "      <td>New Explorations into Science, Technology and ...</td>\n",
       "      <td>Manhattan</td>\n",
       "      <td>M022</td>\n",
       "      <td>657</td>\n",
       "      <td>601</td>\n",
       "      <td>601</td>\n",
       "      <td>NaN</td>\n",
       "    </tr>\n",
       "    <tr>\n",
       "      <th>1</th>\n",
       "      <td>Essex Street Academy</td>\n",
       "      <td>Manhattan</td>\n",
       "      <td>M445</td>\n",
       "      <td>395</td>\n",
       "      <td>411</td>\n",
       "      <td>387</td>\n",
       "      <td>78.9</td>\n",
       "    </tr>\n",
       "    <tr>\n",
       "      <th>2</th>\n",
       "      <td>Lower Manhattan Arts Academy</td>\n",
       "      <td>Manhattan</td>\n",
       "      <td>M445</td>\n",
       "      <td>418</td>\n",
       "      <td>428</td>\n",
       "      <td>415</td>\n",
       "      <td>65.1</td>\n",
       "    </tr>\n",
       "    <tr>\n",
       "      <th>3</th>\n",
       "      <td>High School for Dual Language and Asian Studies</td>\n",
       "      <td>Manhattan</td>\n",
       "      <td>M445</td>\n",
       "      <td>613</td>\n",
       "      <td>453</td>\n",
       "      <td>463</td>\n",
       "      <td>95.9</td>\n",
       "    </tr>\n",
       "    <tr>\n",
       "      <th>4</th>\n",
       "      <td>Henry Street School for International Studies</td>\n",
       "      <td>Manhattan</td>\n",
       "      <td>M056</td>\n",
       "      <td>410</td>\n",
       "      <td>406</td>\n",
       "      <td>381</td>\n",
       "      <td>59.7</td>\n",
       "    </tr>\n",
       "  </tbody>\n",
       "</table>\n",
       "</div>"
      ]
     },
     "execution_count": 7,
     "metadata": {},
     "output_type": "execute_result"
    }
   ],
   "execution_count": 7
  },
  {
   "metadata": {},
   "cell_type": "markdown",
   "source": [
    "Which NYC schools have the best math results?\n",
    "\n",
    "* The best math results are at least 80% of the ***maximum possible score of 800** * for math.\n",
    "* Save your results in a pandas DataFrame called `best_math_schools`, including `\"school_name\"` and `\"average_math\"` columns, sorted by `\"average_math\"` in descending order.\n",
    "\n",
    "What are the top 10 performing schools based on the combined SAT scores?\n",
    "\n",
    "* Save your results as a pandas DataFrame called `top_10_schools` containing the `\"school_name\"` and a new column named `\"total_SAT\"`, with results ordered by `\"total_SAT\"` in descending order (`\"total_SAT\"` being the sum of math, reading, and writing scores).\n",
    "\n",
    "Which single borough has the largest standard deviation in the combined SAT score?\n",
    "\n",
    "* Save your results as a pandas DataFrame called `largest_std_dev`.\n",
    "* The DataFrame should contain one row, with:\n",
    "  * `\"borough\"` - the name of the NYC borough with the largest standard deviation of `\"total_SAT\"`.\n",
    "  * `\"num_schools\"` - the number of schools in the borough.\n",
    "  * `\"average_SAT\"` - the mean of `\"total_SAT\"`.\n",
    "  * `\"std_SAT\"` - the standard deviation of `\"total_SAT\"`.\n",
    "* Round all numeric values to two decimal places.\n"
   ],
   "id": "64db1ab768254843"
  },
  {
   "metadata": {
    "ExecuteTime": {
     "end_time": "2024-11-27T17:09:08.069132Z",
     "start_time": "2024-11-27T17:09:08.015402Z"
    }
   },
   "cell_type": "code",
   "source": [
    "# Task 1\n",
    "best_math_schools = schools[schools[\"average_math\"] > 0.8 * 800][[\"school_name\", \"average_math\"]]\n",
    "\n",
    "print(best_math_schools)"
   ],
   "id": "b61516c2a522e6d1",
   "outputs": [
    {
     "name": "stdout",
     "output_type": "stream",
     "text": [
      "                                           school_name  average_math\n",
      "0    New Explorations into Science, Technology and ...           657\n",
      "45                       Eleanor Roosevelt High School           641\n",
      "68   High School for Mathematics, Science, and Engi...           683\n",
      "88                              Stuyvesant High School           754\n",
      "93                 Staten Island Technical High School           711\n",
      "170                       Bronx High School of Science           714\n",
      "174  High School of American Studies at Lehman College           669\n",
      "280                     Brooklyn Technical High School           682\n",
      "333                        Townsend Harris High School           680\n",
      "365  Queens High School for the Sciences at York Co...           701\n"
     ]
    }
   ],
   "execution_count": 10
  },
  {
   "metadata": {
    "ExecuteTime": {
     "end_time": "2024-11-27T17:11:16.885342Z",
     "start_time": "2024-11-27T17:11:16.485592Z"
    }
   },
   "cell_type": "code",
   "source": [
    "# Task 2\n",
    "best_math_schools = best_math_schools.sort_values(by=\"average_math\", ascending=False)\n",
    "print(best_math_schools.head())"
   ],
   "id": "488b357bc613836d",
   "outputs": [
    {
     "name": "stdout",
     "output_type": "stream",
     "text": [
      "                                           school_name  average_math\n",
      "88                              Stuyvesant High School           754\n",
      "170                       Bronx High School of Science           714\n",
      "93                 Staten Island Technical High School           711\n",
      "365  Queens High School for the Sciences at York Co...           701\n",
      "68   High School for Mathematics, Science, and Engi...           683\n"
     ]
    }
   ],
   "execution_count": 12
  },
  {
   "metadata": {
    "ExecuteTime": {
     "end_time": "2024-11-27T17:16:43.641553Z",
     "start_time": "2024-11-27T17:16:43.624978Z"
    }
   },
   "cell_type": "code",
   "source": [
    "# Display the top 10 performing schools based on combined SAT scores\n",
    "\n",
    "schools[\"total_SAT\"] = schools[\"average_math\"] + schools[\"average_reading\"] + schools[\"average_writing\"]\n",
    "\n",
    "schools.head()\n"
   ],
   "id": "f11490139e726c3b",
   "outputs": [
    {
     "data": {
      "text/plain": [
       "                                         school_name    borough building_code  \\\n",
       "0  New Explorations into Science, Technology and ...  Manhattan          M022   \n",
       "1                               Essex Street Academy  Manhattan          M445   \n",
       "2                       Lower Manhattan Arts Academy  Manhattan          M445   \n",
       "3    High School for Dual Language and Asian Studies  Manhattan          M445   \n",
       "4      Henry Street School for International Studies  Manhattan          M056   \n",
       "\n",
       "   average_math  average_reading  average_writing  percent_tested  total_SAT  \n",
       "0           657              601              601             NaN       1859  \n",
       "1           395              411              387            78.9       1193  \n",
       "2           418              428              415            65.1       1261  \n",
       "3           613              453              463            95.9       1529  \n",
       "4           410              406              381            59.7       1197  "
      ],
      "text/html": [
       "<div>\n",
       "<style scoped>\n",
       "    .dataframe tbody tr th:only-of-type {\n",
       "        vertical-align: middle;\n",
       "    }\n",
       "\n",
       "    .dataframe tbody tr th {\n",
       "        vertical-align: top;\n",
       "    }\n",
       "\n",
       "    .dataframe thead th {\n",
       "        text-align: right;\n",
       "    }\n",
       "</style>\n",
       "<table border=\"1\" class=\"dataframe\">\n",
       "  <thead>\n",
       "    <tr style=\"text-align: right;\">\n",
       "      <th></th>\n",
       "      <th>school_name</th>\n",
       "      <th>borough</th>\n",
       "      <th>building_code</th>\n",
       "      <th>average_math</th>\n",
       "      <th>average_reading</th>\n",
       "      <th>average_writing</th>\n",
       "      <th>percent_tested</th>\n",
       "      <th>total_SAT</th>\n",
       "    </tr>\n",
       "  </thead>\n",
       "  <tbody>\n",
       "    <tr>\n",
       "      <th>0</th>\n",
       "      <td>New Explorations into Science, Technology and ...</td>\n",
       "      <td>Manhattan</td>\n",
       "      <td>M022</td>\n",
       "      <td>657</td>\n",
       "      <td>601</td>\n",
       "      <td>601</td>\n",
       "      <td>NaN</td>\n",
       "      <td>1859</td>\n",
       "    </tr>\n",
       "    <tr>\n",
       "      <th>1</th>\n",
       "      <td>Essex Street Academy</td>\n",
       "      <td>Manhattan</td>\n",
       "      <td>M445</td>\n",
       "      <td>395</td>\n",
       "      <td>411</td>\n",
       "      <td>387</td>\n",
       "      <td>78.9</td>\n",
       "      <td>1193</td>\n",
       "    </tr>\n",
       "    <tr>\n",
       "      <th>2</th>\n",
       "      <td>Lower Manhattan Arts Academy</td>\n",
       "      <td>Manhattan</td>\n",
       "      <td>M445</td>\n",
       "      <td>418</td>\n",
       "      <td>428</td>\n",
       "      <td>415</td>\n",
       "      <td>65.1</td>\n",
       "      <td>1261</td>\n",
       "    </tr>\n",
       "    <tr>\n",
       "      <th>3</th>\n",
       "      <td>High School for Dual Language and Asian Studies</td>\n",
       "      <td>Manhattan</td>\n",
       "      <td>M445</td>\n",
       "      <td>613</td>\n",
       "      <td>453</td>\n",
       "      <td>463</td>\n",
       "      <td>95.9</td>\n",
       "      <td>1529</td>\n",
       "    </tr>\n",
       "    <tr>\n",
       "      <th>4</th>\n",
       "      <td>Henry Street School for International Studies</td>\n",
       "      <td>Manhattan</td>\n",
       "      <td>M056</td>\n",
       "      <td>410</td>\n",
       "      <td>406</td>\n",
       "      <td>381</td>\n",
       "      <td>59.7</td>\n",
       "      <td>1197</td>\n",
       "    </tr>\n",
       "  </tbody>\n",
       "</table>\n",
       "</div>"
      ]
     },
     "execution_count": 15,
     "metadata": {},
     "output_type": "execute_result"
    }
   ],
   "execution_count": 15
  },
  {
   "metadata": {
    "ExecuteTime": {
     "end_time": "2024-11-27T17:19:58.608833Z",
     "start_time": "2024-11-27T17:19:58.594773Z"
    }
   },
   "cell_type": "code",
   "source": [
    "top_10_schools = schools[[\"school_name\", \"total_SAT\"]].sort_values(by=\"total_SAT\", ascending=False).head(10)\n",
    "print(top_10_schools)"
   ],
   "id": "509bbb523b3a0eeb",
   "outputs": [
    {
     "name": "stdout",
     "output_type": "stream",
     "text": [
      "                                           school_name  total_SAT\n",
      "88                              Stuyvesant High School       2144\n",
      "170                       Bronx High School of Science       2041\n",
      "93                 Staten Island Technical High School       2041\n",
      "174  High School of American Studies at Lehman College       2013\n",
      "333                        Townsend Harris High School       1981\n",
      "365  Queens High School for the Sciences at York Co...       1947\n",
      "5                       Bard High School Early College       1914\n",
      "280                     Brooklyn Technical High School       1896\n",
      "45                       Eleanor Roosevelt High School       1889\n",
      "68   High School for Mathematics, Science, and Engi...       1889\n"
     ]
    }
   ],
   "execution_count": 21
  },
  {
   "metadata": {
    "ExecuteTime": {
     "end_time": "2024-11-27T17:25:31.513136Z",
     "start_time": "2024-11-27T17:25:31.384266Z"
    }
   },
   "cell_type": "code",
   "source": [
    "borough_stats = schools.groupby('borough').agg(\n",
    "    num_schools=('school_name', 'count'),\n",
    "    average_SAT=('total_SAT', 'mean'),\n",
    "    std_SAT=('total_SAT', 'std')\n",
    ").reset_index()\n",
    "\n",
    "print(borough_stats)"
   ],
   "id": "cccc7c4ca68c4605",
   "outputs": [
    {
     "name": "stdout",
     "output_type": "stream",
     "text": [
      "         borough  num_schools  average_SAT     std_SAT\n",
      "0          Bronx           98  1202.724490  150.393901\n",
      "1       Brooklyn          109  1230.256881  154.868427\n",
      "2      Manhattan           89  1340.134831  230.294140\n",
      "3         Queens           69  1345.478261  195.252899\n",
      "4  Staten Island           10  1439.000000  222.303596\n"
     ]
    }
   ],
   "execution_count": 22
  },
  {
   "metadata": {
    "ExecuteTime": {
     "end_time": "2024-11-27T17:25:54.174357Z",
     "start_time": "2024-11-27T17:25:54.156578Z"
    }
   },
   "cell_type": "code",
   "source": "largest_std_dev_row = borough_stats.loc[borough_stats['std_SAT'].idxmax()]",
   "id": "f144950bdcc4b5e5",
   "outputs": [],
   "execution_count": 23
  },
  {
   "metadata": {
    "ExecuteTime": {
     "end_time": "2024-11-27T17:26:05.693967Z",
     "start_time": "2024-11-27T17:26:05.687557Z"
    }
   },
   "cell_type": "code",
   "source": [
    "largest_std_dev = pd.DataFrame([{\n",
    "    'borough': largest_std_dev_row['borough'],\n",
    "    'num_schools': largest_std_dev_row['num_schools'],\n",
    "    'average_SAT': round(largest_std_dev_row['average_SAT'], 2),\n",
    "    'std_SAT': round(largest_std_dev_row['std_SAT'], 2)\n",
    "}])"
   ],
   "id": "8a03b0c1026cba41",
   "outputs": [],
   "execution_count": 24
  },
  {
   "metadata": {
    "ExecuteTime": {
     "end_time": "2024-11-27T17:26:16.735018Z",
     "start_time": "2024-11-27T17:26:16.717018Z"
    }
   },
   "cell_type": "code",
   "source": "print(largest_std_dev)",
   "id": "74a078cd4abf0627",
   "outputs": [
    {
     "name": "stdout",
     "output_type": "stream",
     "text": [
      "     borough  num_schools  average_SAT  std_SAT\n",
      "0  Manhattan           89      1340.13   230.29\n"
     ]
    }
   ],
   "execution_count": 25
  }
 ],
 "metadata": {
  "language_info": {
   "name": "R",
   "codemirror_mode": "r",
   "pygments_lexer": "r",
   "mimetype": "text/x-r-source",
   "file_extension": ".r",
   "version": "4.2.1"
  },
  "kernelspec": {
   "display_name": "Python 3 (ipykernel)",
   "language": "python",
   "name": "python3"
  },
  "editor": "DataCamp Workspace"
 },
 "nbformat": 4,
 "nbformat_minor": 5
}
