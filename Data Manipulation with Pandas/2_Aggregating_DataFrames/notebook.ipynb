{
 "cells": [
  {
   "metadata": {},
   "cell_type": "markdown",
   "source": [
    "# Aggregating DataFrames\n",
    "In this chapter, you’ll calculate summary statistics on DataFrame columns, and master grouped summary statistics and pivot tables."
   ],
   "id": "20a2a22662a9562a"
  },
  {
   "metadata": {},
   "cell_type": "markdown",
   "source": [
    "## Summary Statistics\n",
    "Summary statistics, as follows from their name, are numbers that summarize and tell you about your dataset."
   ],
   "id": "a3040666c1784eb8"
  },
  {
   "metadata": {},
   "cell_type": "markdown",
   "source": [
    "### Summarizing numerical data\n",
    "`Mean`: which is one way of telling you where the \"center\" of your data is.\n",
    "\n",
    "There are other Summary Statistics:\n",
    "- `.median()`\n",
    "- `.mode()`\n",
    "- `.min()`\n",
    "- `.max()`\n",
    "- `.var()` variance \n",
    "- `.std()` standard deviation\n",
    "- `.sum()`\n",
    "- `.quantiles()`\n",
    "\n",
    "```python\n",
    "digs[\"height_cm\"].mean()\n",
    "```"
   ],
   "id": "21826c551424a66"
  },
  {
   "metadata": {},
   "cell_type": "markdown",
   "source": [
    "- Oldest dog\n",
    "```python\n",
    "dogs[\"date_of_birth\"].min()\n",
    "```\n",
    "\n",
    "- Youngest Dog:\n",
    "```python\n",
    "dogs[\"date_of_birth\"].max()\n",
    "```\n",
    "\n",
    "## The `.agg()` method\n",
    "The `aggregate`, or `agg`, method allows you to compute custom `summary statistics`.\n",
    "\n",
    "\n",
    "```python\n",
    "###\n",
    "# pct30 Computes thirtieth percentile of DataFrame column.\n",
    "###\n",
    "def pct30(column):\n",
    "    return column.quantile(0.3)\n",
    "dogs[\"weight_kg\"].agg(pct30)\n",
    "\n",
    "dogs[[\"weight_kg\", \"height_cm\"]].agg(pct30)\n",
    "```\n"
   ],
   "id": "14ea37d1ee1512d3"
  },
  {
   "metadata": {},
   "cell_type": "markdown",
   "source": [
    "## Multiple Summaries\n",
    "\n",
    "```python\n",
    "def pct40(column):\n",
    "    return column.quantile(0.4)\n",
    "\n",
    "dogs[\"weight_kg\"].agg([pct30, pct40])\n",
    "```"
   ],
   "id": "3bf48e420148d584"
  },
  {
   "metadata": {},
   "cell_type": "markdown",
   "source": [
    "### Cumulative Sum\n",
    "\n",
    "```python\n",
    "dogs[\"weight_kg\"].cumsum()\n",
    "```"
   ],
   "id": "6d8f8ec7d5462bb8"
  },
  {
   "metadata": {},
   "cell_type": "markdown",
   "source": [
    "### Cumulative Statistics\n",
    "\n",
    "- `.cummax()`\n",
    "- `.cummin()`\n",
    "- `.cumprod()`"
   ],
   "id": "4930c885720a7f78"
  },
  {
   "metadata": {},
   "cell_type": "markdown",
   "source": [
    "# Mean and median\n",
    "\n",
    "Summary statistics are exactly what they sound like - they summarize many numbers in one statistic. For example, mean, median, minimum, maximum, and standard deviation are summary statistics. Calculating summary statistics allows you to get a better sense of your data, even if there's a lot of it.\n",
    "\n",
    "`sales` is available and `pandas` is loaded as `pd`.\n",
    "\n",
    "## Instructions         **100 XP**\n",
    "\n",
    "* Explore your new DataFrame first by printing the first few rows of the `sales` DataFrame.\n",
    "* Print information about the columns in `sales`.\n",
    "* Print the mean of the `weekly_sales` column.\n",
    "* Print the median of the `weekly_sales` column.\n"
   ],
   "id": "e076b113752af4e8"
  },
  {
   "metadata": {
    "ExecuteTime": {
     "end_time": "2024-11-19T12:24:40.852287Z",
     "start_time": "2024-11-19T12:24:40.824163Z"
    }
   },
   "cell_type": "code",
   "source": [
    "import pandas as pd\n",
    "sales = pd.read_csv('../../data/sales_subset.csv')"
   ],
   "id": "6a9d1434e5a85b3a",
   "outputs": [],
   "execution_count": 16
  },
  {
   "metadata": {
    "ExecuteTime": {
     "end_time": "2024-11-19T12:24:42.072821Z",
     "start_time": "2024-11-19T12:24:42.051011Z"
    }
   },
   "cell_type": "code",
   "source": [
    "# Print the head of the sales DataFrame\n",
    "print(sales.head())\n",
    "\n",
    "# Print the info about the sales DataFrame\n",
    "print(sales.info())\n",
    "\n",
    "# Print the mean of weekly_sales\n",
    "print(sales[\"weekly_sales\"].mean())\n",
    "\n",
    "# Print the median of weekly_sales\n",
    "print(sales[\"weekly_sales\"].median())"
   ],
   "id": "267fd152f6407c28",
   "outputs": [
    {
     "name": "stdout",
     "output_type": "stream",
     "text": [
      "   Unnamed: 0  store type  department        date  weekly_sales  is_holiday  \\\n",
      "0           0      1    A           1  2010-02-05      24924.50       False   \n",
      "1           1      1    A           1  2010-03-05      21827.90       False   \n",
      "2           2      1    A           1  2010-04-02      57258.43       False   \n",
      "3           3      1    A           1  2010-05-07      17413.94       False   \n",
      "4           4      1    A           1  2010-06-04      17558.09       False   \n",
      "\n",
      "   temperature_c  fuel_price_usd_per_l  unemployment  \n",
      "0       5.727778              0.679451         8.106  \n",
      "1       8.055556              0.693452         8.106  \n",
      "2      16.816667              0.718284         7.808  \n",
      "3      22.527778              0.748928         7.808  \n",
      "4      27.050000              0.714586         7.808  \n",
      "<class 'pandas.core.frame.DataFrame'>\n",
      "RangeIndex: 10774 entries, 0 to 10773\n",
      "Data columns (total 10 columns):\n",
      " #   Column                Non-Null Count  Dtype  \n",
      "---  ------                --------------  -----  \n",
      " 0   Unnamed: 0            10774 non-null  int64  \n",
      " 1   store                 10774 non-null  int64  \n",
      " 2   type                  10774 non-null  object \n",
      " 3   department            10774 non-null  int64  \n",
      " 4   date                  10774 non-null  object \n",
      " 5   weekly_sales          10774 non-null  float64\n",
      " 6   is_holiday            10774 non-null  bool   \n",
      " 7   temperature_c         10774 non-null  float64\n",
      " 8   fuel_price_usd_per_l  10774 non-null  float64\n",
      " 9   unemployment          10774 non-null  float64\n",
      "dtypes: bool(1), float64(4), int64(3), object(2)\n",
      "memory usage: 768.2+ KB\n",
      "None\n",
      "23843.95014850566\n",
      "12049.064999999999\n"
     ]
    }
   ],
   "execution_count": 17
  },
  {
   "metadata": {},
   "cell_type": "markdown",
   "source": [
    "# Summarizing dates\n",
    "\n",
    "Summary statistics can also be calculated on date columns that have values with the data type `datetime64`. Some summary statistics — like mean — don't make a ton of sense on dates, but others are super helpful, for example, minimum and maximum, which allow you to see what time range your data covers.\n",
    "\n",
    "`sales` is available and `pandas` is loaded as `pd`.\n",
    "\n",
    "## Instructions         **100 XP**\n",
    "\n",
    "* Print the maximum of the `date` column.\n",
    "* Print the minimum of the `date` column.\n"
   ],
   "id": "a49bf2bced6b7f3a"
  },
  {
   "metadata": {
    "ExecuteTime": {
     "end_time": "2024-11-19T12:24:43.178420Z",
     "start_time": "2024-11-19T12:24:43.156197Z"
    }
   },
   "cell_type": "code",
   "source": [
    "# Print the maximum of the date column\n",
    "print(sales[\"date\"].max())\n",
    "\n",
    "# Print the minimum of the date column\n",
    "print(sales[\"date\"].min())"
   ],
   "id": "c4693f1eee3da55e",
   "outputs": [
    {
     "name": "stdout",
     "output_type": "stream",
     "text": [
      "2012-10-26\n",
      "2010-02-05\n"
     ]
    }
   ],
   "execution_count": 18
  },
  {
   "metadata": {},
   "cell_type": "markdown",
   "source": [
    "# Efficient summaries\n",
    "\n",
    "While pandas and NumPy have tons of functions, sometimes, you may need a different function to summarize your data.\n",
    "\n",
    "The `.agg()` method allows you to apply your own custom functions to a DataFrame, as well as apply functions to more than one column of a DataFrame at once, making your aggregations super-efficient. For example,\n",
    "\n",
    "```\n",
    "df['column'].agg(function)\n",
    "```\n",
    "\n",
    "In the custom function for this exercise, \"IQR\" is short for inter-quartile range, which is the 75th percentile minus the 25th percentile. It's an alternative to standard deviation that is helpful if your data contains outliers.\n",
    "\n",
    "`sales` is available and `pandas` is loaded as `pd`.\n"
   ],
   "id": "78ce861e95656f06"
  },
  {
   "metadata": {},
   "cell_type": "markdown",
   "source": [
    "#### Task 1/3\n",
    "- Use the custom `iqr` function defined for you along with `.agg()` to print the IQR of the `temperature_c` column of `sales`.\n"
   ],
   "id": "b3358ae17a57aff3"
  },
  {
   "metadata": {
    "ExecuteTime": {
     "end_time": "2024-11-19T12:24:46.743951Z",
     "start_time": "2024-11-19T12:24:46.736532Z"
    }
   },
   "cell_type": "code",
   "source": [
    "# A custom IQR function\n",
    "def iqr(column):\n",
    "    return column.quantile(0.75) - column.quantile(0.25)\n",
    "    \n",
    "# Print IQR of the temperature_c column\n",
    "print(sales[\"temperature_c\"].agg(iqr))"
   ],
   "id": "aa8f3fa094d448ac",
   "outputs": [
    {
     "name": "stdout",
     "output_type": "stream",
     "text": [
      "16.583333333333336\n"
     ]
    }
   ],
   "execution_count": 20
  },
  {
   "metadata": {},
   "cell_type": "markdown",
   "source": [
    "#### Task 2/3\n",
    "* Update the column selection to use the custom `iqr` function with `.agg()` to print the IQR of `temperature_c`, `fuel_price_usd_per_l`, and `unemployment`, in that order.\n"
   ],
   "id": "4af2bbaf715db46f"
  },
  {
   "metadata": {
    "ExecuteTime": {
     "end_time": "2024-11-19T12:24:46.919057Z",
     "start_time": "2024-11-19T12:24:46.905288Z"
    }
   },
   "cell_type": "code",
   "source": [
    "# A custom IQR function\n",
    "def iqr(column):\n",
    "    return column.quantile(0.75) - column.quantile(0.25)\n",
    "\n",
    "# Update to print IQR of temperature_c, fuel_price_usd_per_l, & unemployment\n",
    "print(sales[[\"temperature_c\", \"fuel_price_usd_per_l\", \"unemployment\"]].agg(iqr))"
   ],
   "id": "de818fce5b9381cf",
   "outputs": [
    {
     "name": "stdout",
     "output_type": "stream",
     "text": [
      "temperature_c           16.583333\n",
      "fuel_price_usd_per_l     0.073176\n",
      "unemployment             0.565000\n",
      "dtype: float64\n"
     ]
    }
   ],
   "execution_count": 21
  },
  {
   "metadata": {},
   "cell_type": "markdown",
   "source": [
    "#### Task 3/3\n",
    "* Update the aggregation functions called by `.agg()`: include `iqr` and `np.median` in that order.\n"
   ],
   "id": "c208895c7630d2a4"
  },
  {
   "metadata": {
    "ExecuteTime": {
     "end_time": "2024-11-19T12:24:46.978977Z",
     "start_time": "2024-11-19T12:24:46.959315Z"
    }
   },
   "cell_type": "code",
   "source": [
    "# Import NumPy and create custom IQR function\n",
    "import numpy as np\n",
    "def iqr(column):\n",
    "    return column.quantile(0.75) - column.quantile(0.25)\n",
    "\n",
    "# Update to print IQR and median of temperature_c, fuel_price_usd_per_l, & unemployment\n",
    "print(sales[[\"temperature_c\", \"fuel_price_usd_per_l\", \"unemployment\"]].agg([iqr, np.median]))"
   ],
   "id": "c9e622da33b62ca8",
   "outputs": [
    {
     "name": "stdout",
     "output_type": "stream",
     "text": [
      "        temperature_c  fuel_price_usd_per_l  unemployment\n",
      "iqr         16.583333              0.073176         0.565\n",
      "median      16.966667              0.743381         8.099\n"
     ]
    },
    {
     "name": "stderr",
     "output_type": "stream",
     "text": [
      "C:\\Users\\vpram\\AppData\\Local\\Temp\\ipykernel_27376\\681344053.py:7: FutureWarning: The provided callable <function median at 0x000001B670260D60> is currently using Series.median. In a future version of pandas, the provided callable will be used directly. To keep current behavior pass the string \"median\" instead.\n",
      "  print(sales[[\"temperature_c\", \"fuel_price_usd_per_l\", \"unemployment\"]].agg([iqr, np.median]))\n",
      "C:\\Users\\vpram\\AppData\\Local\\Temp\\ipykernel_27376\\681344053.py:7: FutureWarning: The provided callable <function median at 0x000001B670260D60> is currently using Series.median. In a future version of pandas, the provided callable will be used directly. To keep current behavior pass the string \"median\" instead.\n",
      "  print(sales[[\"temperature_c\", \"fuel_price_usd_per_l\", \"unemployment\"]].agg([iqr, np.median]))\n",
      "C:\\Users\\vpram\\AppData\\Local\\Temp\\ipykernel_27376\\681344053.py:7: FutureWarning: The provided callable <function median at 0x000001B670260D60> is currently using Series.median. In a future version of pandas, the provided callable will be used directly. To keep current behavior pass the string \"median\" instead.\n",
      "  print(sales[[\"temperature_c\", \"fuel_price_usd_per_l\", \"unemployment\"]].agg([iqr, np.median]))\n"
     ]
    }
   ],
   "execution_count": 22
  },
  {
   "metadata": {},
   "cell_type": "markdown",
   "source": [
    "# Cumulative statistics\n",
    "\n",
    "Cumulative statistics can also be helpful in tracking summary statistics over time. In this exercise, you'll calculate the cumulative sum and cumulative max of a department's weekly sales, which will allow you to identify what the total sales were so far as well as what the highest weekly sales were so far.\n",
    "\n",
    "A DataFrame called `sales_1_1` has been created for you, which contains the sales data for department 1 of store 1. `pandas` is loaded as `pd`.\n",
    "\n",
    "## Instructions     **100 XP**\n",
    "\n",
    "* Sort the rows of `sales_1_1` by the `date` column in ascending order.\n",
    "* Get the cumulative sum of `weekly_sales` and add it as a new column of `sales_1_1` called `cum_weekly_sales`.\n",
    "* Get the cumulative maximum of `weekly_sales`, and add it as a column called `cum_max_sales`.\n",
    "* Print the `date`, `weekly_sales`, `cum_weekly_sales`, and `cum_max_sales` columns.\n"
   ],
   "id": "ce757139e612c66f"
  },
  {
   "metadata": {
    "ExecuteTime": {
     "end_time": "2024-11-19T12:24:47.105939Z",
     "start_time": "2024-11-19T12:24:47.081376Z"
    }
   },
   "cell_type": "code",
   "source": [
    "sales_1_1 = sales\n",
    "\n",
    "# Sort sales_1_1 by date\n",
    "sales_1_1 = sales_1_1.sort_values(\"date\")\n",
    "\n",
    "# Get the cumulative sum of weekly_sales, add as cum_weekly_sales col\n",
    "sales_1_1[\"cum_weekly_sales\"] = sales_1_1[\"weekly_sales\"].cumsum()\n",
    "\n",
    "# Get the cumulative max of weekly_sales, add as cum_max_sales col\n",
    "sales_1_1[\"cum_max_sales\"] = sales_1_1[\"weekly_sales\"].cummax()\n",
    "\n",
    "# See the columns you calculated\n",
    "print(sales_1_1[[\"date\", \"weekly_sales\", \"cum_weekly_sales\", \"cum_max_sales\"]])"
   ],
   "id": "b61cab7f5e7db0ca",
   "outputs": [
    {
     "name": "stdout",
     "output_type": "stream",
     "text": [
      "             date  weekly_sales  cum_weekly_sales  cum_max_sales\n",
      "0      2010-02-05      24924.50      2.492450e+04       24924.50\n",
      "6437   2010-02-05      38597.52      6.352202e+04       38597.52\n",
      "1249   2010-02-05       3840.21      6.736223e+04       38597.52\n",
      "6449   2010-02-05      17590.59      8.495282e+04       38597.52\n",
      "6461   2010-02-05       4929.87      8.988269e+04       38597.52\n",
      "...           ...           ...               ...            ...\n",
      "3592   2012-10-05        440.00      2.568932e+08      293966.05\n",
      "8108   2012-10-05        660.00      2.568938e+08      293966.05\n",
      "10773  2012-10-05        915.00      2.568947e+08      293966.05\n",
      "6257   2012-10-12          3.00      2.568947e+08      293966.05\n",
      "3384   2012-10-26        -21.63      2.568947e+08      293966.05\n",
      "\n",
      "[10774 rows x 4 columns]\n"
     ]
    }
   ],
   "execution_count": 23
  },
  {
   "metadata": {},
   "cell_type": "markdown",
   "source": [
    "## Avoiding Double Counting\n",
    "\n",
    "- Drooping duplicate name\n",
    "    - we'll extract a dog with each name from the dataset once. \n",
    "```python\n",
    "vet_visits.drop_duplicates(subset=\"name\")\n",
    "```"
   ],
   "id": "8c82a356a7732c04"
  },
  {
   "metadata": {},
   "cell_type": "markdown",
   "source": [
    "## Dropping Duplicate Pairs\n",
    "\n",
    "Since Max and Max are different breeds, we can drop the rows with pairs of name and breed listed earlier in the dataset.\n",
    "\n",
    "```python\n",
    "unique_dogs = vet_visits.drop_duplicates(subset=[\"name\", \"bread\"])\n",
    "print(unique_dogs)\n",
    "```"
   ],
   "id": "15c871e359bb4df7"
  },
  {
   "metadata": {},
   "cell_type": "markdown",
   "source": [
    "### Easy as 1,2,3\n",
    "\n",
    "```python\n",
    "unique_dogs[\"bread\"].value_counts()\n",
    "\n",
    "unique_dogs[\"bread\"].value_counts(sort=True)\n",
    "```"
   ],
   "id": "87971d0533dfa73a"
  },
  {
   "metadata": {},
   "cell_type": "markdown",
   "source": [
    "### Proportions\n",
    "\n",
    "The normalize argument can be used to turn the counts into proportions of the total. `25%` of the dogs that go to this vet are Labradors.\n",
    "\n",
    "```python\n",
    "unique_dogs[\"bread\"].value_counts(normalize=True)\n",
    "```"
   ],
   "id": "f90959630c74ca2b"
  },
  {
   "metadata": {},
   "cell_type": "markdown",
   "source": [
    "# Dropping duplicates\n",
    "\n",
    "Removing duplicates is an essential skill to get accurate counts because often, you don't want to count the same thing multiple times. In this exercise, you'll create some new DataFrames using unique values from `sales`.\n",
    "\n",
    "`sales` is available and `pandas` is imported as `pd`.\n",
    "\n",
    "## Instructions             **100 XP**\n",
    "\n",
    "* Remove rows of `sales` with duplicate pairs of `store` and `type` and save as `store_types` and print the head.\n",
    "* Remove rows of `sales` with duplicate pairs of `store` and `department` and save as `store_depts` and print the head.\n",
    "* Subset the rows that are holiday weeks using the `is_holiday` column, and drop the duplicate `date`s, saving as `holiday_dates`.\n",
    "* Select the `date` column of `holiday_dates`, and print.\n"
   ],
   "id": "4cbf2ed37dd228b1"
  },
  {
   "metadata": {
    "ExecuteTime": {
     "end_time": "2024-11-19T12:24:47.232125Z",
     "start_time": "2024-11-19T12:24:47.200376Z"
    }
   },
   "cell_type": "code",
   "source": [
    "# Drop duplicate store/type combinations\n",
    "store_types = sales.drop_duplicates(subset=[\"store\", \"type\"])\n",
    "print(store_types.head())\n",
    "\n",
    "# Drop duplicate store/department combinations\n",
    "store_depts = sales.drop_duplicates(subset=[\"store\", \"department\"])\n",
    "print(store_depts.head())\n",
    "\n",
    "# Subset the rows where is_holiday is True and drop duplicate dates\n",
    "holiday_dates = sales[sales[\"is_holiday\"] == True].drop_duplicates(subset=\"date\")\n",
    "\n",
    "# Print date col of holiday_dates\n",
    "print(holiday_dates)"
   ],
   "id": "49a6cb48e38928f2",
   "outputs": [
    {
     "name": "stdout",
     "output_type": "stream",
     "text": [
      "      Unnamed: 0  store type  department        date  weekly_sales  \\\n",
      "0              0      1    A           1  2010-02-05      24924.50   \n",
      "901          901      2    A           1  2010-02-05      35034.06   \n",
      "1798        1798      4    A           1  2010-02-05      38724.42   \n",
      "2699        2699      6    A           1  2010-02-05      25619.00   \n",
      "3593        3593     10    B           1  2010-02-05      40212.84   \n",
      "\n",
      "      is_holiday  temperature_c  fuel_price_usd_per_l  unemployment  \n",
      "0          False       5.727778              0.679451         8.106  \n",
      "901        False       4.550000              0.679451         8.324  \n",
      "1798       False       6.533333              0.686319         8.623  \n",
      "2699       False       4.683333              0.679451         7.259  \n",
      "3593       False      12.411111              0.782478         9.765  \n",
      "    Unnamed: 0  store type  department        date  weekly_sales  is_holiday  \\\n",
      "0            0      1    A           1  2010-02-05      24924.50       False   \n",
      "12          12      1    A           2  2010-02-05      50605.27       False   \n",
      "24          24      1    A           3  2010-02-05      13740.12       False   \n",
      "36          36      1    A           4  2010-02-05      39954.04       False   \n",
      "48          48      1    A           5  2010-02-05      32229.38       False   \n",
      "\n",
      "    temperature_c  fuel_price_usd_per_l  unemployment  \n",
      "0        5.727778              0.679451         8.106  \n",
      "12       5.727778              0.679451         8.106  \n",
      "24       5.727778              0.679451         8.106  \n",
      "36       5.727778              0.679451         8.106  \n",
      "48       5.727778              0.679451         8.106  \n",
      "      Unnamed: 0  store type  department        date  weekly_sales  \\\n",
      "498          498      1    A          45  2010-09-10         11.47   \n",
      "691          691      1    A          77  2011-11-25       1431.00   \n",
      "2315        2315      4    A          47  2010-02-12        498.00   \n",
      "6735        6735     19    A          39  2012-09-07         13.41   \n",
      "6810        6810     19    A          47  2010-12-31       -449.00   \n",
      "6815        6815     19    A          47  2012-02-10         15.00   \n",
      "6820        6820     19    A          48  2011-09-09        197.00   \n",
      "\n",
      "      is_holiday  temperature_c  fuel_price_usd_per_l  unemployment  \n",
      "498         True      25.938889              0.677602         7.787  \n",
      "691         True      15.633333              0.854861         7.866  \n",
      "2315        True      -1.755556              0.679715         8.623  \n",
      "6735        True      22.333333              1.076766         8.193  \n",
      "6810        True      -1.861111              0.881278         8.067  \n",
      "6815        True       0.338889              1.010723         7.943  \n",
      "6820        True      20.155556              1.038197         7.806  \n"
     ]
    }
   ],
   "execution_count": 24
  },
  {
   "metadata": {},
   "cell_type": "markdown",
   "source": [
    "# Counting categorical variables\n",
    "\n",
    "Counting is a great way to get an overview of your data and to spot curiosities that you might not notice otherwise. In this exercise, you'll count the number of each type of store and the number of each department number using the DataFrames you created in the previous exercise:\n",
    "\n",
    "```python\n",
    "# Drop duplicate store/type combinations\n",
    "store_types = sales.drop_duplicates(subset=[\"store\", \"type\"])\n",
    "\n",
    "# Drop duplicate store/department combinations\n",
    "store_depts = sales.drop_duplicates(subset=[\"store\", \"department\"])\n",
    "```\n",
    "\n",
    "The `store_types` and `store_depts` DataFrames you created in the last exercise are available, and `pandas` is imported as `pd`.\n",
    "\n",
    "## Instructions         **100 XP**\n",
    "\n",
    "* Count the number of stores of each store `type` in `store_types`.\n",
    "* Count the proportion of stores of each store `type` in `store_types`.\n",
    "* Count the number of stores of each `department` in `store_depts`, sorting the counts in descending order.\n",
    "* Count the proportion of stores of each `department` in `store_depts`, sorting the proportions in descending order.\n"
   ],
   "id": "197a37de3a4e1355"
  },
  {
   "metadata": {
    "ExecuteTime": {
     "end_time": "2024-11-19T12:24:47.312952Z",
     "start_time": "2024-11-19T12:24:47.292529Z"
    }
   },
   "cell_type": "code",
   "source": [
    "# Count the number of stores of each type\n",
    "store_counts = store_types[\"type\"].value_counts()\n",
    "print(store_counts)\n",
    "\n",
    "# Get the proportion of stores of each type\n",
    "store_props = store_types[\"type\"].value_counts(normalize=True)\n",
    "print(store_props)\n",
    "\n",
    "# Count the number of stores for each department and sort\n",
    "dept_counts_sorted = store_depts[\"department\"].value_counts(sort=True)\n",
    "print(dept_counts_sorted)\n",
    "\n",
    "# Get the proportion of stores in each department and sort\n",
    "dept_props_sorted = store_depts[\"department\"].value_counts(sort=True, normalize=True)\n",
    "print(dept_props_sorted)\n"
   ],
   "id": "d901bc1a4de02f60",
   "outputs": [
    {
     "name": "stdout",
     "output_type": "stream",
     "text": [
      "type\n",
      "A    11\n",
      "B     1\n",
      "Name: count, dtype: int64\n",
      "type\n",
      "A    0.916667\n",
      "B    0.083333\n",
      "Name: proportion, dtype: float64\n",
      "department\n",
      "1     12\n",
      "2     12\n",
      "3     12\n",
      "4     12\n",
      "5     12\n",
      "      ..\n",
      "37    10\n",
      "48     8\n",
      "50     6\n",
      "39     4\n",
      "43     2\n",
      "Name: count, Length: 80, dtype: int64\n",
      "department\n",
      "1     0.012917\n",
      "2     0.012917\n",
      "3     0.012917\n",
      "4     0.012917\n",
      "5     0.012917\n",
      "        ...   \n",
      "37    0.010764\n",
      "48    0.008611\n",
      "50    0.006459\n",
      "39    0.004306\n",
      "43    0.002153\n",
      "Name: proportion, Length: 80, dtype: float64\n"
     ]
    }
   ],
   "execution_count": 25
  },
  {
   "metadata": {},
   "cell_type": "markdown",
   "source": [
    "### Summaries by Group\n",
    "\n",
    "For example, does one color of dog weigh more than another on average? Are female dogs taller than males? You can already answer these questions with what you've learned so far! We can subset the dogs into groups based on their color, and take the mean of each. But that's a lot of work, and the duplicated code means you can easily introduce copy and paste bugs.\n",
    "\n",
    "```python\n",
    "dogs[dogs[\"color\"] == \"Black\"][\"weight_kg\"].mean()\n",
    "dogs[dogs[\"color\"] == \"Brown\"][\"weight_kg\"].mean()\n",
    "dogs[dogs[\"color\"] == \"White\"][\"weight_kg\"].mean()\n",
    "dogs[dogs[\"color\"] == \"Gray\"][\"weight_kg\"].mean()\n",
    "dogs[dogs[\"color\"] == \"Tan\"][\"weight_kg\"].mean()\n",
    "```"
   ],
   "id": "f5520e5e42d54f5c"
  },
  {
   "metadata": {},
   "cell_type": "markdown",
   "source": [
    "### Grouped Summaries\n",
    "\n",
    "```python\n",
    "dogs.groupby(\"color\")[\"weight_kg\"].mean()\n",
    "```"
   ],
   "id": "db0b05d0f0c42975"
  },
  {
   "metadata": {},
   "cell_type": "markdown",
   "source": [
    "### Multiple Grouped Summaries\n",
    "\n",
    "```python\n",
    "dogs.groupby(\"color\")[\"weight_kg\"].agg([min, max, sum])\n",
    "```"
   ],
   "id": "7c988a5cfde7c06f"
  },
  {
   "metadata": {},
   "cell_type": "markdown",
   "source": [
    "### Group by multiple variables/columns\n",
    "```python\n",
    "dogs.groupby([\"color\", \"breed\"])[\"weight_kg\"].mean()\n",
    "```"
   ],
   "id": "444429977ed0cf16"
  },
  {
   "metadata": {},
   "cell_type": "markdown",
   "source": [
    "### Many group, many summaries\n",
    "\n",
    "```python\n",
    "dogs.groupby([\"color\", \"bread\"])[[\"weight_kg\", \"height_cm\"]].mean()\n",
    "```"
   ],
   "id": "f983a8feab5767be"
  },
  {
   "metadata": {},
   "cell_type": "markdown",
   "source": [
    "# What percent of sales occurred at each store type?\n",
    "\n",
    "While `.groupby()` is useful, you can calculate grouped summary statistics without it.\n",
    "\n",
    "Walmart distinguishes three types of stores: \"supercenters,\" \"discount stores,\" and \"neighborhood markets,\" encoded in this dataset as type \"A,\" \"B,\" and \"C.\" In this exercise, you'll calculate the total sales made at each store type, without using `.groupby()`. You can then use these numbers to see what proportion of Walmart's total sales were made at each type.\n",
    "\n",
    "`sales` is available and `pandas` is imported as `pd`.\n",
    "\n",
    "## Instructions         **100 XP**\n",
    "\n",
    "* Calculate the total `weekly_sales` over the whole dataset.\n",
    "* Subset for `type` `\"A\"` stores, and calculate their total weekly sales.\n",
    "* Do the same for `type` `\"B\"` and `type` `\"C\"` stores.\n",
    "* Combine the A/B/C results into a list, and divide by `sales_all` to get the proportion of sales by type.\n"
   ],
   "id": "d725d8e7d6b175f6"
  },
  {
   "metadata": {
    "ExecuteTime": {
     "end_time": "2024-11-19T12:24:47.380775Z",
     "start_time": "2024-11-19T12:24:47.355365Z"
    }
   },
   "cell_type": "code",
   "source": [
    "# Calc total weekly sales\n",
    "sales_all = sales[\"weekly_sales\"].sum()\n",
    "\n",
    "# Subset for type A stores, calc total weekly sales\n",
    "sales_A = sales[sales[\"type\"] == \"A\"][\"weekly_sales\"].sum()\n",
    "\n",
    "# Subset for type B stores, calc total weekly sales\n",
    "sales_B = sales[sales[\"type\"] == \"B\"][\"weekly_sales\"].sum()\n",
    "\n",
    "# Subset for type C stores, calc total weekly sales\n",
    "sales_C = sales[sales[\"type\"] == \"C\"][\"weekly_sales\"].sum()\n",
    "\n",
    "# Get proportion for each type\n",
    "sales_propn_by_type = [sales_A, sales_B, sales_C] / sales_all\n",
    "print(sales_propn_by_type)"
   ],
   "id": "8a132914c7ca8374",
   "outputs": [
    {
     "name": "stdout",
     "output_type": "stream",
     "text": [
      "[0.9097747 0.0902253 0.       ]\n"
     ]
    }
   ],
   "execution_count": 26
  },
  {
   "metadata": {},
   "cell_type": "markdown",
   "source": [
    "# Calculations with .groupby()\n",
    "\n",
    "The `.groupby()` method makes life much easier. In this exercise, you'll perform the same calculations as last time, except you'll use the `.groupby()` method. You'll also perform calculations on data grouped by two variables to see if sales differ by store type depending on if it's a holiday week or not.\n",
    "\n",
    "`sales` is available and `pandas` is loaded as `pd`.\n",
    "\n",
    "## Instructions 1/2                 **50XP**\n",
    "\n",
    "* Group `sales` by `\"type\"`, take the sum of `\"weekly_sales\"`, and store as `sales_by_type`.\n",
    "* Calculate the proportion of sales at each store type by dividing by the sum of `sales_by_type`. Assign to `sales_propn_by_type`.\n"
   ],
   "id": "af164e83fa7fc706"
  },
  {
   "metadata": {
    "ExecuteTime": {
     "end_time": "2024-11-19T12:24:47.435093Z",
     "start_time": "2024-11-19T12:24:47.428305Z"
    }
   },
   "cell_type": "code",
   "source": [
    "# Group by type; calc total weekly sales\n",
    "sales_by_type = sales.groupby(\"type\")[\"weekly_sales\"].sum()\n",
    "\n",
    "# Get proportion for each type\n",
    "sales_propn_by_type = sales_by_type / sum(sales_by_type)\n",
    "print(sales_propn_by_type)"
   ],
   "id": "ccb44babad997ae9",
   "outputs": [
    {
     "name": "stdout",
     "output_type": "stream",
     "text": [
      "type\n",
      "A    0.909775\n",
      "B    0.090225\n",
      "Name: weekly_sales, dtype: float64\n"
     ]
    }
   ],
   "execution_count": 27
  },
  {
   "metadata": {},
   "cell_type": "markdown",
   "source": [
    "## Instructions 1/2                 **50XP**\n",
    "- Group sales by \"type\" and \"is_holiday\", take the sum of weekly_sales, and store as sales_by_type_is_holiday."
   ],
   "id": "b907714afc68ba53"
  },
  {
   "metadata": {
    "ExecuteTime": {
     "end_time": "2024-11-19T12:24:47.501368Z",
     "start_time": "2024-11-19T12:24:47.492033Z"
    }
   },
   "cell_type": "code",
   "source": [
    "# From previous step\n",
    "sales_by_type = sales.groupby([\"type\", \"is_holiday\"])[\"weekly_sales\"].sum()\n",
    "\n",
    "# Group by type and is_holiday; calc total weekly sales\n",
    "sales_by_type_is_holiday = sales_by_type\n",
    "print(sales_by_type_is_holiday)"
   ],
   "id": "b143c10dd911fa58",
   "outputs": [
    {
     "name": "stdout",
     "output_type": "stream",
     "text": [
      "type  is_holiday\n",
      "A     False         2.336927e+08\n",
      "      True          2.360181e+04\n",
      "B     False         2.317678e+07\n",
      "      True          1.621410e+03\n",
      "Name: weekly_sales, dtype: float64\n"
     ]
    }
   ],
   "execution_count": 28
  },
  {
   "metadata": {},
   "cell_type": "markdown",
   "source": [
    "# Multiple grouped summaries\n",
    "\n",
    "Earlier in this chapter, you saw that the `.agg()` method is useful to compute multiple statistics on multiple variables. It also works with grouped data. NumPy, which is imported as `np`, has many different summary statistics functions, including: `np.min`, `np.max`, `np.mean`, and `np.median`.\n",
    "\n",
    "`sales` is available and `pandas` is imported as `pd`.\n",
    "\n",
    "## Instructions         **100 XP**\n",
    "\n",
    "* Import `numpy` with the alias `np`.\n",
    "* Get the min, max, mean, and median of `weekly_sales` for each store type using `.groupby()` and `.agg()`. Store this as `sales_stats`. Make sure to use `numpy` functions!\n",
    "* Get the min, max, mean, and median of `unemployment` and `fuel_price_usd_per_l` for each store type. Store this as `unemp_fuel_stats`.\n"
   ],
   "id": "382c70fa6f5c9030"
  },
  {
   "metadata": {
    "ExecuteTime": {
     "end_time": "2024-11-19T12:27:43.890608Z",
     "start_time": "2024-11-19T12:27:43.865875Z"
    }
   },
   "cell_type": "code",
   "source": [
    "# Import numpy with the alias np\n",
    "import numpy as np\n",
    "\n",
    "# For each store type, aggregate weekly_sales: get min, max, mean, and median\n",
    "sales_stats = sales.groupby(\"type\")[\"weekly_sales\"].agg([min, max, np.mean, np.median])\n",
    "\n",
    "# Print sales_stats\n",
    "print(sales_stats)\n",
    "\n",
    "# For each store type, aggregate unemployment and fuel_price_usd_per_l: get min, max, mean, and median\n",
    "unemp_fuel_stats = sales.groupby(\"type\")[[\"unemployment\", \"fuel_price_usd_per_l\"]].agg([min, max, np.mean, np.median])\n",
    "\n",
    "# Print unemp_fuel_stats\n",
    "print(unemp_fuel_stats)"
   ],
   "id": "d56be7720b8c7f08",
   "outputs": [
    {
     "name": "stdout",
     "output_type": "stream",
     "text": [
      "         min        max          mean    median\n",
      "type                                           \n",
      "A    -1098.0  293966.05  23674.667242  11943.92\n",
      "B     -798.0  232558.51  25696.678370  13336.08\n",
      "     unemployment                         fuel_price_usd_per_l            \\\n",
      "              min    max      mean median                  min       max   \n",
      "type                                                                       \n",
      "A           3.879  8.992  7.972611  8.067             0.664129  1.107410   \n",
      "B           7.170  9.765  9.279323  9.199             0.760023  1.107674   \n",
      "\n",
      "                          \n",
      "          mean    median  \n",
      "type                      \n",
      "A     0.744619  0.735455  \n",
      "B     0.805858  0.803348  \n"
     ]
    },
    {
     "name": "stderr",
     "output_type": "stream",
     "text": [
      "C:\\Users\\vpram\\AppData\\Local\\Temp\\ipykernel_27376\\2797190232.py:5: FutureWarning: The provided callable <built-in function min> is currently using SeriesGroupBy.min. In a future version of pandas, the provided callable will be used directly. To keep current behavior pass the string \"min\" instead.\n",
      "  sales_stats = sales.groupby(\"type\")[\"weekly_sales\"].agg([min, max, np.mean, np.median])\n",
      "C:\\Users\\vpram\\AppData\\Local\\Temp\\ipykernel_27376\\2797190232.py:5: FutureWarning: The provided callable <built-in function max> is currently using SeriesGroupBy.max. In a future version of pandas, the provided callable will be used directly. To keep current behavior pass the string \"max\" instead.\n",
      "  sales_stats = sales.groupby(\"type\")[\"weekly_sales\"].agg([min, max, np.mean, np.median])\n",
      "C:\\Users\\vpram\\AppData\\Local\\Temp\\ipykernel_27376\\2797190232.py:5: FutureWarning: The provided callable <function mean at 0x000001B670101EE0> is currently using SeriesGroupBy.mean. In a future version of pandas, the provided callable will be used directly. To keep current behavior pass the string \"mean\" instead.\n",
      "  sales_stats = sales.groupby(\"type\")[\"weekly_sales\"].agg([min, max, np.mean, np.median])\n",
      "C:\\Users\\vpram\\AppData\\Local\\Temp\\ipykernel_27376\\2797190232.py:5: FutureWarning: The provided callable <function median at 0x000001B670260D60> is currently using SeriesGroupBy.median. In a future version of pandas, the provided callable will be used directly. To keep current behavior pass the string \"median\" instead.\n",
      "  sales_stats = sales.groupby(\"type\")[\"weekly_sales\"].agg([min, max, np.mean, np.median])\n",
      "C:\\Users\\vpram\\AppData\\Local\\Temp\\ipykernel_27376\\2797190232.py:11: FutureWarning: The provided callable <built-in function min> is currently using SeriesGroupBy.min. In a future version of pandas, the provided callable will be used directly. To keep current behavior pass the string \"min\" instead.\n",
      "  unemp_fuel_stats = sales.groupby(\"type\")[[\"unemployment\", \"fuel_price_usd_per_l\"]].agg([min, max, np.mean, np.median])\n",
      "C:\\Users\\vpram\\AppData\\Local\\Temp\\ipykernel_27376\\2797190232.py:11: FutureWarning: The provided callable <built-in function max> is currently using SeriesGroupBy.max. In a future version of pandas, the provided callable will be used directly. To keep current behavior pass the string \"max\" instead.\n",
      "  unemp_fuel_stats = sales.groupby(\"type\")[[\"unemployment\", \"fuel_price_usd_per_l\"]].agg([min, max, np.mean, np.median])\n",
      "C:\\Users\\vpram\\AppData\\Local\\Temp\\ipykernel_27376\\2797190232.py:11: FutureWarning: The provided callable <function mean at 0x000001B670101EE0> is currently using SeriesGroupBy.mean. In a future version of pandas, the provided callable will be used directly. To keep current behavior pass the string \"mean\" instead.\n",
      "  unemp_fuel_stats = sales.groupby(\"type\")[[\"unemployment\", \"fuel_price_usd_per_l\"]].agg([min, max, np.mean, np.median])\n",
      "C:\\Users\\vpram\\AppData\\Local\\Temp\\ipykernel_27376\\2797190232.py:11: FutureWarning: The provided callable <function median at 0x000001B670260D60> is currently using SeriesGroupBy.median. In a future version of pandas, the provided callable will be used directly. To keep current behavior pass the string \"median\" instead.\n",
      "  unemp_fuel_stats = sales.groupby(\"type\")[[\"unemployment\", \"fuel_price_usd_per_l\"]].agg([min, max, np.mean, np.median])\n",
      "C:\\Users\\vpram\\AppData\\Local\\Temp\\ipykernel_27376\\2797190232.py:11: FutureWarning: The provided callable <built-in function min> is currently using SeriesGroupBy.min. In a future version of pandas, the provided callable will be used directly. To keep current behavior pass the string \"min\" instead.\n",
      "  unemp_fuel_stats = sales.groupby(\"type\")[[\"unemployment\", \"fuel_price_usd_per_l\"]].agg([min, max, np.mean, np.median])\n"
     ]
    }
   ],
   "execution_count": 32
  },
  {
   "metadata": {},
   "cell_type": "markdown",
   "source": [
    "## Pivot Table\n",
    "Pivot tables are another way of calculating grouped summary statistics."
   ],
   "id": "241cc68a9600c20f"
  },
  {
   "metadata": {},
   "cell_type": "markdown",
   "source": [
    "### Group by to Pivot Table\n",
    "```python\n",
    "dogs.groupby(\"color\")[\"weight_kg\"].mean()\n",
    "```\n",
    "\n",
    "\n",
    "```python\n",
    "dogs.pivot_table(values=\"weight_kg\", index=\"color\")\n",
    "```\n",
    "\n",
    "The \"values\" argument is the column that you want to summarize, and the index column is the column that you want to group by. Default it take mean."
   ],
   "id": "c1a84ef2598f027"
  },
  {
   "metadata": {},
   "cell_type": "markdown",
   "source": [
    "### Different Statistics\n",
    "If we want a different summary statistic, we can use the `aggfunc` argument and pass it a function. Here, we take the median for each dog color using NumPy's median function.\n",
    "\n",
    "```python\n",
    "import numpy as np\n",
    "dogs.pivot_table(values=\"weight_kg\", index=\"color\", aggfunc=np.median)\n",
    "```\n",
    "\n",
    "### Multiple Statistics\n",
    "```python\n",
    "dogs.pivot_table(values=\"weight_kg\", index=\"color\", aggfunc=[np.mean, np.median])\n",
    "```\n",
    "\n"
   ],
   "id": "9bafdfc4fa7dd86"
  },
  {
   "metadata": {},
   "cell_type": "markdown",
   "source": [
    "### Pivot on two variables\n",
    "\n",
    "```python\n",
    "dogs.pivot_table(values=\"weight_kg\", index=\"color\", columns=\"breed\")\n",
    "```\n",
    "\n",
    "### Filling missing values in Pivot Tables\n",
    "\n",
    "```python\n",
    "dogs.pivot_table(values=\"weight_kg\", index=\"color\", columns=\"bread\", fill_value=0)\n",
    "```"
   ],
   "id": "90ec07ea16a3d7e2"
  },
  {
   "metadata": {},
   "cell_type": "markdown",
   "source": [
    "### Margin\n",
    "If we set the margins argument to True, the last row and last column of the pivot table contain the mean of all the values in the column or row.\n",
    "\n",
    "```python\n",
    "dogs.pivot_table(values=\"weight_kg\", index=\"color\", columns=\"bread\", fill_value=0, margins=True)\n",
    "```"
   ],
   "id": "fba3aa0bda5498e2"
  },
  {
   "metadata": {},
   "cell_type": "markdown",
   "source": [
    "# Pivoting on one variable\n",
    "\n",
    "Pivot tables are the standard way of aggregating data in spreadsheets.\n",
    "\n",
    "In pandas, pivot tables are essentially another way of performing grouped calculations. That is, the `.pivot_table()` method is an alternative to `.groupby()`.\n",
    "\n",
    "In this exercise, you'll perform calculations using `.pivot_table()` to replicate the calculations you performed in the last lesson using `.groupby()`.\n",
    "\n",
    "`sales` is available and `pandas` is imported as `pd`.\n",
    "\n",
    "## Task 1/3\n",
    "- Get the mean `weekly_sales` by `type` using `.pivot_table()` and store as `mean_sales_by_type`.\n",
    "\n"
   ],
   "id": "8d168df37c354c1"
  },
  {
   "metadata": {
    "ExecuteTime": {
     "end_time": "2024-11-19T12:58:44.183893Z",
     "start_time": "2024-11-19T12:58:44.168314Z"
    }
   },
   "cell_type": "code",
   "source": [
    "# Pivot for mean weekly_sales for each store type\n",
    "mean_sales_by_type = sales.pivot_table(values=\"weekly_sales\", index=\"type\")\n",
    "\n",
    "# Print mean_sales_by_type\n",
    "print(mean_sales_by_type)"
   ],
   "id": "18a6b78d8d414190",
   "outputs": [
    {
     "name": "stdout",
     "output_type": "stream",
     "text": [
      "      weekly_sales\n",
      "type              \n",
      "A     23674.667242\n",
      "B     25696.678370\n"
     ]
    }
   ],
   "execution_count": 34
  },
  {
   "metadata": {},
   "cell_type": "markdown",
   "source": [
    "### Task 2/3\n",
    "* Get the mean and median (using NumPy functions) of `weekly_sales` by `type` using `.pivot_table()` and store as `mean_med_sales_by_type`.\n"
   ],
   "id": "f863793266c34eb1"
  },
  {
   "metadata": {
    "ExecuteTime": {
     "end_time": "2024-11-19T13:00:45.517821Z",
     "start_time": "2024-11-19T13:00:45.503626Z"
    }
   },
   "cell_type": "code",
   "source": [
    "# Import NumPy as np\n",
    "import numpy as np\n",
    "\n",
    "# Pivot for mean and median weekly_sales for each store type\n",
    "mean_med_sales_by_type = sales.pivot_table(values=\"weekly_sales\", index=\"type\", aggfunc=[np.mean, np.median])\n",
    "\n",
    "# Print mean_med_sales_by_type\n",
    "print(mean_med_sales_by_type)"
   ],
   "id": "7b2d5c6a78a1083c",
   "outputs": [
    {
     "name": "stdout",
     "output_type": "stream",
     "text": [
      "              mean       median\n",
      "      weekly_sales weekly_sales\n",
      "type                           \n",
      "A     23674.667242     11943.92\n",
      "B     25696.678370     13336.08\n"
     ]
    },
    {
     "name": "stderr",
     "output_type": "stream",
     "text": [
      "C:\\Users\\vpram\\AppData\\Local\\Temp\\ipykernel_27376\\3904762067.py:5: FutureWarning: The provided callable <function mean at 0x000001B670101EE0> is currently using DataFrameGroupBy.mean. In a future version of pandas, the provided callable will be used directly. To keep current behavior pass the string \"mean\" instead.\n",
      "  mean_med_sales_by_type = sales.pivot_table(values=\"weekly_sales\", index=\"type\", aggfunc=[np.mean, np.median])\n",
      "C:\\Users\\vpram\\AppData\\Local\\Temp\\ipykernel_27376\\3904762067.py:5: FutureWarning: The provided callable <function median at 0x000001B670260D60> is currently using DataFrameGroupBy.median. In a future version of pandas, the provided callable will be used directly. To keep current behavior pass the string \"median\" instead.\n",
      "  mean_med_sales_by_type = sales.pivot_table(values=\"weekly_sales\", index=\"type\", aggfunc=[np.mean, np.median])\n"
     ]
    }
   ],
   "execution_count": 35
  },
  {
   "metadata": {},
   "cell_type": "markdown",
   "source": [
    "### Task 3/3\n",
    "* Get the mean of `weekly_sales` by `type` and `is_holiday` using `.pivot_table()` and store as `mean_sales_by_type_holiday`.\n"
   ],
   "id": "204cb96dbfa812b7"
  },
  {
   "metadata": {
    "ExecuteTime": {
     "end_time": "2024-11-19T13:02:48.753614Z",
     "start_time": "2024-11-19T13:02:48.618468Z"
    }
   },
   "cell_type": "code",
   "source": [
    "# Pivot for mean weekly_sales by store type and holiday \n",
    "mean_sales_by_type_holiday = sales.pivot_table(values=\"weekly_sales\", index=\"type\", columns=[\"is_holiday\"])\n",
    "\n",
    "# Print mean_sales_by_type_holiday\n",
    "print(mean_sales_by_type_holiday)"
   ],
   "id": "5135408110aa3f52",
   "outputs": [
    {
     "name": "stdout",
     "output_type": "stream",
     "text": [
      "is_holiday         False      True \n",
      "type                               \n",
      "A           23768.583523  590.04525\n",
      "B           25751.980533  810.70500\n"
     ]
    }
   ],
   "execution_count": 36
  },
  {
   "metadata": {},
   "cell_type": "markdown",
   "source": [
    "# Fill in missing values and sum values with pivot tables\n",
    "\n",
    "The `.pivot_table()` method has several useful arguments, including `fill_value` and `margins`.\n",
    "\n",
    "* `fill_value` replaces missing values with a real value (known as *imputation* ). What to replace missing values with is a topic big enough to have its own course ([Dealing with Missing Data in Python](https://www.datacamp.com/courses/dealing-with-missing-data-in-python)), but the simplest thing to do is to substitute a dummy value.\n",
    "* `margins` is a shortcut for when you pivoted by two variables, but also wanted to pivot by each of those variables separately: it gives the row and column totals of the pivot table contents.\n",
    "\n",
    "In this exercise, you'll practice using these arguments to up your pivot table skills, which will help you crunch numbers more efficiently!\n",
    "\n",
    "`sales` is available and `pandas` is imported as `pd`.\n",
    "\n",
    "## Task 1/2\n",
    "* Print the mean `weekly_sales` by `department` and `type`, filling in any missing values with `0`."
   ],
   "id": "3b262a72cd05bff0"
  },
  {
   "metadata": {
    "ExecuteTime": {
     "end_time": "2024-11-19T13:08:40.111046Z",
     "start_time": "2024-11-19T13:08:40.086312Z"
    }
   },
   "cell_type": "code",
   "source": [
    "# Print mean weekly_sales by department and type; fill missing values with 0\n",
    "print(sales.pivot_table(values=\"weekly_sales\", index=\"department\", columns=\"type\", fill_value=0))"
   ],
   "id": "4f9ffd06e9b60367",
   "outputs": [
    {
     "name": "stdout",
     "output_type": "stream",
     "text": [
      "type                    A              B\n",
      "department                              \n",
      "1            30961.725379   44050.626667\n",
      "2            67600.158788  112958.526667\n",
      "3            17160.002955   30580.655000\n",
      "4            44285.399091   51219.654167\n",
      "5            34821.011364   63236.875000\n",
      "...                   ...            ...\n",
      "95          123933.787121   77082.102500\n",
      "96           21367.042857    9528.538333\n",
      "97           28471.266970    5828.873333\n",
      "98           12875.423182     217.428333\n",
      "99             379.123659       0.000000\n",
      "\n",
      "[80 rows x 2 columns]\n"
     ]
    }
   ],
   "execution_count": 38
  },
  {
   "metadata": {},
   "cell_type": "markdown",
   "source": [
    "## Task 2/2\n",
    "Print the mean `weekly_sales` by `department` and `type`, filling in any missing values with `0` and summing all rows and columns.\n"
   ],
   "id": "b72093648f808540"
  },
  {
   "metadata": {
    "ExecuteTime": {
     "end_time": "2024-11-19T13:10:35.786274Z",
     "start_time": "2024-11-19T13:10:35.745451Z"
    }
   },
   "cell_type": "code",
   "source": [
    "# Print the mean weekly_sales by department and type; fill missing values with 0s; sum all rows and cols\n",
    "print(sales.pivot_table(values=\"weekly_sales\", index=\"department\", columns=\"type\", fill_value=0,margins=True))"
   ],
   "id": "223f2fda6bbb5708",
   "outputs": [
    {
     "name": "stdout",
     "output_type": "stream",
     "text": [
      "type                   A              B           All\n",
      "department                                           \n",
      "1           30961.725379   44050.626667  32052.467153\n",
      "2           67600.158788  112958.526667  71380.022778\n",
      "3           17160.002955   30580.655000  18278.390625\n",
      "4           44285.399091   51219.654167  44863.253681\n",
      "5           34821.011364   63236.875000  37189.000000\n",
      "...                  ...            ...           ...\n",
      "96          21367.042857    9528.538333  20337.607681\n",
      "97          28471.266970    5828.873333  26584.400833\n",
      "98          12875.423182     217.428333  11820.590278\n",
      "99            379.123659       0.000000    379.123659\n",
      "All         23674.667242   25696.678370  23843.950149\n",
      "\n",
      "[81 rows x 3 columns]\n"
     ]
    }
   ],
   "execution_count": 40
  },
  {
   "metadata": {},
   "cell_type": "code",
   "outputs": [],
   "execution_count": null,
   "source": "",
   "id": "e267094491a0c44"
  }
 ],
 "metadata": {
  "kernelspec": {
   "display_name": "Python 3",
   "language": "python",
   "name": "python3"
  },
  "language_info": {
   "codemirror_mode": {
    "name": "ipython",
    "version": 2
   },
   "file_extension": ".py",
   "mimetype": "text/x-python",
   "name": "python",
   "nbconvert_exporter": "python",
   "pygments_lexer": "ipython2",
   "version": "2.7.6"
  }
 },
 "nbformat": 4,
 "nbformat_minor": 5
}
