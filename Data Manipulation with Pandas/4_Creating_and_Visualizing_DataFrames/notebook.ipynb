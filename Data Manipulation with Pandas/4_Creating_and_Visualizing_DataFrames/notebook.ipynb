{
 "cells": [
  {
   "metadata": {},
   "cell_type": "markdown",
   "source": [
    "# Creating and Visualizing DataFrames\n",
    "\n",
    "Learn to visualize the contents of your DataFrames, handle missing data values, and import data from and export data to CSV files.\n",
    "\n",
    "\n"
   ],
   "id": "2e943bf47d0bef5f"
  },
  {
   "metadata": {},
   "cell_type": "markdown",
   "source": "## Visualizing your data",
   "id": "57975973cf82d270"
  },
  {
   "metadata": {},
   "cell_type": "markdown",
   "source": [
    "### Histograms\n",
    "```python\n",
    "import matplotlib.pyplot as plt\n",
    "dog_pack[\"height_cm\"].hist()\n",
    "plt.show()\n",
    "```"
   ],
   "id": "e6d3812091343feb"
  },
  {
   "metadata": {},
   "cell_type": "markdown",
   "source": [
    "```python\n",
    "dog_pack[\"height_cm\"].hist(bins=20)\n",
    "plt.show()\n",
    "```"
   ],
   "id": "d4fa7723472cfcad"
  },
  {
   "metadata": {},
   "cell_type": "markdown",
   "source": [
    "### Bar plots\n",
    "```python\n",
    "avg_weight_by_breed = dog_pack.groupby(\"breed\")[\"weight_kg\"].mean()\n",
    "print(avg_weight_by_breed)\n",
    "```"
   ],
   "id": "4fa1648a3f8768b6"
  },
  {
   "metadata": {},
   "cell_type": "markdown",
   "source": [
    "```python\n",
    "avg_weight_by_breed.plot(kind=\"bar\")\n",
    "plt.show()\n",
    "```\n",
    "\n",
    "\n",
    "```python\n",
    "avg_weight_by_breed.plot(kind=\"bar\", title=\"Mean Weight by Dog Breed\")\n",
    "plt.show()\n",
    "```"
   ],
   "id": "60d5bbde54c20e3a"
  },
  {
   "metadata": {},
   "cell_type": "markdown",
   "source": [
    "### Line Plots\n",
    "```python\n",
    "sully.head()\n",
    "```\n",
    "\n",
    "```python\n",
    "sully.plot(x = \"date\", y=\"weight_kg\", kind=\"line\")\n",
    "plt.show()\n",
    "```"
   ],
   "id": "752d249c289eec34"
  },
  {
   "metadata": {},
   "cell_type": "markdown",
   "source": [
    "### Rotating axis Labels\n",
    "```python\n",
    "sully.plot(x=\"date\", y = \"weight_kg\", kind=\"line\", rot=45)\n",
    "plt.show()\n",
    "```"
   ],
   "id": "e86851589f4fb1e8"
  },
  {
   "metadata": {},
   "cell_type": "markdown",
   "source": [
    "### Scatter Plots\n",
    "```python\n",
    "dog_pack.plot(x=\"height_cm\", y=\"weight_kg\", kind=\"scatter\")\n",
    "plt.show()\n",
    "```"
   ],
   "id": "4f8d4975ce112981"
  },
  {
   "metadata": {},
   "cell_type": "markdown",
   "source": [
    "### Layering plots\n",
    "```python\n",
    "dog_pack[dog_pack[\"sex\"]==\"F\"][\"height_cm\"].hist()\n",
    "dog_pack[dog_pack[\"sex\"]==\"M\"][\"height_cm\"].hist()\n",
    "plt.show()\n",
    "```"
   ],
   "id": "191d7d968eb3e49"
  },
  {
   "metadata": {},
   "cell_type": "markdown",
   "source": [
    "### Add a legend\n",
    "```python\n",
    "dog_pack[dog_pack[\"sex\"]==\"F\"][\"height_cm\"].hist()\n",
    "dog_pack[dog_pack[\"sex\"]==\"M\"][\"height_cm\"].hist()\n",
    "plt.legend([\"F\", \"M\"])\n",
    "plt.show()\n",
    "```"
   ],
   "id": "e7c902a96f15e6d8"
  },
  {
   "metadata": {},
   "cell_type": "markdown",
   "source": [
    "### Transparency\n",
    "```python\n",
    "dog_pack[dog_pack[\"sex\"]==\"F\"][\"height_cm\"].hist(alpha=0.7)\n",
    "dog_pack[dog_pack[\"sex\"]==\"M\"][\"height_cm\"].hist(alpha=0.7)\n",
    "plt.legend([\"F\", \"M\"])\n",
    "plt.show()\n",
    "```"
   ],
   "id": "872e680933f2f6f4"
  },
  {
   "metadata": {},
   "cell_type": "markdown",
   "source": [
    "### Which avocado size is most popular?\n",
    "\n",
    "Avocados are increasingly popular and delicious in guacamole and on toast. The Hass Avocado Board keeps track of avocado supply and demand across the USA, including the sales of three different sizes of avocado. In this exercise, you'll use a bar plot to figure out which size is the most popular.\n",
    "\n",
    "Bar plots are great for revealing relationships between categorical (size) and numeric (number sold) variables, but you'll often have to manipulate your data first in order to get the numbers you need for plotting.\n",
    "\n",
    "`pandas` has been imported as `pd`, and `avocados` is available.\n",
    "\n",
    "#### Instructions\n",
    "\n",
    "* Print the head of the `avocados` dataset. *What columns are available?*\n",
    "* For each avocado size group, calculate the total number sold, storing as `nb_sold_by_size`.\n",
    "* Create a bar plot of the number of avocados sold by size.\n",
    "* Show the plot.\n"
   ],
   "id": "509268c4b177b892"
  },
  {
   "metadata": {},
   "cell_type": "code",
   "source": [
    "import pandas as pd\n",
    "from matplotlib.style.core import available\n",
    "\n",
    "avocados = pd.read_pickle(\"../../data/avoplotto.pkl\")"
   ],
   "id": "ab385fbf5490c818",
   "outputs": [],
   "execution_count": null
  },
  {
   "metadata": {},
   "cell_type": "code",
   "source": [
    "# Import matplotlib.pyplot with alias plt\n",
    "import matplotlib.pyplot as plt\n",
    "\n",
    "# Look at the first few rows of data\n",
    "print(avocados.head())\n",
    "\n",
    "# Get the total number of avocados sold of each size\n",
    "nb_sold_by_size = avocados.groupby(\"size\")[\"nb_sold\"].sum()\n",
    "\n",
    "# Create a bar plot of the number of avocados sold by size\n",
    "nb_sold_by_size.plot(kind=\"bar\")\n",
    "\n",
    "# Show the plot\n",
    "plt.show()"
   ],
   "id": "d333b9179ebd503",
   "outputs": [],
   "execution_count": null
  },
  {
   "metadata": {},
   "cell_type": "markdown",
   "source": [
    "### Changes in sales over time\n",
    "\n",
    "Line plots are designed to visualize the relationship between two numeric variables, where each data values is connected to the next one. They are especially useful for visualizing the change in a number over time since each time point is naturally connected to the next time point. In this exercise, you'll visualize the change in avocado sales over three years.\n",
    "\n",
    "`pandas` has been imported as `pd`, and `avocados` is available.\n",
    "\n",
    "#### Instructions\n",
    "\n",
    "* Get the total number of avocados sold on each date. *The DataFrame has two rows for each date—one for organic, and one for conventional* . Save this as `nb_sold_by_date`.\n",
    "* Create a line plot of the number of avocados sold.\n",
    "* Show the plot.\n"
   ],
   "id": "43b7103686e7a919"
  },
  {
   "metadata": {},
   "cell_type": "code",
   "source": [
    "# Import matplotlib.pyplot with alias plt\n",
    "import matplotlib.pyplot as plt\n",
    "\n",
    "# Get the total number of avocados sold on each date\n",
    "nb_sold_by_date = avocados.groupby(\"date\")[\"nb_sold\"].sum()\n",
    "\n",
    "# Create a line plot of the number of avocados sold by date\n",
    "nb_sold_by_date.plot(kind=\"line\")\n",
    "\n",
    "# Show the plot\n",
    "plt.show()"
   ],
   "id": "9bf7d1a17b826d1e",
   "outputs": [],
   "execution_count": null
  },
  {
   "metadata": {},
   "cell_type": "markdown",
   "source": [
    "### Avocado supply and demand\n",
    "\n",
    "Scatter plots are ideal for visualizing relationships between numerical variables. In this exercise, you'll compare the number of avocados sold to average price and see if they're at all related. If they're related, you may be able to use one number to predict the other.\n",
    "\n",
    "`matplotlib.pyplot` has been imported as `plt`, `pandas` has been imported as `pd`, and `avocados` is available.\n",
    "\n",
    "#### Instructions\n",
    "\n",
    "* Create a scatter plot with `nb_sold` on the x-axis and `avg_price` on the y-axis. Title it `\"Number of avocados sold vs. average price\"`.\n",
    "* Show the plot.\n"
   ],
   "id": "43d04da272bd0202"
  },
  {
   "metadata": {},
   "cell_type": "code",
   "source": [
    "# Scatter plot of avg_price vs. nb_sold with title\n",
    "avocados.plot(x=\"nb_sold\", y=\"avg_price\", kind=\"scatter\", title=\"Number of avocados sold vs. average price\")\n",
    "\n",
    "# Show the plot\n",
    "plt.show()"
   ],
   "id": "fe7ff6f8c0fdd283",
   "outputs": [],
   "execution_count": null
  },
  {
   "metadata": {},
   "cell_type": "markdown",
   "source": [
    "\n",
    "### Price of conventional vs. organic avocados\n",
    "\n",
    "Creating multiple plots for different subsets of data allows you to compare groups. In this exercise, you'll create multiple histograms to compare the prices of conventional and organic avocados.\n",
    "\n",
    "`matplotlib.pyplot` has been imported as `plt` and `pandas` has been imported as `pd`.\n",
    "\n",
    "#### Instructions 1/3\n",
    "\n",
    "* Subset `avocados` for the `\"conventional\"` `type` and create a histogram of the `avg_price` column.\n",
    "* Create a histogram of `avg_price` for `\"organic\"` `type` avocados.\n",
    "* Add a legend to your plot, with the names `\"conventional\"` and `\"organic\"`.\n",
    "* Show your plot\n"
   ],
   "id": "4620082423c14f76"
  },
  {
   "metadata": {},
   "cell_type": "code",
   "source": [
    "# Histogram of conventional avg_price\n",
    "avocados[avocados[\"type\"] == \"conventional\"][\"avg_price\"].hist()\n",
    "\n",
    "# Histogram of organic avg_price\n",
    "avocados[avocados[\"type\"] == \"organic\"][\"avg_price\"].hist()\n",
    "\n",
    "# Add a legend\n",
    "plt.legend([\"conventional\", \"organic\"])\n",
    "\n",
    "# Show the plot\n",
    "plt.show()"
   ],
   "id": "fa0b37e258798232",
   "outputs": [],
   "execution_count": null
  },
  {
   "metadata": {},
   "cell_type": "markdown",
   "source": [
    "#### Instruction 2/3\n",
    "* Modify your code to adjust the transparency of both histograms to `0.5` to see how much overlap there is between the two distributions.\n"
   ],
   "id": "b687019682dd76b8"
  },
  {
   "metadata": {},
   "cell_type": "code",
   "source": [
    "# Modify histogram transparency to 0.5\n",
    "avocados[avocados[\"type\"] == \"conventional\"][\"avg_price\"].hist(alpha=0.5)\n",
    "\n",
    "# Modify histogram transparency to 0.5\n",
    "avocados[avocados[\"type\"] == \"organic\"][\"avg_price\"].hist(alpha=0.5)\n",
    "\n",
    "# Add a legend\n",
    "plt.legend([\"conventional\", \"organic\"])\n",
    "\n",
    "# Show the plot\n",
    "plt.show()"
   ],
   "id": "1d7745f775d8eb95",
   "outputs": [],
   "execution_count": null
  },
  {
   "metadata": {},
   "cell_type": "markdown",
   "source": [
    "#### Instruction 3/3\n",
    "- Modify your code to use 20 bins in both histograms."
   ],
   "id": "5a0618a646823142"
  },
  {
   "metadata": {},
   "cell_type": "code",
   "source": [
    "# Modify bins to 20\n",
    "avocados[avocados[\"type\"] == \"conventional\"][\"avg_price\"].hist(alpha=0.5, bins=20)\n",
    "\n",
    "# Modify bins to 20\n",
    "avocados[avocados[\"type\"] == \"organic\"][\"avg_price\"].hist(alpha=0.5, bins=20)\n",
    "\n",
    "# Add a legend\n",
    "plt.legend([\"conventional\", \"organic\"])\n",
    "\n",
    "# Show the plot\n",
    "plt.show()"
   ],
   "id": "b47663a86a7509ff",
   "outputs": [],
   "execution_count": null
  },
  {
   "metadata": {},
   "cell_type": "markdown",
   "source": "## Missing Values",
   "id": "16427a16a6db547b"
  },
  {
   "metadata": {},
   "cell_type": "markdown",
   "source": [
    "### What's a Missing Value?\n",
    "Most data is not perfect - there's always a possibility that there are some pieces missing from your dataset."
   ],
   "id": "57f30be480dbbc26"
  },
  {
   "metadata": {},
   "cell_type": "markdown",
   "source": [
    "### Missing values in pandas DataFrames\n",
    "In a pandas DataFrame, missing values are indicated with N-a-N, which stands for \"not a number.\""
   ],
   "id": "8c235ff35d81bd0f"
  },
  {
   "metadata": {},
   "cell_type": "markdown",
   "source": [
    "###  Detecting missing values\n",
    "When you first get a DataFrame, it's a good idea to get a sense of whether it contains any missing values, and if so, how many. That's where the isna method comes in. When we call isna on a DataFrame, we get a Boolean for every single value indicating whether the value is missing or not, but this isn't very helpful when you're working with a lot of data.\n",
    "\n",
    "```python\n",
    "dogs.isna()\n",
    "```"
   ],
   "id": "9692b706805aaad6"
  },
  {
   "metadata": {},
   "cell_type": "markdown",
   "source": [
    "### Detecting any missing values\n",
    "If we chain dot-isna with dot-any, we get one value for each variable that tells us if there are any missing values in that column. Here, we see that there's at least one missing value in the weight column, but not in any of the others.\n",
    "\n",
    "```python\n",
    "dogs.isna().any()\n",
    "```"
   ],
   "id": "a1e3ef0c6763f27d"
  },
  {
   "metadata": {},
   "cell_type": "markdown",
   "source": [
    "### Counting missing values\n",
    "Since taking the sum of Booleans is the same thing as counting the number of `Trues`, we can combine `sum` with `isna` to count the number of `NaNs` in each column.\n",
    "\n",
    "```python\n",
    "dogs.isna().sum()\n",
    "```"
   ],
   "id": "ed4365ac3257e9b5"
  },
  {
   "metadata": {},
   "cell_type": "markdown",
   "source": [
    "### Plotting missing values\n",
    "We can use those counts to visualize the missing values in the dataset using a bar plot. Plots like this are more interesting when you have missing data across different variables, while here, only weights are missing. Now that we know there are missing values in the dataset, what can we do about them?\n",
    "\n",
    "\n",
    "```python\n",
    "import matplotlib.pyplot as plt\n",
    "dogs.isna().sum().plot(kind=\"bar\")\n",
    "plt.show()\n",
    "```"
   ],
   "id": "7ab9c69e6dfc95d8"
  },
  {
   "metadata": {},
   "cell_type": "markdown",
   "source": [
    "### Removing Missing values\n",
    "\n",
    "One option is to remove the rows in the DataFrame that contain missing values. This can be done using the `dropna` method. However, this may not be ideal if you have a lot of missing data, since that means losing a lot of observations.\n",
    "\n",
    "\n",
    "```python\n",
    "dogs.dropna()\n",
    "```"
   ],
   "id": "e410cc1eb6b569d0"
  },
  {
   "metadata": {},
   "cell_type": "markdown",
   "source": [
    "### Replacing missing values\n",
    "Another option is to replace missing values with another value. The fillna method takes in a value, and all NaNs will be replaced with this value. There are also many sophisticated techniques for replacing missing values, which you can learn more about in our course about missing data.\n",
    "\n",
    "\n",
    "```python\n",
    "dogs.fillna(0)\n",
    "```"
   ],
   "id": "d330ff4ad1f3d093"
  },
  {
   "metadata": {},
   "cell_type": "markdown",
   "source": [
    "### Finding missing values\n",
    "\n",
    "Missing values are everywhere, and you don't want them interfering with your work. Some functions ignore missing data by default, but that's not always the behavior you might want. Some functions can't handle missing values at all, so these values need to be taken care of before you can use them. If you don't know where your missing values are, or if they exist, you could make mistakes in your analysis. In this exercise, you'll determine if there are missing values in the dataset, and if so, how many.\n",
    "\n",
    "`pandas` has been imported as `pd` and `avocados_2016`, a subset of `avocados` that contains only sales from 2016, is available.\n",
    "\n",
    "#### Instructions\n",
    "\n",
    "* Print a DataFrame that shows whether each value in `avocados_2016` is missing or not.\n",
    "* Print a summary that shows whether *any* value in each column is missing or not.\n",
    "* Create a bar plot of the total number of missing values in each column.\n"
   ],
   "id": "4688880eaaaf7f43"
  },
  {
   "metadata": {},
   "cell_type": "code",
   "source": [
    "# Import matplotlib.pyplot with alias plt\n",
    "import matplotlib.pyplot as plt\n",
    "avocados_2016 = avocados[avocados[\"year\"] == \"2016\"]\n",
    "# Check individual values for missing values\n",
    "print(avocados_2016.isna())\n",
    "\n",
    "# Check each column for missing values\n",
    "print(avocados_2016.isna().any())\n",
    "\n",
    "# Bar plot of missing values by variable\n",
    "avocados_2016.isna().sum().plot(kind=\"bar\", title=\"Number of avocados 2016\")\n",
    "\n",
    "# Show plot\n",
    "plt.show()"
   ],
   "id": "d2ab4561a5cbe7d4",
   "outputs": [],
   "execution_count": null
  },
  {
   "metadata": {},
   "cell_type": "markdown",
   "source": [
    "### Removing missing values\n",
    "\n",
    "Now that you know there are some missing values in your DataFrame, you have a few options to deal with them. One way is to remove them from the dataset completely. In this exercise, you'll remove missing values by removing all rows that contain missing values.\n",
    "\n",
    "`pandas` has been imported as `pd` and `avocados_2016` is available.\n",
    "\n",
    "#### Instructions\n",
    "\n",
    "* Remove the rows of `avocados_2016` that contain missing values and store the remaining rows in `avocados_complete`.\n",
    "* Verify that all missing values have been removed from `avocados_complete`. Calculate each column that has NAs and print.\n"
   ],
   "id": "e26203dffbec2e9"
  },
  {
   "metadata": {},
   "cell_type": "code",
   "source": [
    "# Remove rows with missing values\n",
    "avocados_complete = avocados_2016.dropna()\n",
    "\n",
    "# Check if any columns contain missing values\n",
    "print(avocados_complete.isna().any())"
   ],
   "id": "22c453345e144e83",
   "outputs": [],
   "execution_count": null
  },
  {
   "metadata": {},
   "cell_type": "markdown",
   "source": [
    "### Replacing missing values\n",
    "\n",
    "Another way of handling missing values is to replace them all with the same value. For numerical variables, one option is to replace values with 0— you'll do this here. However, when you replace missing values, you make assumptions about what a missing value means. In this case, you will assume that a missing number sold means that no sales for that avocado type were made that week.\n",
    "\n",
    "In this exercise, you'll see how replacing missing values can affect the distribution of a variable using histograms. You can plot histograms for multiple variables at a time as follows:\n",
    "\n",
    "```python\n",
    "dogs[[\"height_cm\", \"weight_kg\"]].hist()\n",
    "```\n",
    "\n",
    "`pandas` has been imported as `pd` and `matplotlib.pyplot` has been imported as `plt`. The `avocados_2016` dataset is available.\n",
    "\n",
    "## Instructions 1/2\n",
    "\n",
    "* A list has been created, `cols_with_missing`, containing the names of columns with missing values: `\"small_sold\"`, `\"large_sold\"`, and `\"xl_sold\"`.\n",
    "* Create a histogram of those columns.\n",
    "* Show the plot.\n"
   ],
   "id": "aaff527760fcadc2"
  },
  {
   "metadata": {},
   "cell_type": "code",
   "source": [
    "# List the columns with missing values\n",
    "cols_with_missing = [\"small_sold\", \"large_sold\", \"xl_sold\"]\n",
    "\n",
    "# Create histograms showing the distributions cols_with_missing\n",
    "avocados_2016[cols_with_missing].hist()\n",
    "\n",
    "# Show the plot\n",
    "plt.show()"
   ],
   "id": "6ffe9250c528b746",
   "outputs": [],
   "execution_count": null
  },
  {
   "metadata": {},
   "cell_type": "markdown",
   "source": [
    "\n",
    "## Instructions 2/2\n",
    "\n",
    "* Replace the missing values of `avocados_2016` with `0`s and store the result as `avocados_filled`.\n",
    "* Create a histogram of the `cols_with_missing` columns of `avocados_filled`.\n"
   ],
   "id": "dcf7c8315651659d"
  },
  {
   "metadata": {},
   "cell_type": "code",
   "source": [
    "# From previous step\n",
    "cols_with_missing = [\"small_sold\", \"large_sold\", \"xl_sold\"]\n",
    "avocados_2016[cols_with_missing].hist()\n",
    "plt.show()\n",
    "\n",
    "# Fill in missing values with 0\n",
    "avocados_filled = avocados_2016.fillna(0)\n",
    "\n",
    "# Create histograms of the filled columns\n",
    "avocados_filled.hist()\n",
    "\n",
    "# Show the plot\n",
    "plt.show()"
   ],
   "id": "bfea8b8f24439558",
   "outputs": [],
   "execution_count": null
  },
  {
   "metadata": {},
   "cell_type": "markdown",
   "source": [
    "## Creating DataFrames\n",
    "\n",
    "### Dictionaries\n",
    "A dictionary is a way of storing data in Python. It holds a set of key-value pairs. You can create a dictionary like this, using curly braces. Inside, each key-value pair is written as \"key colon value.\"\n",
    "\n",
    "```python\n",
    "my_dict = {\n",
    "    \"key1\" : value1,\n",
    "    \"key2\" : value2,\n",
    "    \"key3\" : value3,\n",
    "}\n",
    "```\n",
    "\n",
    "```python\n",
    "my_dict[\"key1\"]\n",
    "```\n",
    "\n",
    "Answer:\n",
    "\n",
    "```text\n",
    "value1\n",
    "```\n",
    "\n",
    "```python\n",
    "my_dict = {\n",
    "    \"title\": \"Charlotte's Web\",\n",
    "    \"author\": \"E.B. White\",\n",
    "    \"published\": 1952\n",
    "}\n",
    "```\n",
    "\n",
    "```python\n",
    "my_dict[\"title\"]\n",
    "```\n",
    "\n",
    "Answer:\n",
    "\n",
    "```text\n",
    "Charlotte's Web\n",
    "```"
   ],
   "id": "7575dbb5f9f93ddd"
  },
  {
   "metadata": {},
   "cell_type": "markdown",
   "source": [
    "### Creating DataFrames\n",
    "\n",
    "1. From a list dictionaries\n",
    "    - Constructed row by row\n",
    "2. From a dictionary of lists\n",
    "    - Constructed column by column\n",
    "\n",
    "#### List of dictionaries - by row\n",
    "\n",
    "```python\n",
    "list_of_dicts = [\n",
    "   {\n",
    "    \"name\": \"Ginger\",\n",
    "    \"breed\": \"Dachshund\",\n",
    "    \"height_cm\": 22,\n",
    "    \"weight_kg\": 10,\n",
    "    \"date_of_birth\": \"2019-03-14\"\n",
    "    },\n",
    "    {\n",
    "    \"name\": \"Scout\",\n",
    "    \"breed\": \"Dalmatian\",\n",
    "    \"height_cm\": 59,\n",
    "    \"weight_kg\": 25,\n",
    "    \"date_of_birth\": \"2019-05-09\"\n",
    "    }\n",
    "]\n",
    "```\n",
    "\n",
    "```python\n",
    "import pandas as pd\n",
    "new_dogs = pd.DataFrame(list_of_dicts)\n",
    "print(new_dogs)\n",
    "```\n",
    "\n",
    "#### Dictionary of lists - by column\n",
    "```python\n",
    "dict_of_lists = {\n",
    "    \"name\": [\"Ginger\", \"Scout\"],\n",
    "    \"breed\": [\"Dachshund\", \"Dalmatian\"],\n",
    "    \"height_cm\": [22, 59],\n",
    "    \"weight_kg\": [10, 25],\n",
    "    \"date_of_birth\": [\"2019-03-14\", \"2019-05-09\"]\n",
    "}\n",
    "new_dogs = pd.DataFrame(dict_of_lists)\n",
    "```\n",
    "\n",
    "- **Key** = Column name\n",
    "- **Value** = list of column values\n",
    "\n",
    "\n"
   ],
   "id": "b8de92a03444a203"
  },
  {
   "metadata": {},
   "cell_type": "markdown",
   "source": [
    "### List of dictionaries\n",
    "\n",
    "You recently got some new avocado data from 2019 that you'd like to put in a DataFrame using the list of dictionaries method. Remember that with this method, you go through the data row by row.\n",
    "\n",
    "\n",
    "| date         | small_sold | large_sold |\n",
    "| -------------- | ------------ | ------------ |\n",
    "| \"2019-11-03\" | 10376832   | 7835071    |\n",
    "| \"2019-11-10\" | 10717154   | 8561348    |\n",
    "\n",
    "`pandas` as `pd` is imported.\n",
    "\n",
    "#### Instructions\n",
    "\n",
    "* Create a list of dictionaries with the new data called `avocados_list`.\n",
    "* Convert the list into a DataFrame called `avocados_2019`.\n",
    "* Print your new DataFrame.\n"
   ],
   "id": "5ee89130c300b67"
  },
  {
   "metadata": {
    "ExecuteTime": {
     "end_time": "2024-11-27T12:40:50.680573Z",
     "start_time": "2024-11-27T12:40:50.673502Z"
    }
   },
   "cell_type": "code",
   "source": [
    "# Create a list of dictionaries with new data\n",
    "avocados_list = [\n",
    "    {\"date\": \"2019-11-03\", \"small_sold\": 10376832, \"large_sold\": 7835071},\n",
    "    {\"date\": \"2019-11-10\", \"small_sold\": 10717154, \"large_sold\": 8561348},\n",
    "]\n",
    "\n",
    "# Convert list into DataFrame\n",
    "avocados_2019 = pd.DataFrame(avocados_list)\n",
    "\n",
    "# Print the new DataFrame\n",
    "print(avocados_2019)"
   ],
   "id": "19eab47725bf9c2b",
   "outputs": [
    {
     "name": "stdout",
     "output_type": "stream",
     "text": [
      "         date  small_sold  large_sold\n",
      "0  2019-11-03    10376832     7835071\n",
      "1  2019-11-10    10717154     8561348\n"
     ]
    }
   ],
   "execution_count": 13
  },
  {
   "metadata": {},
   "cell_type": "markdown",
   "source": [
    "### Dictionary of lists\n",
    "\n",
    "Some more data just came in! This time, you'll use the dictionary of lists method, parsing the data column by column.\n",
    "\n",
    "\n",
    "| date         | small_sold | large_sold |\n",
    "| -------------- | ------------ | ------------ |\n",
    "| \"2019-11-17\" | 10859987   | 7674135    |\n",
    "| \"2019-12-01\" | 9291631    | 6238096    |\n",
    "\n",
    "`pandas` as `pd` is imported.\n",
    "\n",
    "#### Instructions\n",
    "\n",
    "* Create a dictionary of lists with the new data called `avocados_dict`.\n",
    "* Convert the dictionary to a DataFrame called `avocados_2019`.\n",
    "* Print your new DataFrame.\n"
   ],
   "id": "90acfb99cb458996"
  },
  {
   "metadata": {
    "ExecuteTime": {
     "end_time": "2024-11-27T12:42:39.215756Z",
     "start_time": "2024-11-27T12:42:39.208122Z"
    }
   },
   "cell_type": "code",
   "source": [
    "# Create a dictionary of lists with new data\n",
    "avocados_dict = {\n",
    "  \"date\": [\"2019-11-17\", \"2019-12-01\"],\n",
    "  \"small_sold\": [10859987, 9291631],\n",
    "  \"large_sold\": [7674135, 6238096]\n",
    "}\n",
    "\n",
    "# Convert dictionary into DataFrame\n",
    "avocados_2019 = pd.DataFrame(avocados_dict)\n",
    "\n",
    "# Print the new DataFrame\n",
    "print(avocados_2019)"
   ],
   "id": "9fdcd1dababe545a",
   "outputs": [
    {
     "name": "stdout",
     "output_type": "stream",
     "text": [
      "         date  small_sold  large_sold\n",
      "0  2019-11-17    10859987     7674135\n",
      "1  2019-12-01     9291631     6238096\n"
     ]
    }
   ],
   "execution_count": 15
  },
  {
   "metadata": {},
   "cell_type": "markdown",
   "source": [
    "## Reading and Writing CSVs\n",
    "### What's a CSV file?\n",
    "\n",
    "CSV, or comma-separated values, is a common data storage file type. It's designed to store tabular data, just like a pandas DataFrame. It's a text file, where each row of data has its own line, and each value is separated by a comma."
   ],
   "id": "a5c2ccc6f175701a"
  },
  {
   "metadata": {},
   "cell_type": "markdown",
   "source": [
    "### DataFrame Manipulation\n",
    "\n",
    "```python\n",
    "new_dogs[\"bmi\"] =  new_dogs[\"weight_kg\"] / (new_dogs[\"height_cm\"] / 100) ** 2\n",
    "\n",
    "```"
   ],
   "id": "facbf9004aca5922"
  },
  {
   "metadata": {},
   "cell_type": "markdown",
   "source": [
    "### DataFrame to CSV\n",
    "\n",
    "```python\n",
    "dict_of_lists = {\n",
    "    \"name\": [\"Ginger\", \"Scout\"],\n",
    "    \"breed\": [\"Dachshund\", \"Dalmatian\"],\n",
    "    \"height_cm\": [22, 59],\n",
    "    \"weight_kg\": [10, 25],\n",
    "    \"date_of_birth\": [\"2019-03-14\", \"2019-05-09\"]\n",
    "}\n",
    "new_dogs = pd.DataFrame(dict_of_lists)\n",
    "```\n",
    "\n",
    "```python\n",
    "new_dogs.to_csv(\"new_dogs_with_bmi.csv\")\n",
    "```"
   ],
   "id": "3d83b356d4aae842"
  },
  {
   "metadata": {},
   "cell_type": "markdown",
   "source": [
    "### CSV to DataFrame\n",
    "\n",
    "You work for an airline, and your manager has asked you to do a competitive analysis and see how often passengers flying on other airlines are involuntarily bumped from their flights. You got a CSV file (`airline_bumping.csv`) from the Department of Transportation containing data on passengers that were involuntarily denied boarding in 2016 and 2017, but it doesn't have the exact numbers you want. In order to figure this out, you'll need to get the CSV into a pandas DataFrame and do some manipulation!\n",
    "\n",
    "`pandas` is imported for you as `pd`. `\"airline_bumping.csv\"` is in your working directory.\n",
    "\n",
    "#### Instructions 1/4\n",
    "\n",
    "* Read the CSV file `\"airline_bumping.csv\"` and store it as a DataFrame called `airline_bumping`.\n",
    "* Print the first few rows of `airline_bumping`.\n"
   ],
   "id": "38d6efbb90274e8a"
  },
  {
   "metadata": {
    "ExecuteTime": {
     "end_time": "2024-11-27T13:03:25.853429Z",
     "start_time": "2024-11-27T13:03:25.747901Z"
    }
   },
   "cell_type": "code",
   "source": [
    "# Read CSV as DataFrame called airline_bumping\n",
    "airline_bumping = pd.read_csv(\"../../data/airline_bumping.csv\")\n",
    "\n",
    "# Take a look at the DataFrame\n",
    "print(airline_bumping.head())"
   ],
   "id": "1b7a19643b5acf12",
   "outputs": [
    {
     "name": "stdout",
     "output_type": "stream",
     "text": [
      "             airline  year  nb_bumped  total_passengers\n",
      "0    DELTA AIR LINES  2017        679          99796155\n",
      "1     VIRGIN AMERICA  2017        165           6090029\n",
      "2    JETBLUE AIRWAYS  2017       1475          27255038\n",
      "3    UNITED AIRLINES  2017       2067          70030765\n",
      "4  HAWAIIAN AIRLINES  2017         92           8422734\n"
     ]
    }
   ],
   "execution_count": 16
  },
  {
   "metadata": {},
   "cell_type": "markdown",
   "source": [
    "#### Instructions 2/4\n",
    "\n",
    "* For each airline group, select the `nb_bumped`, and `total_passengers` columns, and calculate the sum (for both years). Store this as `airline_totals`.\n"
   ],
   "id": "a198184aa27e0007"
  },
  {
   "metadata": {
    "ExecuteTime": {
     "end_time": "2024-11-27T13:06:29.173911Z",
     "start_time": "2024-11-27T13:06:29.078944Z"
    }
   },
   "cell_type": "code",
   "source": [
    "# From previous step\n",
    "airline_bumping = pd.read_csv(\"../../data/airline_bumping.csv\")\n",
    "print(airline_bumping.head())\n",
    "\n",
    "# For each airline, select nb_bumped and total_passengers and sum\n",
    "airline_totals = airline_bumping.groupby(\"airline\")[[\"nb_bumped\", \"total_passengers\"]].sum()"
   ],
   "id": "b29f358560a732bd",
   "outputs": [
    {
     "name": "stdout",
     "output_type": "stream",
     "text": [
      "             airline  year  nb_bumped  total_passengers\n",
      "0    DELTA AIR LINES  2017        679          99796155\n",
      "1     VIRGIN AMERICA  2017        165           6090029\n",
      "2    JETBLUE AIRWAYS  2017       1475          27255038\n",
      "3    UNITED AIRLINES  2017       2067          70030765\n",
      "4  HAWAIIAN AIRLINES  2017         92           8422734\n"
     ]
    }
   ],
   "execution_count": 18
  },
  {
   "metadata": {},
   "cell_type": "markdown",
   "source": [
    "#### Instructions 3/4\n",
    "\n",
    "* Create a new column of `airline_totals` called `bumps_per_10k`, which is the number of passengers bumped per 10,000 passengers in 2016 and 2017.\n"
   ],
   "id": "7481bae3ebc87722"
  },
  {
   "metadata": {
    "ExecuteTime": {
     "end_time": "2024-11-27T13:11:45.358264Z",
     "start_time": "2024-11-27T13:11:45.347733Z"
    }
   },
   "cell_type": "code",
   "source": [
    "# From previous steps\n",
    "airline_bumping = pd.read_csv(\"../../data/airline_bumping.csv\")\n",
    "print(airline_bumping.head())\n",
    "airline_totals = airline_bumping.groupby(\"airline\")[[\"nb_bumped\", \"total_passengers\"]].sum()\n",
    "\n",
    "# Create new col, bumps_per_10k: no. of bumps per 10k passengers for each airline\n",
    "airline_totals[\"bumps_per_10k\"] = airline_totals[\"nb_bumped\"] / airline_totals[\"total_passengers\"] * 10000\n",
    "\n",
    "print(airline_totals.head())"
   ],
   "id": "df27b08301868eae",
   "outputs": [
    {
     "name": "stdout",
     "output_type": "stream",
     "text": [
      "             airline  year  nb_bumped  total_passengers\n",
      "0    DELTA AIR LINES  2017        679          99796155\n",
      "1     VIRGIN AMERICA  2017        165           6090029\n",
      "2    JETBLUE AIRWAYS  2017       1475          27255038\n",
      "3    UNITED AIRLINES  2017       2067          70030765\n",
      "4  HAWAIIAN AIRLINES  2017         92           8422734\n",
      "                     nb_bumped  total_passengers  bumps_per_10k\n",
      "airline                                                        \n",
      "ALASKA AIRLINES           1392          36543121       0.380920\n",
      "AMERICAN AIRLINES        11115         197365225       0.563169\n",
      "DELTA AIR LINES           1591         197033215       0.080748\n",
      "EXPRESSJET AIRLINES       3326          27858678       1.193883\n",
      "FRONTIER AIRLINES         1228          22954995       0.534960\n"
     ]
    }
   ],
   "execution_count": 23
  },
  {
   "metadata": {},
   "cell_type": "markdown",
   "source": [
    "### DataFrame to CSV\n",
    "\n",
    "You're almost there! To make things easier to read, you'll need to sort the data and export it to CSV so that your colleagues can read it.\n",
    "\n",
    "`pandas` as `pd` has been imported for you.\n",
    "\n",
    "#### Instructions\n",
    "\n",
    "* Sort `airline_totals` by the values of `bumps_per_10k` from highest to lowest, storing as `airline_totals_sorted`.\n",
    "* Print your sorted DataFrame.\n",
    "* Save the sorted DataFrame as a CSV called `\"airline_totals_sorted.csv\"`.\n"
   ],
   "id": "a17e12c8a2e5eb0e"
  },
  {
   "metadata": {
    "ExecuteTime": {
     "end_time": "2024-11-27T13:16:18.048369Z",
     "start_time": "2024-11-27T13:16:18.037980Z"
    }
   },
   "cell_type": "code",
   "source": [
    "# Create airline_totals_sorted\n",
    "airline_totals_sorted = airline_totals.sort_values(\"bumps_per_10k\", ascending=False)\n",
    "\n",
    "# Print airline_totals_sorted\n",
    "print(airline_totals_sorted.head())\n",
    "\n",
    "# Save as airline_totals_sorted.csv\n",
    "airline_totals_sorted.to_csv(\"../../data/airline_totals_sorted.csv\")"
   ],
   "id": "9e0c80d23dd5b3d3",
   "outputs": [
    {
     "name": "stdout",
     "output_type": "stream",
     "text": [
      "                     nb_bumped  total_passengers  bumps_per_10k\n",
      "airline                                                        \n",
      "EXPRESSJET AIRLINES       3326          27858678       1.193883\n",
      "SPIRIT AIRLINES           2920          32304571       0.903897\n",
      "SOUTHWEST AIRLINES       18585         228142036       0.814624\n",
      "JETBLUE AIRWAYS           3615          53245866       0.678926\n",
      "SKYWEST AIRLINES          3094          47091737       0.657015\n"
     ]
    }
   ],
   "execution_count": 28
  },
  {
   "metadata": {},
   "cell_type": "markdown",
   "source": [
    "# Recap\n",
    "\n",
    "- Chapter 1\n",
    "    - Subsetting and sorting\n",
    "    - Adding new columns\n",
    "- Chapter 2\n",
    "    - Aggregating and grouping\n",
    "    - Summary statistics\n",
    "- Chapter 3\n",
    "    - Indexing\n",
    "    - Slicing\n",
    "- Chapter 4\n",
    "    - Visualizations\n",
    "    - Reading and writing CSVs\n"
   ],
   "id": "304614893e872402"
  }
 ],
 "metadata": {
  "kernelspec": {
   "name": "python3",
   "language": "python",
   "display_name": "Python 3 (ipykernel)"
  }
 },
 "nbformat": 5,
 "nbformat_minor": 9
}
