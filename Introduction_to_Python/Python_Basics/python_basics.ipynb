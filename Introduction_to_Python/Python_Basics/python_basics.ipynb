{
 "cells": [
  {
   "metadata": {},
   "cell_type": "markdown",
   "source": "# Python Basics",
   "id": "de6dce792cb673a8"
  },
  {
   "metadata": {},
   "cell_type": "markdown",
   "source": [
    "## Your first Python code\n",
    "It's time to run your first Python code!\n",
    "\n",
    "Head to the code and hit the run code button to see the output.\n",
    "\n",
    "* Hit the run code button to see the output of \n",
    "```python\n",
    "print(5 / 8)\n",
    "```"
   ],
   "id": "4a7e5f6ff0551029"
  },
  {
   "metadata": {
    "ExecuteTime": {
     "end_time": "2024-11-04T01:27:08.285593Z",
     "start_time": "2024-11-04T01:27:08.280452Z"
    }
   },
   "cell_type": "code",
   "source": [
    "from idlelib.rpc import pickle_code\n",
    "\n",
    "from numpy.ma.core import count\n",
    "\n",
    "print(5/8)"
   ],
   "id": "49a5acd4098a3e87",
   "outputs": [
    {
     "name": "stdout",
     "output_type": "stream",
     "text": [
      "0.625\n"
     ]
    }
   ],
   "execution_count": 1
  },
  {
   "metadata": {},
   "cell_type": "markdown",
   "source": [
    "## Any comments?\n",
    "You can also add **comments** to your Python scripts. Comments are important to make sure that you and others can understand what your code is about and do not run as Python code.\n",
    "\n",
    "They start with `#` tag. See the comment in the editor, `#` Division; now it's your turn to add a comment!\n",
    "\n",
    "* Replace ____ with the comment\n",
    "* \\# Addition"
   ],
   "id": "748f99ba5337270d"
  },
  {
   "metadata": {
    "ExecuteTime": {
     "end_time": "2024-11-04T01:28:44.293493Z",
     "start_time": "2024-11-04T01:28:44.289013Z"
    }
   },
   "cell_type": "code",
   "source": [
    "# Division\n",
    "print(5 / 8)\n",
    "#Addition\n",
    "print(7 + 10)"
   ],
   "id": "d8c5979dee5fb61c",
   "outputs": [
    {
     "name": "stdout",
     "output_type": "stream",
     "text": [
      "0.625\n",
      "17\n"
     ]
    }
   ],
   "execution_count": 2
  },
  {
   "metadata": {},
   "cell_type": "markdown",
   "source": [
    "## Python as a calculator\n",
    "Python is perfectly suited to do basic calculations. It can do addition, subtraction, multiplication and division.\n",
    "\n",
    "The code in the script gives some examples.\n",
    "\n",
    "Now it's your turn to practice!\n",
    "\n",
    "### Instructions\n",
    "* Print the sum of `4 + 5`.\n",
    "* Print the result of subtracting `5 from 5`.\n",
    "* Print the result of multiplying `3 by 5`.\n",
    "* Print the result of dividing `10 by 2`."
   ],
   "id": "67dad7fad4ada6b4"
  },
  {
   "metadata": {
    "ExecuteTime": {
     "end_time": "2024-11-04T01:30:23.878473Z",
     "start_time": "2024-11-04T01:30:23.873107Z"
    }
   },
   "cell_type": "code",
   "source": [
    "# Addition\n",
    "print(4+5)\n",
    "\n",
    "# Subtraction\n",
    "print(5-5)\n",
    "\n",
    "# Multiplication\n",
    "print(3*5)\n",
    "\n",
    "# Division\n",
    "print(10/2)"
   ],
   "id": "fbd68719703cfe89",
   "outputs": [
    {
     "name": "stdout",
     "output_type": "stream",
     "text": [
      "9\n",
      "0\n",
      "15\n",
      "5.0\n"
     ]
    }
   ],
   "execution_count": 3
  },
  {
   "metadata": {},
   "cell_type": "markdown",
   "source": [
    "### Variable Assignment\n",
    "In Python, a variable allows you to refer to a value with a name. To create a variable `x` with a value of `5`, you use `=`, like this example:\n",
    "```python\n",
    "x = 5\n",
    "```\n",
    "\n",
    "You can now use the name of this variable, `x`, instead of the actual value, `5`.\n",
    "\n",
    "Remember, `=` in Python means assignment, it doesn't test equality! Try it in the exercise by replacing `____` with your code.\n",
    "\n",
    "#### Instructions\n",
    "* Create a variable savings with the value of 100.\n",
    "* Check out this variable by typing print(savings) in the script.\n",
    "\n"
   ],
   "id": "170bb7d12fa9030a"
  },
  {
   "metadata": {
    "ExecuteTime": {
     "end_time": "2024-11-04T01:35:30.462864Z",
     "start_time": "2024-11-04T01:35:30.456411Z"
    }
   },
   "cell_type": "code",
   "source": [
    "savings = 100\n",
    "\n",
    "# Print out savings\n",
    "print(savings)"
   ],
   "id": "e08f48816017f685",
   "outputs": [
    {
     "name": "stdout",
     "output_type": "stream",
     "text": [
      "100\n"
     ]
    }
   ],
   "execution_count": 4
  },
  {
   "metadata": {},
   "cell_type": "markdown",
   "source": [
    "### Calculations with variables\n",
    "You've now created a savings variable, so let's start saving!\n",
    "\n",
    "Instead of calculating with the actual values, you can use variables instead.\n",
    "\n",
    "How much money would you have saved four months from now, if you saved $10 each month?\n",
    "\n",
    "#### Instructions\n",
    "\n",
    "* Create a variable `monthly_savings`, equal to `10` and `num_months`, equal to `4`.\n",
    "* Multiply `monthly_savings` by `num_months` and assign it to `new_savings`.\n",
    "* Print the value of `new_savings`."
   ],
   "id": "881c69cb0d3112da"
  },
  {
   "metadata": {},
   "cell_type": "markdown",
   "source": [
    "### Other variable types\n",
    "In the previous exercise, you worked with the integer Python data type:\n",
    "\n",
    "* `int`, or integer: a number without a fractional part. `savings`, with the value `100`, is an example of an integer.\n",
    "Next to numerical data types, there are three other very common data types:\n",
    "\n",
    "* `float`, or floating point: a number that has both an integer and fractional part, separated by a point. `1.1`, is an example of a float.\n",
    "* `str`, or string: a type to represent text. You can use single or double quotes to build a string.\n",
    "* `bool`, or boolean: a type to represent logical values. It can only be `True` or `False` (the capitalization is important!).\n",
    "\n",
    "#### Instructions\n",
    "\n",
    "* Create a new float, `half`, with the value `0.5`.\n",
    "* Create a new string, `intro`, with the value `\"Hello! How are you?\"`.\n",
    "* Create a new boolean, `is_good`, with the value `True`."
   ],
   "id": "382b3c2912e9ac67"
  },
  {
   "metadata": {},
   "cell_type": "code",
   "outputs": [],
   "execution_count": null,
   "source": [
    "# Create a variable half\n",
    "half = 0.5\n",
    "\n",
    "# Create a variable intro\n",
    "intro = \"Hello! How are you?\"\n",
    "\n",
    "# Create a variable is_good\n",
    "is_good = True"
   ],
   "id": "6a0378d54c8370be"
  },
  {
   "metadata": {},
   "cell_type": "markdown",
   "source": [
    "### Operations with other types\n",
    "Variables come in different types in Python. You can see the type of a variable by using `type()`. For example, to see type of a, execute: `type(a)`.\n",
    "\n",
    "Different types behave differently in Python. When you sum two strings, for example, you'll get different behavior than when you sum two integers or two booleans.\n",
    "\n",
    "Time for you to test this out.\n",
    "\n",
    "Instructions 1/2\n",
    "\n",
    "* Add `savings` and `new_savings` and assign it to `total_savings`.\n",
    "* Use `type()` to print the resulting type of `total_savings`."
   ],
   "id": "df23812d7d5e6afe"
  },
  {
   "metadata": {
    "ExecuteTime": {
     "end_time": "2024-11-04T01:47:46.946517Z",
     "start_time": "2024-11-04T01:47:46.941032Z"
    }
   },
   "cell_type": "code",
   "source": [
    "savings = 100\n",
    "new_savings = 40\n",
    "\n",
    "# Calculate total_savings using savings and new_savings\n",
    "total_savings = savings + new_savings\n",
    "print((type(total_savings)))\n",
    "print(total_savings)"
   ],
   "id": "1bcfa5dceee30b87",
   "outputs": [
    {
     "name": "stdout",
     "output_type": "stream",
     "text": [
      "<class 'int'>\n",
      "140\n"
     ]
    }
   ],
   "execution_count": 7
  },
  {
   "metadata": {},
   "cell_type": "markdown",
   "source": [
    "#### Instructions 2/2\n",
    "\n",
    "* Calculate the sum of `intro` and intro and assign the result to `doubleintro`.\n",
    "* Print out `doubleintro`. Did you expect this?"
   ],
   "id": "6f48945e13529d5e"
  },
  {
   "metadata": {
    "ExecuteTime": {
     "end_time": "2024-11-04T01:57:58.890251Z",
     "start_time": "2024-11-04T01:57:58.885429Z"
    }
   },
   "cell_type": "code",
   "source": [
    "intro = \"Hello! How are you?\"\n",
    "\n",
    "# Assign sum of intro and intro to doubleintro\n",
    "doubleintro = intro + intro\n",
    "print(type(doubleintro))\n",
    "# Print out doubleintro\n",
    "print(doubleintro)"
   ],
   "id": "35cbbce2737e318b",
   "outputs": [
    {
     "name": "stdout",
     "output_type": "stream",
     "text": [
      "<class 'str'>\n",
      "Hello! How are you?Hello! How are you?\n"
     ]
    }
   ],
   "execution_count": 12
  },
  {
   "metadata": {},
   "cell_type": "markdown",
   "source": [
    "# Python Lists\n",
    "Learn to store, access, and manipulate data in lists: the first step toward efficiently working with huge amounts of data."
   ],
   "id": "df03bd3d19fd8ea0"
  },
  {
   "metadata": {},
   "cell_type": "markdown",
   "source": [
    "## Create a list\n",
    "A list is a `compound data type`; you can group values together, like this:\n",
    "\n",
    "```python\n",
    "a = \"is\"\n",
    "b = \"nice\"\n",
    "my_list = [\"my\", \"list\", a, b]\n",
    "```\n",
    "\n",
    "After measuring the height of your family, you decide to collect some information on the house you're living in. The areas of the different parts of your house are stored in separate variables in the exercise.\n",
    "\n",
    "### Instructions\n",
    "* Create a list, `areas`, that contains the area of the hallway (`hall`), kitchen (`kit`), living room (`liv`), bedroom (`bed`) and bathroom (`bath`), in this order. Use the predefined variables.\n",
    "* Print `areas` with the `print()` function."
   ],
   "id": "54a5f256a26b1306"
  },
  {
   "metadata": {
    "ExecuteTime": {
     "end_time": "2024-11-04T01:55:03.746014Z",
     "start_time": "2024-11-04T01:55:03.741385Z"
    }
   },
   "cell_type": "code",
   "source": [
    "hall = 11.25\n",
    "kit = 18.0\n",
    "liv = 20.0\n",
    "bed = 10.75\n",
    "bath = 9.50\n",
    "\n",
    "# Create list areas\n",
    "areas = [hall, kit, liv, bed, bath]\n",
    "\n",
    "# Print areas\n",
    "print(areas)"
   ],
   "id": "4d0519d512dfb7ba",
   "outputs": [
    {
     "name": "stdout",
     "output_type": "stream",
     "text": [
      "[11.25, 18.0, 20.0, 10.75, 9.5]\n"
     ]
    }
   ],
   "execution_count": 10
  },
  {
   "metadata": {},
   "cell_type": "markdown",
   "source": [
    "## Create lists with different types\n",
    "Although it's not really common, a list can also contain a mix of Python types including strings, floats, and booleans.\n",
    "\n",
    "You're now going to add the room names to your list, so you can easily see both the room name and size together.\n",
    "\n",
    "Some of the code has been provided for you to get you started. Pay attention here! `\"bathroom\"` is a string, while bath is a variable that represents the float `9.50` you specified earlier.\n",
    "\n",
    "### Instructions\n",
    "\n",
    "* Finish the code that creates the `areas` list. Build the list so that the list first contains the name of each room as a string and then its area. In other words, add the strings `\"hallway\"`, `\"kitchen\"` and `\"bedroom\"` at the appropriate locations.\n",
    "* Print `areas` again; is the printout more informative this time?"
   ],
   "id": "e184e366a21dbc99"
  },
  {
   "metadata": {
    "ExecuteTime": {
     "end_time": "2024-11-04T01:57:03.959279Z",
     "start_time": "2024-11-04T01:57:03.954550Z"
    }
   },
   "cell_type": "code",
   "source": [
    "hall = 11.25\n",
    "kit = 18.0\n",
    "liv = 20.0\n",
    "bed = 10.75\n",
    "bath = 9.50\n",
    "\n",
    "# Adapt list areas\n",
    "areas = [\"hallway\", hall, \"kitchen\", kit, \"living room\", liv, \"bedroom\", bed, \"bathroom\", bath]\n",
    "\n",
    "# Print areas\n",
    "print(areas)"
   ],
   "id": "8e63ec2a07b62dc6",
   "outputs": [
    {
     "name": "stdout",
     "output_type": "stream",
     "text": [
      "['hallway', 11.25, 'kitchen', 18.0, 'living room', 20.0, 'bedroom', 10.75, 'bathroom', 9.5]\n"
     ]
    }
   ],
   "execution_count": 11
  },
  {
   "metadata": {},
   "cell_type": "markdown",
   "source": [
    "\n",
    "## List of lists\n",
    "As a data scientist, you'll often be dealing with a lot of data, and it will make sense to group some of this data.\n",
    "\n",
    "Instead of creating a list containing strings and floats, representing the names and areas of the rooms in your house, you can create a list of lists.\n",
    "\n",
    "Remember: `\"hallway\"` is a string, while `hall` is a variable that represents the float `11.25` you specified earlier.\n",
    "\n",
    "### Instructions\n",
    "\n",
    "* Finish the list of lists so that it also contains the bedroom and bathroom data. Make sure you enter these in order!\n",
    "* Print out `house`; does this way of structuring your data make more sense?"
   ],
   "id": "1a824db83b998fbd"
  },
  {
   "metadata": {
    "ExecuteTime": {
     "end_time": "2024-11-04T01:59:26.930767Z",
     "start_time": "2024-11-04T01:59:26.925633Z"
    }
   },
   "cell_type": "code",
   "source": [
    "hall = 11.25\n",
    "kit = 18.0\n",
    "liv = 20.0\n",
    "bed = 10.75\n",
    "bath = 9.50\n",
    "\n",
    "# House information as list of lists\n",
    "house = [[\"hallway\", hall],\n",
    "         [\"kitchen\", kit],\n",
    "         [\"living room\", liv],\n",
    "        [\"bedroom\", bed],\n",
    "        [\"bathroom\", bath]]\n",
    "\n",
    "# Print out house\n",
    "print(house)"
   ],
   "id": "29a6d93fc9342676",
   "outputs": [
    {
     "name": "stdout",
     "output_type": "stream",
     "text": [
      "[['hallway', 11.25], ['kitchen', 18.0], ['living room', 20.0], ['bedroom', 10.75], ['bathroom', 9.5]]\n"
     ]
    }
   ],
   "execution_count": 13
  },
  {
   "metadata": {},
   "cell_type": "markdown",
   "source": [
    "## Subset and conquer\n",
    "Subsetting Python lists is a piece of cake. Take the code sample below, which creates a list `x` and then selects `\"b\" `from it. Remember that this is the second element, so it has index `1`. You can also use `negative indexing`.\n",
    "\n",
    "```python\n",
    "x = [\"a\", \"b\", \"c\", \"d\"]\n",
    "x[1]\n",
    "x[-3] # same result!\n",
    "```\n",
    "\n",
    "Remember the `areas` list from before, containing both strings and floats? Its definition is already in the script. Can you add the correct code to do some Python subsetting?\n",
    "\n",
    "### Instructions\n",
    "\n",
    "* Print out the second element from the `areas` list (it has the value `11.25`).\n",
    "* Subset and print out the last element of `areas`, being `9.50`. Using a negative index makes sense here!\n",
    "* Select the number representing the area of the living room (`20.0`) and print it out."
   ],
   "id": "457f7fc1eb5506e2"
  },
  {
   "metadata": {
    "ExecuteTime": {
     "end_time": "2024-11-04T02:04:57.252694Z",
     "start_time": "2024-11-04T02:04:57.248111Z"
    }
   },
   "cell_type": "code",
   "source": [
    "# Create the areas list\n",
    "areas = [\"hallway\", 11.25, \"kitchen\", 18.0, \"living room\", 20.0, \"bedroom\", 10.75, \"bathroom\", 9.50]\n",
    "\n",
    "# Print out second element from areas\n",
    "print(areas[1])\n",
    "\n",
    "# Print out last element from areas\n",
    "print(areas[-1])\n",
    "\n",
    "# Print out the area of the living room\n",
    "print(areas[-5])"
   ],
   "id": "e3488ee4aa3c635b",
   "outputs": [
    {
     "name": "stdout",
     "output_type": "stream",
     "text": [
      "11.25\n",
      "9.5\n",
      "20.0\n"
     ]
    }
   ],
   "execution_count": 16
  },
  {
   "metadata": {},
   "cell_type": "markdown",
   "source": [
    "## Slicing and dicing\n",
    "Selecting single values from a list is just one part of the story. It's also possible to slice your list, which means selecting multiple elements from your list. Use the following syntax:\n",
    "\n",
    "```python\n",
    "my_list[start:end]\n",
    "```\n",
    "\n",
    "The `start` index will be included, while the `end` index is `not`. However, it's also possible not to specify these indexes. If you don't specify the `start` index, Python figures out that you want to start your slice at the beginning of your list.\n",
    "\n",
    "### Instructions\n",
    "\n",
    "* Use slicing to create a list, `downstairs`, that contains the first 6 elements of `areas`.\n",
    "* Create `upstairs`, as the last `4` elements of areas. This time, simplify the `slicing` by omitting the `end` index.\n",
    "* Print both `downstairs` and `upstairs` using `print()`."
   ],
   "id": "a09260f9b76321cf"
  },
  {
   "metadata": {
    "ExecuteTime": {
     "end_time": "2024-11-04T02:11:38.778142Z",
     "start_time": "2024-11-04T02:11:38.773444Z"
    }
   },
   "cell_type": "code",
   "source": [
    "# Create the areas list\n",
    "areas = [\"hallway\", 11.25, \"kitchen\", 18.0, \"living room\", 20.0, \"bedroom\", 10.75, \"bathroom\", 9.50]\n",
    "\n",
    "# Use slicing to create downstairs\n",
    "downstairs = areas[:6]\n",
    "\n",
    "# Use slicing to create upstairs\n",
    "upstairs = areas[6:]\n",
    "\n",
    "# Print out downstairs and upstairs\n",
    "print(downstairs)\n",
    "print(upstairs)"
   ],
   "id": "9154f4f34c8fa93b",
   "outputs": [
    {
     "name": "stdout",
     "output_type": "stream",
     "text": [
      "['hallway', 11.25, 'kitchen', 18.0, 'living room', 20.0]\n",
      "['bedroom', 10.75, 'bathroom', 9.5]\n"
     ]
    }
   ],
   "execution_count": 19
  },
  {
   "metadata": {},
   "cell_type": "markdown",
   "source": [
    "### Exercise\n",
    "#### Subsetting lists of lists\n",
    "A Python list can also contain other lists.\n",
    "\n",
    "To subset lists of lists, you can use the same technique as before: square brackets. This would look something like this for a list, house:\n",
    "\n",
    "```python\n",
    "house[2][0]\n",
    "```\n",
    "#### Instructions\n",
    "\n",
    "Subset the `house` list to get the float `9.5`."
   ],
   "id": "c35ab80369c8e9b1"
  },
  {
   "metadata": {
    "ExecuteTime": {
     "end_time": "2024-11-04T02:15:27.264624Z",
     "start_time": "2024-11-04T02:15:27.259100Z"
    }
   },
   "cell_type": "code",
   "source": [
    "house = [[\"hallway\", 11.25],\n",
    "         [\"kitchen\", 18.0],\n",
    "         [\"living room\", 20.0],\n",
    "         [\"bedroom\", 10.75],\n",
    "         [\"bathroom\", 9.50]]\n",
    "\n",
    "# Subset the house list\n",
    "house[4][1]\n"
   ],
   "id": "e82b2dd3d1347b98",
   "outputs": [
    {
     "data": {
      "text/plain": [
       "9.5"
      ]
     },
     "execution_count": 23,
     "metadata": {},
     "output_type": "execute_result"
    }
   ],
   "execution_count": 23
  },
  {
   "metadata": {},
   "cell_type": "markdown",
   "source": [
    "## Replace list elements\n",
    "To replace list elements, you subset the list and assign new values to the subset. You can select single elements or you can change entire list slices at once.\n",
    "\n",
    "For this and the following exercises, you'll continue working on the `areas` list that contains the names and areas of different rooms in a house.\n",
    "\n",
    "\n",
    "### Instructions\n",
    "\n",
    "* Update the area of the bathroom to be `10.50` square meters instead of `9.50` using negative indexing.\n",
    "* Make the `areas` list more trendy! Change `\"living room\"` to `\"chill zone\"`. Don't use negative indexing this time."
   ],
   "id": "57a0cab1f002e4a5"
  },
  {
   "metadata": {
    "ExecuteTime": {
     "end_time": "2024-11-04T02:23:07.637379Z",
     "start_time": "2024-11-04T02:23:07.632994Z"
    }
   },
   "cell_type": "code",
   "source": [
    "# Create the areas list\n",
    "areas = [\"hallway\", 11.25, \"kitchen\", 18.0, \"living room\", 20.0, \"bedroom\", 10.75, \"bathroom\", 9.50]\n",
    "\n",
    "# Correct the bathroom area\n",
    "\n",
    "areas[-1] = 10.50\n",
    "# Change \"living room\" to \"chill zone\"\n",
    "areas[4] = \"chill zone\"\n",
    "print(areas)"
   ],
   "id": "161b8a9ca823f778",
   "outputs": [
    {
     "name": "stdout",
     "output_type": "stream",
     "text": [
      "['hallway', 11.25, 'kitchen', 18.0, 'chill zone', 20.0, 'bedroom', 10.75, 'bathroom', 10.5]\n"
     ]
    }
   ],
   "execution_count": 26
  },
  {
   "metadata": {},
   "cell_type": "markdown",
   "source": [
    "\n",
    "## Extend a list\n",
    "If you can change elements in a list, you sure want to be able to add elements to it, right? You can use the `+` operator:\n",
    "\n",
    "```python\n",
    "x = [\"a\", \"b\", \"c\", \"d\"]\n",
    "y = x + [\"e\", \"f\"]\n",
    "```\n",
    "You just won the lottery, awesome! You decide to build a poolhouse and a garage. Can you add the information to the `areas` list?\n",
    "\n",
    "\n",
    "### Instructions\n",
    "\n",
    "* Use the `+` operator to paste the list `[\"poolhouse\", 24.5]` to the end of the `areas` list. Store the resulting list as `areas_1`.\n",
    "* Further extend `areas_1` by adding data on your garage. Add the string `\"garage\"` and float `15.45`. Name the resulting list `areas_2`."
   ],
   "id": "e81353e40fbe039d"
  },
  {
   "metadata": {
    "ExecuteTime": {
     "end_time": "2024-11-04T02:28:00.969280Z",
     "start_time": "2024-11-04T02:28:00.965236Z"
    }
   },
   "cell_type": "code",
   "source": [
    "# Create the areas list and make some changes\n",
    "areas = [\"hallway\", 11.25, \"kitchen\", 18.0, \"chill zone\", 20.0,\n",
    "         \"bedroom\", 10.75, \"bathroom\", 10.50]\n",
    "\n",
    "# Add poolhouse data to areas, new list is areas_1\n",
    "areas_1 = areas + [\"poolhouse\", 24.5]\n",
    "\n",
    "# Add garage data to areas_1, new list is areas_2\n",
    "areas_2 = areas_1 + [\"garage\", 15.45]\n",
    "print(areas_2)"
   ],
   "id": "babf9e78bb275ce5",
   "outputs": [
    {
     "name": "stdout",
     "output_type": "stream",
     "text": [
      "['hallway', 11.25, 'kitchen', 18.0, 'chill zone', 20.0, 'bedroom', 10.75, 'bathroom', 10.5, 'poolhouse', 24.5, 'garage', 15.45]\n"
     ]
    }
   ],
   "execution_count": 29
  },
  {
   "metadata": {},
   "cell_type": "markdown",
   "source": [
    "\n",
    "## Delete list elements\n",
    "Finally, you can also remove elements from your list. You can do this with the `del` statement:\n",
    "\n",
    "```python\n",
    "x = [\"a\", \"b\", \"c\", \"d\"]\n",
    "del x[1]\n",
    "```\n",
    "\n",
    "Pay attention here: as soon as you remove an element from a list, the indexes of the elements that come after the deleted element all change!\n",
    "\n",
    "Unfortunately, the amount you won with the lottery is not that big after all and it looks like the poolhouse isn't going to happen. You'll need to remove it from the list. You decide to remove the corresponding string and float from the `areas` list.\n",
    "\n",
    "### Instructions\n",
    "\n",
    "* Delete the string and float for the `\"poolhouse\"` from your `areas` list.\n",
    "* Print the updated `areas` list."
   ],
   "id": "f3dca6230c8b56b5"
  },
  {
   "metadata": {
    "ExecuteTime": {
     "end_time": "2024-11-04T05:43:39.456175Z",
     "start_time": "2024-11-04T05:43:39.449861Z"
    }
   },
   "cell_type": "code",
   "source": [
    "areas = [\"hallway\", 11.25, \"kitchen\", 18.0,\n",
    "        \"chill zone\", 20.0, \"bedroom\", 10.75,\n",
    "         \"bathroom\", 10.50, \"poolhouse\", 24.5,\n",
    "         \"garage\", 15.45]\n",
    "\n",
    "# Delete the poolhouse items from the list\n",
    "del areas[10]\n",
    "del areas[10]\n",
    "\n",
    "# Print the updated list\n",
    "print(areas)"
   ],
   "id": "f9275e83b1d5664b",
   "outputs": [
    {
     "name": "stdout",
     "output_type": "stream",
     "text": [
      "['hallway', 11.25, 'kitchen', 18.0, 'chill zone', 20.0, 'bedroom', 10.75, 'bathroom', 10.5, 'garage', 15.45]\n"
     ]
    }
   ],
   "execution_count": 3
  },
  {
   "metadata": {},
   "cell_type": "markdown",
   "source": [
    "\n",
    "## Inner workings of lists\n",
    "Some code has been provided for you in this exercise: a list with the name `areas` and a copy named `areas_copy`.\n",
    "\n",
    "Currently, the first element in the `areas_copy` list is changed and the `areas` list is printed out. If you hit the run code button you'll see that, although you've changed `areas_copy`, the change also takes effect in the `areas` list. That's because `areas` and `areas_copy` point to the same list.\n",
    "\n",
    "If you want to prevent changes in `areas_copy` from also taking effect in `areas`, you'll have to do a more explicit copy of the `areas` list with `list()` or by `using [:]`.\n",
    "\n",
    "### Instructions\n",
    "\n",
    "* Change the second command, that creates the variable `areas_copy`, such that `areas_copy` is an explicit copy of `areas`. After your edit, changes made to `areas_copy` shouldn't affect `areas`. Submit the answer to check this."
   ],
   "id": "effaa5544cf691bb"
  },
  {
   "metadata": {
    "ExecuteTime": {
     "end_time": "2024-11-04T05:47:17.096067Z",
     "start_time": "2024-11-04T05:47:17.086413Z"
    }
   },
   "cell_type": "code",
   "source": [
    "# Create list areas\n",
    "areas = [11.25, 18.0, 20.0, 10.75, 9.50]\n",
    "\n",
    "# Change this command\n",
    "areas_copy = list(areas)\n",
    "\n",
    "# Change areas_copy\n",
    "areas_copy[0] = 5.0\n",
    "\n",
    "# Print areas\n",
    "print(areas)"
   ],
   "id": "c7f0f095223d9111",
   "outputs": [
    {
     "name": "stdout",
     "output_type": "stream",
     "text": [
      "[11.25, 18.0, 20.0, 10.75, 9.5]\n"
     ]
    }
   ],
   "execution_count": 5
  },
  {
   "metadata": {},
   "cell_type": "markdown",
   "source": [
    "# Functions\n",
    "You'll learn how to use functions, methods, and packages to efficiently leverage the code that brilliant Python developers have written. The goal is to reduce the amount of code you need to solve challenging problems!\n"
   ],
   "id": "af777d074f5aad10"
  },
  {
   "metadata": {},
   "cell_type": "markdown",
   "source": [
    "## Familiar functions\n",
    "Out of the box, Python offers a bunch of built-in functions to make your life as a data scientist easier. You already know two such functions: `print()` and `type()`. There are also functions like `str()`, `int()`, `bool()` and `float()` to switch between data types. You can find out about them [here](https://docs.python.org/3/library/functions.html). These are built-in functions as well.\n",
    "\n",
    "Calling a function is easy. To get the type of `3.0` and store the output as a new variable, `result`, you can use the following:\n",
    "\n",
    "```python\n",
    "result = type(3.0)\n",
    "```\n",
    "\n",
    "### Instructions\n",
    "\n",
    "* Use `print()` in combination with `type()` to print out the type of `var1`.\n",
    "* Use `len()` to get the length of the list `var1`. Wrap it in a `print()` call to directly print it out.\n",
    "* Use `int()` to convert `var2` to an integer. Store the output as `out2`."
   ],
   "id": "44efec430ce71dcb"
  },
  {
   "metadata": {
    "ExecuteTime": {
     "end_time": "2024-11-04T05:56:34.232296Z",
     "start_time": "2024-11-04T05:56:34.225653Z"
    }
   },
   "cell_type": "code",
   "source": [
    "# Create variables var1 and var2\n",
    "var1 = [1, 2, 3, 4]\n",
    "var2 = True\n",
    "\n",
    "# Print out type of var1\n",
    "print(type(var1))\n",
    "\n",
    "# Print out length of var1\n",
    "print(len(var1))\n",
    "\n",
    "# Convert var2 to an integer: out2\n",
    "out2 = int(var2)\n",
    "print(out2)"
   ],
   "id": "7afe0c0791f11412",
   "outputs": [
    {
     "name": "stdout",
     "output_type": "stream",
     "text": [
      "<class 'list'>\n",
      "4\n",
      "1\n"
     ]
    }
   ],
   "execution_count": 7
  },
  {
   "metadata": {},
   "cell_type": "markdown",
   "source": [
    "## Help!\n",
    "Maybe you already know the name of a Python function, but you still have to figure out how to use it. Ironically, you have to ask for information about a function with another function: `help()`. In IPython specifically, you can also use `?` before the function name.\n",
    "\n",
    "To get help on the `max()` function, for example, you can use one of these calls:\n",
    "\n",
    "```python\n",
    "help(max)\n",
    "?max\n",
    "```\n",
    "\n",
    "Use the IPython Shell to open up the [documentation](https://docs.python.org/3/library/functions.html#pow) on pow(). Do this by typing ?pow or help(pow) and hitting Enter.\n",
    "\n",
    "Which of the following statements is true?\n",
    "\n",
    "### Instructions\n",
    "\n",
    "**Possible answers**\n",
    "\n",
    "* `pow()` takes three arguments: `base`, `exp`, and `mod`. Without mod, the function will return an error.\n",
    "\n",
    "* `pow()` takes three required arguments: `base`, `exp`, and `None`.\n",
    "\n",
    "* `pow()` requires `base` and `exp` arguments; `mod` is optional.\n",
    "\n",
    "* `pow()` takes two arguments: `exp` and `mod`. Missing exp results in an error.\n",
    "\n",
    "**correct answer:** `pow()` requires `base` and `exp` arguments; `mod` is optional."
   ],
   "id": "e9308826081cdabe"
  },
  {
   "metadata": {},
   "cell_type": "markdown",
   "source": [
    "# Multiple arguments\n",
    "\n",
    "In the previous exercise, you identified optional arguments by viewing the documentation with `help()`. You'll now apply this to change the behavior of the `sorted()` function.\n",
    "\n",
    "Have a look at the [documentation](https://docs.python.org/3/library/functions.html#sorted) of `sorted()` by typing `help(sorted)` in the IPython Shell.\n",
    "\n",
    "You'll see that `sorted()` takes three arguments: `iterable`, `key`, and `reverse`. In this exercise, you'll only have to specify `iterable` and `reverse`, not `key`.\n",
    "\n",
    "Two lists have been created for you.\n",
    "\n",
    "Can you paste them together and sort them in descending order?\n",
    "\n",
    "\n",
    "## Instructions\n",
    "\n",
    "**100 XP**\n",
    "\n",
    "* Use `+` to merge the contents of `first` and `second` into a new list: `full`.\n",
    "* Call `sorted()` and on `full` and specify the `reverse` argument to be `True`. Save the sorted list as `full_sorted`.\n",
    "* Finish off by printing out `full_sorted`.\n"
   ],
   "id": "a8bbfc3536062e1f"
  },
  {
   "metadata": {
    "ExecuteTime": {
     "end_time": "2024-11-04T06:09:11.138355Z",
     "start_time": "2024-11-04T06:09:11.131073Z"
    }
   },
   "cell_type": "code",
   "source": [
    "# Create lists first and second\n",
    "first = [11.25, 18.0, 20.0]\n",
    "second = [10.75, 9.50]\n",
    "\n",
    "# Paste together first and second: full\n",
    "full = first + second\n",
    "\n",
    "# Sort full in descending order: full_sorted\n",
    "full_sorted = sorted(full, reverse=True)\n",
    "\n",
    "# Print out full_sorted\n",
    "print(full_sorted)"
   ],
   "id": "efe82d8d8ec3315a",
   "outputs": [
    {
     "name": "stdout",
     "output_type": "stream",
     "text": [
      "[20.0, 18.0, 11.25, 10.75, 9.5]\n"
     ]
    }
   ],
   "execution_count": 9
  },
  {
   "metadata": {},
   "cell_type": "markdown",
   "source": [
    "# String Methods\n",
    "\n",
    "Strings come with a bunch of methods. Follow the instructions closely to discover some of them. If you want to discover them in more detail, you can always type `help(str)` in the IPython Shell.\n",
    "\n",
    "A string `place` has already been created for you to experiment with.\n",
    "\n",
    "## Instructions\n",
    "\n",
    "**100 XP**\n",
    "\n",
    "* Use the `.upper()` [method](https://docs.python.org/3/library/stdtypes.html#str.upper) on `place` and store the result in `place_up`. Use the syntax for calling methods that you learned in the previous video.\n",
    "* Print out `place` and `place_up`. Did both change?\n",
    "* Print out the number of o's on the variable `place` by calling `.count()` on `place` and passing the letter `'o'` as an input to the method. We're talking about the variable `place`, not the word `\"place\"`!"
   ],
   "id": "e799fd0a33c2c40"
  },
  {
   "metadata": {
    "ExecuteTime": {
     "end_time": "2024-11-04T06:11:20.281502Z",
     "start_time": "2024-11-04T06:11:20.275088Z"
    }
   },
   "cell_type": "code",
   "source": [
    "# string to experiment with: place\n",
    "place = \"poolhouse\"\n",
    "\n",
    "# Use upper() on place\n",
    "place_up = place.upper()\n",
    "\n",
    "# Print out place and place_up\n",
    "print(place)\n",
    "print(place_up)\n",
    "\n",
    "# Print out the number of o's in place\n",
    "print(place.count('o'))"
   ],
   "id": "7f98214db6c3d61e",
   "outputs": [
    {
     "name": "stdout",
     "output_type": "stream",
     "text": [
      "poolhouse\n",
      "POOLHOUSE\n",
      "3\n"
     ]
    }
   ],
   "execution_count": 10
  },
  {
   "metadata": {},
   "cell_type": "markdown",
   "source": [
    "# List Methods\n",
    "\n",
    "Strings are not the only Python types that have methods associated with them. Lists, floats, integers and booleans are also types that come packaged with a bunch of useful methods. In this exercise, you'll be experimenting with:\n",
    "\n",
    "* `.index()`, to get the index of the first element of a list that matches its input and\n",
    "* `.count()`, to get the number of times an element appears in a list.\n",
    "\n",
    "You'll be working on the list with the area of different parts of a house: `areas`.\n",
    "\n",
    "## Instructions\n",
    "\n",
    "**100 XP**\n",
    "\n",
    "* Use the `.index()` method to get the index of the element in `areas` that is equal to `20.0`. Print out this index.\n",
    "* Call `.count()` on `areas` to find out how many times `9.50` appears in the list. Again, simply print out this number.\n"
   ],
   "id": "58033503f78d55e5"
  },
  {
   "metadata": {
    "ExecuteTime": {
     "end_time": "2024-11-04T06:13:41.862414Z",
     "start_time": "2024-11-04T06:13:41.852467Z"
    }
   },
   "cell_type": "code",
   "source": [
    "# Create list areas\n",
    "areas = [11.25, 18.0, 20.0, 10.75, 9.50]\n",
    "\n",
    "# Print out the index of the element 20.0\n",
    "print(areas.index(20.0))\n",
    "\n",
    "# Print out how often 9.50 appears in areas\n",
    "print(areas.count(9.50))"
   ],
   "id": "2efac03e72d5190d",
   "outputs": [
    {
     "name": "stdout",
     "output_type": "stream",
     "text": [
      "2\n",
      "1\n"
     ]
    }
   ],
   "execution_count": 12
  },
  {
   "metadata": {},
   "cell_type": "markdown",
   "source": [
    "# List Methods (2)\n",
    "\n",
    "Most list methods will change the list they're called on. Examples are:\n",
    "\n",
    "* `.append()`, that adds an element to the list it is called on,\n",
    "* `.remove()`, that [removes](https://docs.python.org/3/library/stdtypes.html#typesseq-mutable) the first element of a list that matches the input, and\n",
    "* `.reverse()`, that [reverses](https://docs.python.org/3/library/stdtypes.html#typesseq-mutable) the order of the elements in the list it is called on.\n",
    "\n",
    "You'll be working on the list with the area of different parts of the house: `areas`.\n",
    "\n",
    "## Instructions\n",
    "\n",
    "**100 XP**\n",
    "\n",
    "* Use `.append()` twice to add the size of the poolhouse and the garage again: `24.5` and `15.45`, respectively. Make sure to add them in this order.\n",
    "* Print out `areas`\n",
    "* Use the `.reverse()` method to reverse the order of the elements in `areas`.\n",
    "* Print out `areas` once more.\n"
   ],
   "id": "a85585de568d7fef"
  },
  {
   "metadata": {
    "ExecuteTime": {
     "end_time": "2024-11-04T06:17:34.909811Z",
     "start_time": "2024-11-04T06:17:34.900713Z"
    }
   },
   "cell_type": "code",
   "source": [
    "# Create list areas\n",
    "areas = [11.25, 18.0, 20.0, 10.75, 9.50]\n",
    "\n",
    "# Use append twice to add poolhouse and garage size\n",
    "areas.append(24.50)\n",
    "areas.append(15.45)\n",
    "\n",
    "\n",
    "# Print out areas\n",
    "print(areas)\n",
    "\n",
    "# Reverse the orders of the elements in areas\n",
    "areas.reverse()\n",
    "\n",
    "# Print out areas\n",
    "print(areas)"
   ],
   "id": "2677f5daf2c28e73",
   "outputs": [
    {
     "name": "stdout",
     "output_type": "stream",
     "text": [
      "[11.25, 18.0, 20.0, 10.75, 9.5, 24.5, 15.45]\n",
      "[15.45, 24.5, 9.5, 10.75, 20.0, 18.0, 11.25]\n"
     ]
    }
   ],
   "execution_count": 13
  },
  {
   "metadata": {},
   "cell_type": "markdown",
   "source": [
    "# Import package\n",
    "\n",
    "Let's say you wanted to calculate the circumference and area of a circle. Here's what those formulas look like:\n",
    "\n",
    "C=2πr\n",
    "\n",
    "A=πr2\n",
    "\n",
    "**Circumference of a circle:**\n",
    "\n",
    "$$ C = 2\\pi r $$\n",
    "\n",
    "**Area of a circle:**\n",
    "\n",
    "$$ A = \\pi r^2 $$\n",
    "\n",
    "\n",
    "Rather than typing the number for `pi`, you can use the `math` package that contains the number\n",
    "\n",
    "For reference, `**` is the symbol for exponentiation. For example `3**4` is `3` to the power of `4` and will give `81`.\n",
    "\n",
    "## Instructions\n",
    "\n",
    "**100 XP**\n",
    "\n",
    "* Import the `math` package.\n",
    "* Use `math.pi` to calculate the circumference of the circle and store it in `C`.\n",
    "* Use `math.pi` to calculate the area of the circle and store it in `A`."
   ],
   "id": "c4348a738898c55e"
  },
  {
   "metadata": {
    "ExecuteTime": {
     "end_time": "2024-11-04T06:23:58.961356Z",
     "start_time": "2024-11-04T06:23:58.953716Z"
    }
   },
   "cell_type": "code",
   "source": [
    "# Import the math package\n",
    "import math\n",
    "\n",
    "# Calculate C\n",
    "C = 2 * 0.43 * math.pi\n",
    "\n",
    "# Calculate A\n",
    "A = math.pi * 0.43 ** 2\n",
    "\n",
    "print(\"Circumference: \" + str(C))\n",
    "print(\"Area: \" + str(A))"
   ],
   "id": "8c901863bf2ab79",
   "outputs": [
    {
     "name": "stdout",
     "output_type": "stream",
     "text": [
      "Circumference: 2.701769682087222\n",
      "Area: 0.5808804816487527\n"
     ]
    }
   ],
   "execution_count": 14
  },
  {
   "metadata": {},
   "cell_type": "markdown",
   "source": [
    "# Selective import\n",
    "\n",
    "General imports, like `import math`, make **all** functionality from the `math` package available to you. However, if you decide to only use a specific part of a package, you can always make your import more selective:\n",
    "\n",
    "```\n",
    "from math import pi\n",
    "```\n",
    "\n",
    "Try the same thing again, but this time only use `pi`.\n",
    "\n",
    "## Instructions\n",
    "\n",
    "**100 XP**\n",
    "\n",
    "* Perform a selective import from the `math` package where you only import the `pi` function.\n",
    "* Use `math.pi` to calculate the circumference of the circle and store it in `C`.\n",
    "* Use `math.pi` to calculate the area of the circle and store it in `A`.\n"
   ],
   "id": "e03f6bb43354445c"
  },
  {
   "metadata": {
    "ExecuteTime": {
     "end_time": "2024-11-04T06:25:19.065751Z",
     "start_time": "2024-11-04T06:25:19.060058Z"
    }
   },
   "cell_type": "code",
   "source": [
    "# Import pi function of math package\n",
    "from math import pi\n",
    "\n",
    "# Calculate C\n",
    "C = 2 * 0.43 * pi\n",
    "\n",
    "# Calculate A\n",
    "A = pi * 0.43 ** 2\n",
    "\n",
    "print(\"Circumference: \" + str(C))\n",
    "print(\"Area: \" + str(A))"
   ],
   "id": "a40ab2cd21ec53ea",
   "outputs": [
    {
     "name": "stdout",
     "output_type": "stream",
     "text": [
      "Circumference: 2.701769682087222\n",
      "Area: 0.5808804816487527\n"
     ]
    }
   ],
   "execution_count": 15
  },
  {
   "metadata": {},
   "cell_type": "markdown",
   "source": [
    "# Different ways of importing\n",
    "\n",
    "There are several ways to import packages and modules into Python. Depending on the import call, you'll have to use different Python code.\n",
    "\n",
    "Suppose you want to use the [function](https://docs.scipy.org/doc/scipy/reference/generated/scipy.linalg.inv.html) `inv()`, which is in the `linalg` subpackage of the `scipy` package. You want to be able to use this function as follows:\n",
    "\n",
    "```\n",
    "my_inv([[1,2], [3,4]])\n",
    "```\n",
    "\n",
    "Which `import` statement will you need in order to run the above code without an error?\n",
    "\n",
    "Possible answers\n",
    "\n",
    "* import scipy\n",
    "\n",
    "* import scipy.linalg\n",
    "\n",
    "* from scipy.linalg import my_inv\n",
    "\n",
    "* from scipy.linalg import inv as my_inv\n",
    "\n",
    "correct answer: rom scipy.linalg import inv as my_inv\n"
   ],
   "id": "c988c7f1df5d13d0"
  },
  {
   "metadata": {},
   "cell_type": "markdown",
   "source": [
    "# NumPy\n",
    "* Numeric Python\n",
    "* Alternate to Python List: Numpy Array\n",
    "* Calculations over entire arrays\n",
    "* Easy and Fast\n",
    "* Installation:\n",
    "    * In terminal: \n",
    "      ```shell\n",
    "        pip install numpy\n",
    "        ``` \n",
    "* Import\n",
    "```python\n",
    "import numpy as np\n",
    "```"
   ],
   "id": "dfcdfa83d3f32359"
  },
  {
   "metadata": {},
   "cell_type": "markdown",
   "source": [
    "# Your First NumPy Array\n",
    "\n",
    "You're now going to dive into the world of baseball. Along the way, you'll get comfortable with the basics of `numpy`, a powerful package to do data science.\n",
    "\n",
    "A list `baseball` has already been defined in the Python script, representing the height of some baseball players in centimeters. Can you add some code to create a `numpy` array from it?\n",
    "\n",
    "## Instructions\n",
    "\n",
    "**100 XP**\n",
    "\n",
    "* Import the `numpy` package as `np`, so that you can refer to `numpy` with `np`.\n",
    "* Use `np.array()` to create a `numpy` array from `baseball`. Name this array `np_baseball`.\n",
    "* Print out the type of `np_baseball` to check that you got it right.\n"
   ],
   "id": "f75c0d989ebbdc17"
  },
  {
   "metadata": {
    "ExecuteTime": {
     "end_time": "2024-11-06T09:20:01.610531Z",
     "start_time": "2024-11-06T09:20:01.600973Z"
    }
   },
   "cell_type": "code",
   "source": [
    "# Import the numpy package as np\n",
    "import  numpy as np\n",
    "\n",
    "baseball = [180, 215, 210, 210, 188, 176, 209, 200]\n",
    "\n",
    "# Create a numpy array from baseball: np_baseball\n",
    "np_baseball = np.array(baseball)\n",
    "\n",
    "# Print out type of np_baseball\n",
    "print(type(np_baseball))\n",
    "print(np_baseball)"
   ],
   "id": "2c3c461a4f24e109",
   "outputs": [
    {
     "name": "stdout",
     "output_type": "stream",
     "text": [
      "<class 'numpy.ndarray'>\n",
      "[180 215 210 210 188 176 209 200]\n"
     ]
    }
   ],
   "execution_count": 2
  },
  {
   "metadata": {},
   "cell_type": "markdown",
   "source": [
    "# Baseball players' height\n",
    "\n",
    "You are a huge baseball fan. You decide to call the MLB (Major League Baseball) and ask around for some more statistics on the height of the main players. They pass along data on more than a thousand players, which is stored as a regular Python list: `height_in`. The height is expressed in inches. Can you make a `numpy` array out of it and convert the units to meters?\n",
    "\n",
    "`height_in` is already available and the `numpy` package is loaded, so you can start straight away (Source: stat.ucla.edu).\n",
    "\n",
    "## Instructions\n",
    "\n",
    "**100 XP**\n",
    "\n",
    "* Create a `numpy` array from `height_in`. Name this new array `np_height_in`.\n",
    "* Print `np_height_in`.\n",
    "* Multiply `np_height_in` with `0.0254` to convert all height measurements from inches to meters. Store the new values in a new array, `np_height_m`.\n",
    "* Print out `np_height_m` and check if the output makes sense.\n"
   ],
   "id": "93d53a57b4cee3d7"
  },
  {
   "metadata": {
    "ExecuteTime": {
     "end_time": "2024-11-06T09:26:32.016969Z",
     "start_time": "2024-11-06T09:26:31.988367Z"
    }
   },
   "cell_type": "code",
   "source": [
    "# Import numpy\n",
    "import numpy as np\n",
    "height_in = [74, 74, 72, 72, 73, 69, 69, 71, 76, 71, 73, 73, 74, 74, 69, 70, 73, 75, 78, 79, 76, 74, 76, 72, 71, 75, 77, 74, 73, 74, 78, 73, 75, 73, 75, 75, 74, 69, 71, 74, 73, 73, 76, 74, 74, 70, 72, 77, 74, 70, 73, 75, 76, 76, 78, 74, 74, 76, 77, 81, 78, 75, 77, 75, 76, 74, 72, 72, 75, 73, 73, 73, 70, 70, 70, 76, 68, 71, 72, 75, 75, 75, 75, 68, 74, 78, 71, 73, 76, 74, 74, 79, 75, 73, 76, 74, 74, 73, 72, 74, 73, 74, 72, 73, 69, 72, 73, 75, 75, 73, 72, 72, 76, 74, 72, 77, 74, 77, 75, 76, 80, 74, 74, 75, 78, 73, 73, 74, 75, 76, 71, 73, 74, 76, 76, 74, 73, 74, 70, 72, 73, 73, 73, 73, 71, 74, 74, 72, 74, 71, 74, 73, 75, 75, 79, 73, 75, 76, 74, 76, 78, 74, 76, 72, 74, 76, 74, 75, 78, 75, 72, 74, 72, 74, 70, 71, 70, 75, 71, 71, 73, 72, 71, 73, 72, 75, 74, 74, 75, 73, 77, 73, 76, 75, 74, 76, 75, 73, 71, 76, 75, 72, 71, 77, 73, 74, 71, 72, 74, 75, 73, 72, 75, 75, 74, 72, 74, 71, 70, 74, 77, 77, 75, 75, 78, 75, 76, 73, 75, 75, 79, 77, 76, 71, 75, 74, 69, 71, 76, 72, 72, 70, 72, 73, 71, 72, 71, 73, 72, 73, 74, 74, 72, 75, 74, 74, 77, 75, 73, 72, 71, 74, 77, 75, 75, 75, 78, 78, 74, 76, 78, 76, 70, 72, 80, 74, 74, 71, 70, 72, 71, 74, 71, 72, 71, 74, 69, 76, 75, 75, 76, 73, 76, 73, 77, 73, 72, 72, 77, 77, 71, 74, 74, 73, 78, 75, 73, 70, 74, 72, 73, 73, 75, 75, 74, 76, 73, 74, 75, 75, 72, 73, 73, 72, 74, 78, 76, 73, 74, 75, 70, 75, 71, 72, 78, 75, 73, 73, 71, 75, 77, 72, 69, 73, 74, 72, 70, 75, 70, 72, 72, 74, 73, 74, 76, 75, 80, 72, 75, 73, 74, 74, 73, 75, 75, 71, 73, 75, 74, 74, 72, 74, 74, 74, 73, 76, 75, 72, 73, 73, 73, 72, 72, 72, 72, 71, 75, 75, 74, 73, 75, 79, 74, 76, 73, 74, 74, 72, 74, 74, 75, 78, 74, 74, 74, 77, 70, 73, 74, 73, 71, 75, 71, 72, 77, 74, 70, 77, 73, 72, 76, 71, 76, 78, 75, 73, 78, 74, 79, 75, 76, 72, 75, 75, 70, 72, 70, 74, 71, 76, 73, 76, 71, 69, 72, 72, 69, 73, 69, 73, 74, 74, 72, 71, 72, 72, 76, 76, 76, 74, 76, 75, 71, 72, 71, 73, 75, 76, 75, 71, 75, 74, 72, 73, 73, 73, 73, 76, 72, 76, 73, 73, 73, 75, 75, 77, 73, 72, 75, 70, 74, 72, 80, 71, 71, 74, 74, 73, 75, 76, 73, 77, 72, 73, 77, 76, 71, 75, 73, 74, 77, 71, 72, 73, 69, 73, 70, 74, 76, 73, 73, 75, 73, 79, 74, 73, 74, 77, 75, 74, 73, 77, 73, 77, 74, 74, 73, 77, 74, 77, 75, 77, 75, 71, 74, 70, 79, 72, 72, 70, 74, 74, 72, 73, 72, 74, 74, 76, 82, 74, 74, 70, 73, 73, 74, 77, 72, 76, 73, 73, 72, 74, 74, 71, 72, 75, 74, 74, 77, 70, 71, 73, 76, 71, 75, 74, 72, 76, 79, 76, 73, 76, 78, 75, 76, 72, 72, 73, 73, 75, 71, 76, 70, 75, 74, 75, 73, 71, 71, 72, 73, 73, 72, 69, 73, 78, 71, 73, 75, 76, 70, 74, 77, 75, 79, 72, 77, 73, 75, 75, 75, 73, 73, 76, 77, 75, 70, 71, 71, 75, 74, 69, 70, 75, 72, 75, 73, 72, 72, 72, 76, 75, 74, 69, 73, 72, 72, 75, 77, 76, 80, 77, 76, 79, 71, 75, 73, 76, 77, 73, 76, 70, 75, 73, 75, 70, 69, 71, 72, 72, 73, 70, 70, 73, 76, 75, 72, 73, 79, 71, 72, 74, 74, 74, 72, 76, 76, 72, 72, 71, 72, 72, 70, 77, 74, 72, 76, 71, 76, 71, 73, 70, 73, 73, 72, 71, 71, 71, 72, 72, 74, 74, 74, 71, 72, 75, 72, 71, 72, 72, 72, 72, 74, 74, 77, 75, 73, 75, 73, 76, 72, 77, 75, 72, 71, 71, 75, 72, 73, 73, 71, 70, 75, 71, 76, 73, 68, 71, 72, 74, 77, 72, 76, 78, 81, 72, 73, 76, 72, 72, 74, 76, 73, 76, 75, 70, 71, 74, 72, 73, 76, 76, 73, 71, 68, 71, 71, 74, 77, 69, 72, 76, 75, 76, 75, 76, 72, 74, 76, 74, 72, 75, 78, 77, 70, 72, 79, 74, 71, 68, 77, 75, 71, 72, 70, 72, 72, 73, 72, 74, 72, 72, 75, 72, 73, 74, 72, 78, 75, 72, 74, 75, 75, 76, 74, 74, 73, 74, 71, 74, 75, 76, 74, 76, 76, 73, 75, 75, 74, 68, 72, 75, 71, 70, 72, 73, 72, 75, 74, 70, 76, 71, 82, 72, 73, 74, 71, 75, 77, 72, 74, 72, 73, 78, 77, 73, 73, 73, 73, 73, 76, 75, 70, 73, 72, 73, 75, 74, 73, 73, 76, 73, 75, 70, 77, 72, 77, 74, 75, 75, 75, 75, 72, 74, 71, 76, 71, 75, 76, 83, 75, 74, 76, 72, 72, 75, 75, 72, 77, 73, 72, 70, 74, 72, 74, 72, 71, 70, 71, 76, 74, 76, 74, 74, 74, 75, 75, 71, 71, 74, 77, 71, 74, 75, 77, 76, 74, 76, 72, 71, 72, 75, 73, 68, 72, 69, 73, 73, 75, 70, 70, 74, 75, 74, 74, 73, 74, 75, 77, 73, 74, 76, 74, 75, 73, 76, 78, 75, 73, 77, 74, 72, 74, 72, 71, 73, 75, 73, 67, 67, 76, 74, 73, 70, 75, 70, 72, 77, 79, 78, 74, 75, 75, 78, 76, 75, 69, 75, 72, 75, 73, 74, 75, 75, 73]\n",
    "\n",
    "\n",
    "# Create a numpy array from height_in: np_height_in\n",
    "np_height_in = np.array(height_in)\n",
    "\n",
    "# Print out np_height_in\n",
    "print(np_height_in)\n",
    "\n",
    "# Convert np_height_in to m: np_height_m\n",
    "np_height_m = np_height_in * 0.0254\n",
    "\n",
    "# Print np_height_m\n",
    "print(np_height_m)"
   ],
   "id": "916653ed3663837e",
   "outputs": [
    {
     "name": "stdout",
     "output_type": "stream",
     "text": [
      "[74 74 72 ... 75 75 73]\n",
      "[1.8796 1.8796 1.8288 ... 1.905  1.905  1.8542]\n"
     ]
    }
   ],
   "execution_count": 5
  },
  {
   "metadata": {},
   "cell_type": "markdown",
   "source": [
    "# NumPy Side Effects\n",
    "\n",
    "`numpy` is great for doing vector arithmetic. If you compare its functionality with regular Python lists, however, some things have changed.\n",
    "\n",
    "First of all, `numpy` arrays cannot contain elements with different types. Second, the typical arithmetic operators, such as `+`, `-`, `*` and `/` have a different meaning for regular Python lists and `numpy` arrays.\n",
    "\n",
    "Some lines of code have been provided for you. Try these out and select the one that would match this:\n",
    "\n",
    "```python\n",
    "np.array([True, 1, 2]) + np.array([3, 4, False])\n",
    "```\n",
    "\n",
    "The `numpy` package is already imported as `np`.\n",
    "Possible answers\n",
    "\n",
    "* np.array([True, 1, 2, 3, 4, False])\n",
    "\n",
    "* np.array([4, 3, 0]) + np.array([0, 2, 2])\n",
    "\n",
    "* np.array([1, 1, 2]) + np.array([3, 4, -1])\n",
    "\n",
    "* np.array([0, 1, 2, 3, 4, 5])\n",
    "\n",
    "correct answer: \n",
    "```python\n",
    "np.array([4, 3, 0]) + np.array([0, 2, 2])\n",
    "```\n"
   ],
   "id": "7c7e3defb4f674fd"
  },
  {
   "metadata": {},
   "cell_type": "markdown",
   "source": [
    "# Subsetting NumPy Arrays\n",
    "\n",
    "Subsetting (using the square bracket notation on lists or arrays) works exactly the same with both lists and arrays.\n",
    "\n",
    "This exercise already has two lists, `height_in` and `weight_lb`, loaded in the background for you. These contain the height and weight of the MLB players as regular lists. It also has two `numpy` array lists, `np_weight_lb` and `np_height_in` prepared for you.\n",
    "\n",
    "## Instructions\n",
    "\n",
    "**100 XP**\n",
    "\n",
    "* Subset `np_weight_lb` by printing out the element at index 50.\n",
    "* Print out a sub-array of `np_height_in` that contains the elements at index 100 up to **and including** index 110.\n"
   ],
   "id": "8895b09b746f7c76"
  },
  {
   "metadata": {
    "ExecuteTime": {
     "end_time": "2024-11-07T13:17:59.943889Z",
     "start_time": "2024-11-07T13:17:59.073208Z"
    }
   },
   "cell_type": "code",
   "source": [
    "import numpy as np\n",
    "\n",
    "weight_lb = [180, 215, 210, 210, 188, 176, 209, 200, 231, 180, 188, 180, 185, 160, 180, 185, 189, 185, 219, 230, 205, 230, 195, 180, 192, 225, 203, 195, 182, 188, 200, 180, 200, 200, 245, 240, 215, 185, 175, 199, 200, 215, 200, 205, 206, 186, 188, 220, 210, 195, 200, 200, 212, 224, 210, 205, 220, 195, 200, 260, 228, 270, 200, 210, 190, 220, 180, 205, 210, 220, 211, 200, 180, 190, 170, 230, 155, 185, 185, 200, 225, 225, 220, 160, 205, 235, 250, 210, 190, 160, 200, 205, 222, 195, 205, 220, 220, 170, 185, 195, 220, 230, 180, 220, 180, 180, 170, 210, 215, 200, 213, 180, 192, 235, 185, 235, 210, 222, 210, 230, 220, 180, 190, 200, 210, 194, 180, 190, 240, 200, 198, 200, 195, 210, 220, 190, 210, 225, 180, 185, 170, 185, 185, 180, 178, 175, 200, 204, 211, 190, 210, 190, 190, 185, 290, 175, 185, 200, 220, 170, 220, 190, 220, 205, 200, 250, 225, 215, 210, 215, 195, 200, 194, 220, 180, 180, 170, 195, 180, 170, 206, 205, 200, 225, 201, 225, 233, 180, 225, 180, 220, 180, 237, 215, 190, 235, 190, 180, 165, 195, 200, 190, 190, 185, 185, 205, 190, 205, 206, 220, 208, 170, 195, 210, 190, 211, 230, 170, 185, 185, 241, 225, 210, 175, 230, 200, 215, 198, 226, 278, 215, 230, 240, 184, 219, 170, 218, 190, 225, 220, 176, 190, 197, 204, 167, 180, 195, 220, 215, 185, 190, 205, 205, 200, 210, 215, 200, 205, 211, 190, 208, 200, 210, 232, 230, 210, 220, 210, 202, 212, 225, 170, 190, 200, 237, 220, 170, 193, 190, 150, 220, 200, 190, 185, 185, 200, 172, 220, 225, 190, 195, 219, 190, 197, 200, 195, 210, 177, 220, 235, 180, 195, 195, 190, 230, 190, 200, 190, 190, 200, 200, 184, 200, 180, 219, 187, 200, 220, 205, 190, 170, 160, 215, 175, 205, 200, 214, 200, 190, 180, 205, 220, 190, 215, 235, 191, 200, 181, 200, 210, 240, 185, 165, 190, 185, 175, 155, 210, 170, 175, 220, 210, 205, 200, 205, 195, 240, 150, 200, 215, 202, 200, 190, 205, 190, 160, 215, 185, 200, 190, 210, 185, 220, 190, 202, 205, 220, 175, 160, 190, 200, 229, 206, 220, 180, 195, 175, 188, 230, 190, 200, 190, 219, 235, 180, 180, 180, 200, 234, 185, 220, 223, 200, 210, 200, 210, 190, 177, 227, 180, 195, 199, 175, 185, 240, 210, 180, 194, 225, 180, 205, 193, 230, 230, 220, 200, 249, 190, 208, 245, 250, 160, 192, 220, 170, 197, 155, 190, 200, 220, 210, 228, 190, 160, 184, 180, 180, 200, 176, 160, 222, 211, 195, 200, 175, 206, 240, 185, 260, 185, 221, 205, 200, 170, 201, 205, 185, 205, 245, 220, 210, 220, 185, 175, 170, 180, 200, 210, 175, 220, 206, 180, 210, 195, 200, 200, 164, 180, 220, 195, 205, 170, 240, 210, 195, 200, 205, 192, 190, 170, 240, 200, 205, 175, 250, 220, 224, 210, 195, 180, 245, 175, 180, 215, 175, 180, 195, 230, 230, 205, 215, 195, 180, 205, 180, 190, 180, 190, 190, 220, 210, 255, 190, 230, 200, 205, 210, 225, 215, 220, 205, 200, 220, 197, 225, 187, 245, 185, 185, 175, 200, 180, 188, 225, 200, 210, 245, 213, 231, 165, 228, 210, 250, 191, 190, 200, 215, 254, 232, 180, 215, 220, 180, 200, 170, 195, 210, 200, 220, 165, 180, 200, 200, 170, 224, 220, 180, 198, 240, 239, 185, 210, 220, 200, 195, 220, 230, 170, 220, 230, 165, 205, 192, 210, 205, 200, 210, 185, 195, 202, 205, 195, 180, 200, 185, 240, 185, 220, 205, 205, 180, 201, 190, 208, 240, 180, 230, 195, 215, 190, 195, 215, 215, 220, 220, 230, 195, 190, 195, 209, 204, 170, 185, 205, 175, 210, 190, 180, 180, 160, 235, 200, 210, 180, 190, 197, 203, 205, 170, 200, 250, 200, 220, 200, 190, 170, 190, 220, 215, 206, 215, 185, 235, 188, 230, 195, 168, 190, 160, 200, 200, 189, 180, 190, 200, 220, 187, 240, 190, 180, 185, 210, 220, 219, 190, 193, 175, 180, 215, 210, 200, 190, 185, 220, 170, 195, 205, 195, 210, 190, 190, 180, 220, 190, 186, 185, 190, 180, 190, 170, 210, 240, 220, 180, 210, 210, 195, 160, 180, 205, 200, 185, 245, 190, 210, 200, 200, 222, 215, 240, 170, 220, 156, 190, 202, 221, 200, 190, 210, 190, 200, 165, 190, 185, 230, 208, 209, 175, 180, 200, 205, 200, 250, 210, 230, 244, 202, 240, 200, 215, 177, 210, 170, 215, 217, 198, 200, 220, 170, 200, 230, 231, 183, 192, 167, 190, 180, 180, 215, 160, 205, 223, 175, 170, 190, 240, 175, 230, 223, 196, 167, 195, 190, 250, 190, 190, 190, 170, 160, 150, 225, 220, 209, 210, 176, 260, 195, 190, 184, 180, 195, 195, 219, 225, 212, 202, 185, 200, 209, 200, 195, 228, 210, 190, 212, 190, 218, 220, 190, 235, 210, 200, 188, 210, 235, 188, 215, 216, 220, 180, 185, 200, 210, 220, 185, 231, 210, 195, 200, 205, 200, 190, 250, 185, 180, 170, 180, 208, 235, 215, 244, 220, 185, 230, 190, 200, 180, 190, 196, 180, 230, 224, 160, 178, 205, 185, 210, 180, 190, 200, 257, 190, 220, 165, 205, 200, 208, 185, 215, 170, 235, 210, 170, 180, 170, 190, 150, 230, 203, 260, 246, 186, 210, 198, 210, 215, 180, 200, 245, 200, 192, 192, 200, 192, 205, 190, 186, 170, 197, 219, 200, 220, 207, 225, 207, 212, 225, 170, 190, 210, 230, 210, 200, 238, 234, 222, 200, 190, 170, 220, 223, 210, 215, 196, 175, 175, 189, 205, 210, 180, 180, 197, 220, 228, 190, 204, 165, 216, 220, 208, 210, 215, 195, 200, 215, 229, 240, 207, 205, 208, 185, 190, 170, 208, 225, 190, 225, 185, 180, 165, 240, 220, 212, 163, 215, 175, 205, 210, 205, 208, 215, 180, 200, 230, 211, 230, 190, 220, 180, 205, 190, 180, 205, 190, 195]\n",
    "\n",
    "height_in = [74, 74, 72, 72, 73, 69, 69, 71, 76, 71, 73, 73, 74, 74, 69, 70, 73, 75, 78, 79, 76, 74, 76, 72, 71, 75, 77, 74, 73, 74, 78, 73, 75, 73, 75, 75, 74, 69, 71, 74, 73, 73, 76, 74, 74, 70, 72, 77, 74, 70, 73, 75, 76, 76, 78, 74, 74, 76, 77, 81, 78, 75, 77, 75, 76, 74, 72, 72, 75, 73, 73, 73, 70, 70, 70, 76, 68, 71, 72, 75, 75, 75, 75, 68, 74, 78, 71, 73, 76, 74, 74, 79, 75, 73, 76, 74, 74, 73, 72, 74, 73, 74, 72, 73, 69, 72, 73, 75, 75, 73, 72, 72, 76, 74, 72, 77, 74, 77, 75, 76, 80, 74, 74, 75, 78, 73, 73, 74, 75, 76, 71, 73, 74, 76, 76, 74, 73, 74, 70, 72, 73, 73, 73, 73, 71, 74, 74, 72, 74, 71, 74, 73, 75, 75, 79, 73, 75, 76, 74, 76, 78, 74, 76, 72, 74, 76, 74, 75, 78, 75, 72, 74, 72, 74, 70, 71, 70, 75, 71, 71, 73, 72, 71, 73, 72, 75, 74, 74, 75, 73, 77, 73, 76, 75, 74, 76, 75, 73, 71, 76, 75, 72, 71, 77, 73, 74, 71, 72, 74, 75, 73, 72, 75, 75, 74, 72, 74, 71, 70, 74, 77, 77, 75, 75, 78, 75, 76, 73, 75, 75, 79, 77, 76, 71, 75, 74, 69, 71, 76, 72, 72, 70, 72, 73, 71, 72, 71, 73, 72, 73, 74, 74, 72, 75, 74, 74, 77, 75, 73, 72, 71, 74, 77, 75, 75, 75, 78, 78, 74, 76, 78, 76, 70, 72, 80, 74, 74, 71, 70, 72, 71, 74, 71, 72, 71, 74, 69, 76, 75, 75, 76, 73, 76, 73, 77, 73, 72, 72, 77, 77, 71, 74, 74, 73, 78, 75, 73, 70, 74, 72, 73, 73, 75, 75, 74, 76, 73, 74, 75, 75, 72, 73, 73, 72, 74, 78, 76, 73, 74, 75, 70, 75, 71, 72, 78, 75, 73, 73, 71, 75, 77, 72, 69, 73, 74, 72, 70, 75, 70, 72, 72, 74, 73, 74, 76, 75, 80, 72, 75, 73, 74, 74, 73, 75, 75, 71, 73, 75, 74, 74, 72, 74, 74, 74, 73, 76, 75, 72, 73, 73, 73, 72, 72, 72, 72, 71, 75, 75, 74, 73, 75, 79, 74, 76, 73, 74, 74, 72, 74, 74, 75, 78, 74, 74, 74, 77, 70, 73, 74, 73, 71, 75, 71, 72, 77, 74, 70, 77, 73, 72, 76, 71, 76, 78, 75, 73, 78, 74, 79, 75, 76, 72, 75, 75, 70, 72, 70, 74, 71, 76, 73, 76, 71, 69, 72, 72, 69, 73, 69, 73, 74, 74, 72, 71, 72, 72, 76, 76, 76, 74, 76, 75, 71, 72, 71, 73, 75, 76, 75, 71, 75, 74, 72, 73, 73, 73, 73, 76, 72, 76, 73, 73, 73, 75, 75, 77, 73, 72, 75, 70, 74, 72, 80, 71, 71, 74, 74, 73, 75, 76, 73, 77, 72, 73, 77, 76, 71, 75, 73, 74, 77, 71, 72, 73, 69, 73, 70, 74, 76, 73, 73, 75, 73, 79, 74, 73, 74, 77, 75, 74, 73, 77, 73, 77, 74, 74, 73, 77, 74, 77, 75, 77, 75, 71, 74, 70, 79, 72, 72, 70, 74, 74, 72, 73, 72, 74, 74, 76, 82, 74, 74, 70, 73, 73, 74, 77, 72, 76, 73, 73, 72, 74, 74, 71, 72, 75, 74, 74, 77, 70, 71, 73, 76, 71, 75, 74, 72, 76, 79, 76, 73, 76, 78, 75, 76, 72, 72, 73, 73, 75, 71, 76, 70, 75, 74, 75, 73, 71, 71, 72, 73, 73, 72, 69, 73, 78, 71, 73, 75, 76, 70, 74, 77, 75, 79, 72, 77, 73, 75, 75, 75, 73, 73, 76, 77, 75, 70, 71, 71, 75, 74, 69, 70, 75, 72, 75, 73, 72, 72, 72, 76, 75, 74, 69, 73, 72, 72, 75, 77, 76, 80, 77, 76, 79, 71, 75, 73, 76, 77, 73, 76, 70, 75, 73, 75, 70, 69, 71, 72, 72, 73, 70, 70, 73, 76, 75, 72, 73, 79, 71, 72, 74, 74, 74, 72, 76, 76, 72, 72, 71, 72, 72, 70, 77, 74, 72, 76, 71, 76, 71, 73, 70, 73, 73, 72, 71, 71, 71, 72, 72, 74, 74, 74, 71, 72, 75, 72, 71, 72, 72, 72, 72, 74, 74, 77, 75, 73, 75, 73, 76, 72, 77, 75, 72, 71, 71, 75, 72, 73, 73, 71, 70, 75, 71, 76, 73, 68, 71, 72, 74, 77, 72, 76, 78, 81, 72, 73, 76, 72, 72, 74, 76, 73, 76, 75, 70, 71, 74, 72, 73, 76, 76, 73, 71, 68, 71, 71, 74, 77, 69, 72, 76, 75, 76, 75, 76, 72, 74, 76, 74, 72, 75, 78, 77, 70, 72, 79, 74, 71, 68, 77, 75, 71, 72, 70, 72, 72, 73, 72, 74, 72, 72, 75, 72, 73, 74, 72, 78, 75, 72, 74, 75, 75, 76, 74, 74, 73, 74, 71, 74, 75, 76, 74, 76, 76, 73, 75, 75, 74, 68, 72, 75, 71, 70, 72, 73, 72, 75, 74, 70, 76, 71, 82, 72, 73, 74, 71, 75, 77, 72, 74, 72, 73, 78, 77, 73, 73, 73, 73, 73, 76, 75, 70, 73, 72, 73, 75, 74, 73, 73, 76, 73, 75, 70, 77, 72, 77, 74, 75, 75, 75, 75, 72, 74, 71, 76, 71, 75, 76, 83, 75, 74, 76, 72, 72, 75, 75, 72, 77, 73, 72, 70, 74, 72, 74, 72, 71, 70, 71, 76, 74, 76, 74, 74, 74, 75, 75, 71, 71, 74, 77, 71, 74, 75, 77, 76, 74, 76, 72, 71, 72, 75, 73, 68, 72, 69, 73, 73, 75, 70, 70, 74, 75, 74, 74, 73, 74, 75, 77, 73, 74, 76, 74, 75, 73, 76, 78, 75, 73, 77, 74, 72, 74, 72, 71, 73, 75, 73, 67, 67, 76, 74, 73, 70, 75, 70, 72, 77, 79, 78, 74, 75, 75, 78, 76, 75, 69, 75, 72, 75, 73, 74, 75, 75, 73]\n",
    "\n",
    "\n",
    "np_weight_lb = np.array(weight_lb)\n",
    "np_height_in = np.array(height_in)\n",
    "\n",
    "# Print out the weight at index 50\n",
    "print(np_weight_lb[50])\n",
    "print(np_height_in[50])\n",
    "\n",
    "# Print out sub-array of np_height_in: index 100 up to and including index 110\n",
    "print(np_height_in[100:111])"
   ],
   "id": "2c896cea226a5cb2",
   "outputs": [
    {
     "name": "stdout",
     "output_type": "stream",
     "text": [
      "200\n",
      "73\n",
      "[73 74 72 73 69 72 73 75 75 73 72]\n"
     ]
    }
   ],
   "execution_count": 1
  },
  {
   "metadata": {},
   "cell_type": "markdown",
   "source": [
    "# Your First 2D NumPy Array\n",
    "\n",
    "Before working on the actual MLB data, let's try to create a 2D `numpy` array from a small list of lists.\n",
    "\n",
    "In this exercise, `baseball` is a list of lists. The main list contains 4 elements. Each of these elements is a list containing the height and the weight of 4 baseball players, in this order. `baseball` is already coded for you in the script.\n",
    "\n",
    "## Instructions\n",
    "\n",
    "**100 XP**\n",
    "\n",
    "* Use `np.array()` to create a 2D `numpy` array from `baseball`. Name it `np_baseball`.\n",
    "* Print out the type of `np_baseball`.\n",
    "* Print out the `shape` attribute of `np_baseball`. Use `np_baseball.shape`.\n"
   ],
   "id": "e7dcf20b0230e169"
  },
  {
   "metadata": {
    "ExecuteTime": {
     "end_time": "2024-11-07T13:35:33.817060Z",
     "start_time": "2024-11-07T13:35:33.802780Z"
    }
   },
   "cell_type": "code",
   "source": [
    "import numpy as np\n",
    "\n",
    "baseball = [[180, 78.4],\n",
    "            [215, 102.7],\n",
    "            [210, 98.5],\n",
    "            [188, 75.2]]\n",
    "\n",
    "# Create a 2D numpy array from baseball: np_baseball\n",
    "np_baseball = np.array(baseball)\n",
    "\n",
    "# Print out the type of np_baseball\n",
    "print(type(np_baseball))\n",
    "\n",
    "# Print out the shape of np_baseball\n",
    "print(np_baseball.shape)"
   ],
   "id": "7cbc98154a70ecfc",
   "outputs": [
    {
     "name": "stdout",
     "output_type": "stream",
     "text": [
      "<class 'numpy.ndarray'>\n",
      "(4, 2)\n"
     ]
    }
   ],
   "execution_count": 2
  },
  {
   "metadata": {},
   "cell_type": "markdown",
   "source": [
    "# Baseball data in 2D form\n",
    "\n",
    "You realize that it makes more sense to restructure all this information in a 2D `numpy` array.\n",
    "\n",
    "You have a Python list of lists. In this list of lists, each sublist represents the height and weight of a single baseball player. The name of this list is `baseball` and it has been loaded for you already (although you can't see it).\n",
    "\n",
    "Store the data as a 2D array to unlock `numpy`'s extra functionality.\n",
    "\n",
    "## Instructions\n",
    "\n",
    "**100 XP**\n",
    "\n",
    "* Use `np.array()` to create a 2D `numpy` array from `baseball`. Name it `np_baseball`.\n",
    "* Print out the `shape` attribute of `np_baseball`.\n"
   ],
   "id": "d30bb79059c740d5"
  },
  {
   "metadata": {
    "ExecuteTime": {
     "end_time": "2024-11-07T13:42:17.587544Z",
     "start_time": "2024-11-07T13:42:17.504291Z"
    }
   },
   "cell_type": "code",
   "source": [
    "import numpy as np\n",
    "baseball = [[74, 180], [74, 215], [72, 210], [72, 210], [73, 188], [69, 176], [69, 209], [71, 200], [76, 231], [71, 180], [73, 188], [73, 180], [74, 185], [74, 160], [69, 180], [70, 185], [73, 189], [75, 185], [78, 219], [79, 230], [76, 205], [74, 230], [76, 195], [72, 180], [71, 192], [75, 225], [77, 203], [74, 195], [73, 182], [74, 188], [78, 200], [73, 180], [75, 200], [73, 200], [75, 245], [75, 240], [74, 215], [69, 185], [71, 175], [74, 199], [73, 200], [73, 215], [76, 200], [74, 205], [74, 206], [70, 186], [72, 188], [77, 220], [74, 210], [70, 195], [73, 200], [75, 200], [76, 212], [76, 224], [78, 210], [74, 205], [74, 220], [76, 195], [77, 200], [81, 260], [78, 228], [75, 270], [77, 200], [75, 210], [76, 190], [74, 220], [72, 180], [72, 205], [75, 210], [73, 220], [73, 211], [73, 200], [70, 180], [70, 190], [70, 170], [76, 230], [68, 155], [71, 185], [72, 185], [75, 200], [75, 225], [75, 225], [75, 220], [68, 160], [74, 205], [78, 235], [71, 250], [73, 210], [76, 190], [74, 160], [74, 200], [79, 205], [75, 222], [73, 195], [76, 205], [74, 220], [74, 220], [73, 170], [72, 185], [74, 195], [73, 220], [74, 230], [72, 180], [73, 220], [69, 180], [72, 180], [73, 170], [75, 210], [75, 215], [73, 200], [72, 213], [72, 180], [76, 192], [74, 235], [72, 185], [77, 235], [74, 210], [77, 222], [75, 210], [76, 230], [80, 220], [74, 180], [74, 190], [75, 200], [78, 210], [73, 194], [73, 180], [74, 190], [75, 240], [76, 200], [71, 198], [73, 200], [74, 195], [76, 210], [76, 220], [74, 190], [73, 210], [74, 225], [70, 180], [72, 185], [73, 170], [73, 185], [73, 185], [73, 180], [71, 178], [74, 175], [74, 200], [72, 204], [74, 211], [71, 190], [74, 210], [73, 190], [75, 190], [75, 185], [79, 290], [73, 175], [75, 185], [76, 200], [74, 220], [76, 170], [78, 220], [74, 190], [76, 220], [72, 205], [74, 200], [76, 250], [74, 225], [75, 215], [78, 210], [75, 215], [72, 195], [74, 200], [72, 194], [74, 220], [70, 180], [71, 180], [70, 170], [75, 195], [71, 180], [71, 170], [73, 206], [72, 205], [71, 200], [73, 225], [72, 201], [75, 225], [74, 233], [74, 180], [75, 225], [73, 180], [77, 220], [73, 180], [76, 237], [75, 215], [74, 190], [76, 235], [75, 190], [73, 180], [71, 165], [76, 195], [75, 200], [72, 190], [71, 190], [77, 185], [73, 185], [74, 205], [71, 190], [72, 205], [74, 206], [75, 220], [73, 208], [72, 170], [75, 195], [75, 210], [74, 190], [72, 211], [74, 230], [71, 170], [70, 185], [74, 185], [77, 241], [77, 225], [75, 210], [75, 175], [78, 230], [75, 200], [76, 215], [73, 198], [75, 226], [75, 278], [79, 215], [77, 230], [76, 240], [71, 184], [75, 219], [74, 170], [69, 218], [71, 190], [76, 225], [72, 220], [72, 176], [70, 190], [72, 197], [73, 204], [71, 167], [72, 180], [71, 195], [73, 220], [72, 215], [73, 185], [74, 190], [74, 205], [72, 205], [75, 200], [74, 210], [74, 215], [77, 200], [75, 205], [73, 211], [72, 190], [71, 208], [74, 200], [77, 210], [75, 232], [75, 230], [75, 210], [78, 220], [78, 210], [74, 202], [76, 212], [78, 225], [76, 170], [70, 190], [72, 200], [80, 237], [74, 220], [74, 170], [71, 193], [70, 190], [72, 150], [71, 220], [74, 200], [71, 190], [72, 185], [71, 185], [74, 200], [69, 172], [76, 220], [75, 225], [75, 190], [76, 195], [73, 219], [76, 190], [73, 197], [77, 200], [73, 195], [72, 210], [72, 177], [77, 220], [77, 235], [71, 180], [74, 195], [74, 195], [73, 190], [78, 230], [75, 190], [73, 200], [70, 190], [74, 190], [72, 200], [73, 200], [73, 184], [75, 200], [75, 180], [74, 219], [76, 187], [73, 200], [74, 220], [75, 205], [75, 190], [72, 170], [73, 160], [73, 215], [72, 175], [74, 205], [78, 200], [76, 214], [73, 200], [74, 190], [75, 180], [70, 205], [75, 220], [71, 190], [72, 215], [78, 235], [75, 191], [73, 200], [73, 181], [71, 200], [75, 210], [77, 240], [72, 185], [69, 165], [73, 190], [74, 185], [72, 175], [70, 155], [75, 210], [70, 170], [72, 175], [72, 220], [74, 210], [73, 205], [74, 200], [76, 205], [75, 195], [80, 240], [72, 150], [75, 200], [73, 215], [74, 202], [74, 200], [73, 190], [75, 205], [75, 190], [71, 160], [73, 215], [75, 185], [74, 200], [74, 190], [72, 210], [74, 185], [74, 220], [74, 190], [73, 202], [76, 205], [75, 220], [72, 175], [73, 160], [73, 190], [73, 200], [72, 229], [72, 206], [72, 220], [72, 180], [71, 195], [75, 175], [75, 188], [74, 230], [73, 190], [75, 200], [79, 190], [74, 219], [76, 235], [73, 180], [74, 180], [74, 180], [72, 200], [74, 234], [74, 185], [75, 220], [78, 223], [74, 200], [74, 210], [74, 200], [77, 210], [70, 190], [73, 177], [74, 227], [73, 180], [71, 195], [75, 199], [71, 175], [72, 185], [77, 240], [74, 210], [70, 180], [77, 194], [73, 225], [72, 180], [76, 205], [71, 193], [76, 230], [78, 230], [75, 220], [73, 200], [78, 249], [74, 190], [79, 208], [75, 245], [76, 250], [72, 160], [75, 192], [75, 220], [70, 170], [72, 197], [70, 155], [74, 190], [71, 200], [76, 220], [73, 210], [76, 228], [71, 190], [69, 160], [72, 184], [72, 180], [69, 180], [73, 200], [69, 176], [73, 160], [74, 222], [74, 211], [72, 195], [71, 200], [72, 175], [72, 206], [76, 240], [76, 185], [76, 260], [74, 185], [76, 221], [75, 205], [71, 200], [72, 170], [71, 201], [73, 205], [75, 185], [76, 205], [75, 245], [71, 220], [75, 210], [74, 220], [72, 185], [73, 175], [73, 170], [73, 180], [73, 200], [76, 210], [72, 175], [76, 220], [73, 206], [73, 180], [73, 210], [75, 195], [75, 200], [77, 200], [73, 164], [72, 180], [75, 220], [70, 195], [74, 205], [72, 170], [80, 240], [71, 210], [71, 195], [74, 200], [74, 205], [73, 192], [75, 190], [76, 170], [73, 240], [77, 200], [72, 205], [73, 175], [77, 250], [76, 220], [71, 224], [75, 210], [73, 195], [74, 180], [77, 245], [71, 175], [72, 180], [73, 215], [69, 175], [73, 180], [70, 195], [74, 230], [76, 230], [73, 205], [73, 215], [75, 195], [73, 180], [79, 205], [74, 180], [73, 190], [74, 180], [77, 190], [75, 190], [74, 220], [73, 210], [77, 255], [73, 190], [77, 230], [74, 200], [74, 205], [73, 210], [77, 225], [74, 215], [77, 220], [75, 205], [77, 200], [75, 220], [71, 197], [74, 225], [70, 187], [79, 245], [72, 185], [72, 185], [70, 175], [74, 200], [74, 180], [72, 188], [73, 225], [72, 200], [74, 210], [74, 245], [76, 213], [82, 231], [74, 165], [74, 228], [70, 210], [73, 250], [73, 191], [74, 190], [77, 200], [72, 215], [76, 254], [73, 232], [73, 180], [72, 215], [74, 220], [74, 180], [71, 200], [72, 170], [75, 195], [74, 210], [74, 200], [77, 220], [70, 165], [71, 180], [73, 200], [76, 200], [71, 170], [75, 224], [74, 220], [72, 180], [76, 198], [79, 240], [76, 239], [73, 185], [76, 210], [78, 220], [75, 200], [76, 195], [72, 220], [72, 230], [73, 170], [73, 220], [75, 230], [71, 165], [76, 205], [70, 192], [75, 210], [74, 205], [75, 200], [73, 210], [71, 185], [71, 195], [72, 202], [73, 205], [73, 195], [72, 180], [69, 200], [73, 185], [78, 240], [71, 185], [73, 220], [75, 205], [76, 205], [70, 180], [74, 201], [77, 190], [75, 208], [79, 240], [72, 180], [77, 230], [73, 195], [75, 215], [75, 190], [75, 195], [73, 215], [73, 215], [76, 220], [77, 220], [75, 230], [70, 195], [71, 190], [71, 195], [75, 209], [74, 204], [69, 170], [70, 185], [75, 205], [72, 175], [75, 210], [73, 190], [72, 180], [72, 180], [72, 160], [76, 235], [75, 200], [74, 210], [69, 180], [73, 190], [72, 197], [72, 203], [75, 205], [77, 170], [76, 200], [80, 250], [77, 200], [76, 220], [79, 200], [71, 190], [75, 170], [73, 190], [76, 220], [77, 215], [73, 206], [76, 215], [70, 185], [75, 235], [73, 188], [75, 230], [70, 195], [69, 168], [71, 190], [72, 160], [72, 200], [73, 200], [70, 189], [70, 180], [73, 190], [76, 200], [75, 220], [72, 187], [73, 240], [79, 190], [71, 180], [72, 185], [74, 210], [74, 220], [74, 219], [72, 190], [76, 193], [76, 175], [72, 180], [72, 215], [71, 210], [72, 200], [72, 190], [70, 185], [77, 220], [74, 170], [72, 195], [76, 205], [71, 195], [76, 210], [71, 190], [73, 190], [70, 180], [73, 220], [73, 190], [72, 186], [71, 185], [71, 190], [71, 180], [72, 190], [72, 170], [74, 210], [74, 240], [74, 220], [71, 180], [72, 210], [75, 210], [72, 195], [71, 160], [72, 180], [72, 205], [72, 200], [72, 185], [74, 245], [74, 190], [77, 210], [75, 200], [73, 200], [75, 222], [73, 215], [76, 240], [72, 170], [77, 220], [75, 156], [72, 190], [71, 202], [71, 221], [75, 200], [72, 190], [73, 210], [73, 190], [71, 200], [70, 165], [75, 190], [71, 185], [76, 230], [73, 208], [68, 209], [71, 175], [72, 180], [74, 200], [77, 205], [72, 200], [76, 250], [78, 210], [81, 230], [72, 244], [73, 202], [76, 240], [72, 200], [72, 215], [74, 177], [76, 210], [73, 170], [76, 215], [75, 217], [70, 198], [71, 200], [74, 220], [72, 170], [73, 200], [76, 230], [76, 231], [73, 183], [71, 192], [68, 167], [71, 190], [71, 180], [74, 180], [77, 215], [69, 160], [72, 205], [76, 223], [75, 175], [76, 170], [75, 190], [76, 240], [72, 175], [74, 230], [76, 223], [74, 196], [72, 167], [75, 195], [78, 190], [77, 250], [70, 190], [72, 190], [79, 190], [74, 170], [71, 160], [68, 150], [77, 225], [75, 220], [71, 209], [72, 210], [70, 176], [72, 260], [72, 195], [73, 190], [72, 184], [74, 180], [72, 195], [72, 195], [75, 219], [72, 225], [73, 212], [74, 202], [72, 185], [78, 200], [75, 209], [72, 200], [74, 195], [75, 228], [75, 210], [76, 190], [74, 212], [74, 190], [73, 218], [74, 220], [71, 190], [74, 235], [75, 210], [76, 200], [74, 188], [76, 210], [76, 235], [73, 188], [75, 215], [75, 216], [74, 220], [68, 180], [72, 185], [75, 200], [71, 210], [70, 220], [72, 185], [73, 231], [72, 210], [75, 195], [74, 200], [70, 205], [76, 200], [71, 190], [82, 250], [72, 185], [73, 180], [74, 170], [71, 180], [75, 208], [77, 235], [72, 215], [74, 244], [72, 220], [73, 185], [78, 230], [77, 190], [73, 200], [73, 180], [73, 190], [73, 196], [73, 180], [76, 230], [75, 224], [70, 160], [73, 178], [72, 205], [73, 185], [75, 210], [74, 180], [73, 190], [73, 200], [76, 257], [73, 190], [75, 220], [70, 165], [77, 205], [72, 200], [77, 208], [74, 185], [75, 215], [75, 170], [75, 235], [75, 210], [72, 170], [74, 180], [71, 170], [76, 190], [71, 150], [75, 230], [76, 203], [83, 260], [75, 246], [74, 186], [76, 210], [72, 198], [72, 210], [75, 215], [75, 180], [72, 200], [77, 245], [73, 200], [72, 192], [70, 192], [74, 200], [72, 192], [74, 205], [72, 190], [71, 186], [70, 170], [71, 197], [76, 219], [74, 200], [76, 220], [74, 207], [74, 225], [74, 207], [75, 212], [75, 225], [71, 170], [71, 190], [74, 210], [77, 230], [71, 210], [74, 200], [75, 238], [77, 234], [76, 222], [74, 200], [76, 190], [72, 170], [71, 220], [72, 223], [75, 210], [73, 215], [68, 196], [72, 175], [69, 175], [73, 189], [73, 205], [75, 210], [70, 180], [70, 180], [74, 197], [75, 220], [74, 228], [74, 190], [73, 204], [74, 165], [75, 216], [77, 220], [73, 208], [74, 210], [76, 215], [74, 195], [75, 200], [73, 215], [76, 229], [78, 240], [75, 207], [73, 205], [77, 208], [74, 185], [72, 190], [74, 170], [72, 208], [71, 225], [73, 190], [75, 225], [73, 185], [67, 180], [67, 165], [76, 240], [74, 220], [73, 212], [70, 163], [75, 215], [70, 175], [72, 205], [77, 210], [79, 205], [78, 208], [74, 215], [75, 180], [75, 200], [78, 230], [76, 211], [75, 230], [69, 190], [75, 220], [72, 180], [75, 205], [73, 190], [74, 180], [75, 205], [75, 190], [73, 195]]\n",
    "\n",
    "# Create a 2D numpy array from baseball: np_baseball\n",
    "np_baseball = np.array(baseball)\n",
    "\n",
    "# Print out the shape of np_baseball\n",
    "print(np_baseball.shape)"
   ],
   "id": "14e694a771e2c712",
   "outputs": [
    {
     "name": "stdout",
     "output_type": "stream",
     "text": [
      "(1015, 2)\n"
     ]
    }
   ],
   "execution_count": 3
  },
  {
   "metadata": {},
   "cell_type": "markdown",
   "source": [
    "# Subsetting 2D NumPy Arrays\n",
    "\n",
    "If your 2D `numpy` array has a regular structure, i.e. each row and column has a fixed number of values, complicated ways of subsetting become very easy. Have a look at the code below where the elements `\"a\"` and `\"c\"` are extracted from a list of lists.\n",
    "\n",
    "```\n",
    "# numpy\n",
    "import numpy as np\n",
    "np_x = np.array(x)\n",
    "np_x[:, 0]\n",
    "```\n",
    "\n",
    "The indexes before the comma refer to the rows, while those after the comma refer to the columns. The `:` is for slicing; in this example, it tells Python to include all rows.\n",
    "\n",
    "## Instructions\n",
    "\n",
    "**100 XP**\n",
    "\n",
    "* Print out the 50th row of `np_baseball`.\n",
    "* Make a new variable, `np_weight_lb`, containing the entire second column of `np_baseball`.\n",
    "* Select the height (first column) of the 124th baseball player in `np_baseball` and print it out.\n"
   ],
   "id": "ba27e26ab486a735"
  },
  {
   "metadata": {
    "ExecuteTime": {
     "end_time": "2024-11-07T13:56:47.001930Z",
     "start_time": "2024-11-07T13:56:46.996005Z"
    }
   },
   "cell_type": "code",
   "source": [
    "import numpy as np\n",
    "\n",
    "np_baseball = np.array(baseball)\n",
    "\n",
    "# Print out the 50th row of np_baseball\n",
    "\n",
    "print(np_baseball[49, :])\n",
    "# Select the entire second column of np_baseball: np_weight_lb\n",
    "np_weight_lb = np_baseball[:, 1]\n",
    "\n",
    "# Print out height of 124th player\n",
    "print(np_baseball[123, 0])\n"
   ],
   "id": "420099a11dcab43e",
   "outputs": [
    {
     "name": "stdout",
     "output_type": "stream",
     "text": [
      "[ 70 195]\n",
      "75\n"
     ]
    }
   ],
   "execution_count": 9
  },
  {
   "metadata": {},
   "cell_type": "markdown",
   "source": [
    "# 2D Arithmetic\n",
    "\n",
    "2D `numpy` arrays can perform calculations element by element, like `numpy` arrays.\n",
    "\n",
    "`np_baseball` is coded for you; it's again a 2D `numpy` array with 3 columns representing height (in inches), weight (in pounds) and age (in years). `baseball` is available as a regular list of lists and `updated` is available as 2D numpy array.\n",
    "\n",
    "## Instructions\n",
    "\n",
    "**100 XP**\n",
    "\n",
    "* You managed to get hold of the changes in height, weight and age of all baseball players. It is available as a 2D `numpy` array, `updated`. Add `np_baseball` and `updated` and print out the result.\n",
    "* You want to convert the units of height and weight to metric (meters and kilograms, respectively). As a first step, create a `numpy` array with three values: `0.0254`, `0.453592` and `1`. Name this array `conversion`.\n",
    "* Multiply `np_baseball` with `conversion` and print out the result.\n"
   ],
   "id": "cb78d8d6ac9c087c"
  },
  {
   "metadata": {
    "ExecuteTime": {
     "end_time": "2024-11-07T14:02:28.973818Z",
     "start_time": "2024-11-07T14:02:28.950161Z"
    }
   },
   "cell_type": "code",
   "source": [
    "import numpy as np\n",
    "\n",
    "np_baseball = np.array(baseball)\n",
    "\n",
    "\n",
    "# Print out addition of np_baseball and updated\n",
    "print(updated + np_baseball)\n",
    "\n",
    "# Create numpy array: conversion\n",
    "conversion = np.array([0.0254, 0.453592, 1])\n",
    "\n",
    "# Print out product of np_baseball and conversion\n",
    "print(np_baseball * conversion)"
   ],
   "id": "4c161b2e1672f9ca",
   "outputs": [
    {
     "ename": "NameError",
     "evalue": "name 'updated' is not defined",
     "output_type": "error",
     "traceback": [
      "\u001B[1;31m---------------------------------------------------------------------------\u001B[0m",
      "\u001B[1;31mNameError\u001B[0m                                 Traceback (most recent call last)",
      "Cell \u001B[1;32mIn[10], line 7\u001B[0m\n\u001B[0;32m      3\u001B[0m np_baseball \u001B[38;5;241m=\u001B[39m np\u001B[38;5;241m.\u001B[39marray(baseball)\n\u001B[0;32m      6\u001B[0m \u001B[38;5;66;03m# Print out addition of np_baseball and updated\u001B[39;00m\n\u001B[1;32m----> 7\u001B[0m \u001B[38;5;28mprint\u001B[39m(\u001B[43mupdated\u001B[49m \u001B[38;5;241m+\u001B[39m np_baseball)\n\u001B[0;32m      9\u001B[0m \u001B[38;5;66;03m# Create numpy array: conversion\u001B[39;00m\n\u001B[0;32m     10\u001B[0m conversion \u001B[38;5;241m=\u001B[39m np\u001B[38;5;241m.\u001B[39marray([\u001B[38;5;241m0.0254\u001B[39m, \u001B[38;5;241m0.453592\u001B[39m, \u001B[38;5;241m1\u001B[39m])\n",
      "\u001B[1;31mNameError\u001B[0m: name 'updated' is not defined"
     ]
    }
   ],
   "execution_count": 10
  },
  {
   "metadata": {},
   "cell_type": "markdown",
   "source": [
    "# Average versus median\n",
    "\n",
    "You now know how to use `numpy` functions to get a better feeling for your data.\n",
    "\n",
    "The baseball data is available as a 2D `numpy` array with 3 columns (height, weight, age) and 1015 rows. The name of this `numpy` array is `np_baseball`. After restructuring the data, however, you notice that some height values are abnormally high. Follow the instructions and discover which summary statistic is best suited if you're dealing with so-called *outliers* . `np_baseball` is available.\n",
    "\n",
    "## Instructions\n",
    "\n",
    "**100 XP**\n",
    "\n",
    "* Create `numpy` array `np_height_in` that is equal to first column of `np_baseball`.\n",
    "* Print out the mean of `np_height_in`.\n",
    "* Print out the median of `np_height_in`.\n"
   ],
   "id": "60d8fa485b4c0824"
  },
  {
   "metadata": {
    "ExecuteTime": {
     "end_time": "2024-11-07T14:11:30.493203Z",
     "start_time": "2024-11-07T14:11:30.488358Z"
    }
   },
   "cell_type": "code",
   "source": [
    "import numpy as np\n",
    "\n",
    "# Create np_height_in from np_baseball\n",
    "np_height_in = np.array(np_baseball[:,0])\n",
    "\n",
    "# Print out the mean of np_height_in\n",
    "print(np.mean(np_height_in))\n",
    "\n",
    "# Print out the median of np_height_in\n",
    "print(np.median(np_height_in))"
   ],
   "id": "ddd25070518fdb1c",
   "outputs": [
    {
     "name": "stdout",
     "output_type": "stream",
     "text": [
      "73.6896551724138\n",
      "74.0\n"
     ]
    }
   ],
   "execution_count": 14
  },
  {
   "metadata": {},
   "cell_type": "markdown",
   "source": [
    "# Explore the baseball data\n",
    "\n",
    "Because the mean and median are so far apart, you decide to complain to the MLB. They find the error and send the corrected data over to you. It's again available as a 2D NumPy array `np_baseball`, with three columns.\n",
    "\n",
    "The Python script in the editor already includes code to print out informative messages with the different summary statistics and `numpy` is already loaded as `np`. Can you finish the job? `np_baseball` is available.\n",
    "\n",
    "## Instructions\n",
    "\n",
    "**100 XP**\n",
    "\n",
    "* The code to print out the mean height is already included. Complete the code for the median height. Replace `None` with the correct code.\n",
    "* Use `np.std()` on the first column of `np_baseball` to calculate `stddev`. Replace `None` with the correct code.\n",
    "* Do big players tend to be heavier? Use `np.corrcoef()` to store the correlation between the first and second column of `np_baseball` in `corr`. Replace `None` with the correct code.\n"
   ],
   "id": "476bc424cdcf4dfd"
  },
  {
   "metadata": {
    "ExecuteTime": {
     "end_time": "2024-11-07T14:17:20.861369Z",
     "start_time": "2024-11-07T14:17:20.811396Z"
    }
   },
   "cell_type": "code",
   "source": [
    "avg = np.mean(np_baseball[:,0])\n",
    "print(\"Average: \" + str(avg))\n",
    "\n",
    "# Print median height\n",
    "med = np.median(np_baseball[:, 0])\n",
    "print(\"Median: \" + str(med))\n",
    "\n",
    "# Print out the standard deviation on height\n",
    "stddev = np.std(np_baseball[:, 0])\n",
    "print(\"Standard Deviation: \" + str(stddev))\n",
    "\n",
    "# Print out correlation between first and second column\n",
    "corr = np.corrcoef(np_baseball[:, 0], np_baseball[:, 1])\n",
    "print(\"Correlation: \" + str(corr))"
   ],
   "id": "ef45d9092024f962",
   "outputs": [
    {
     "name": "stdout",
     "output_type": "stream",
     "text": [
      "Average: 73.6896551724138\n",
      "Median: 74.0\n",
      "Standard Deviation: 2.312791881046546\n",
      "Correlation: [[1.         0.53153932]\n",
      " [0.53153932 1.        ]]\n"
     ]
    }
   ],
   "execution_count": 17
  },
  {
   "metadata": {},
   "cell_type": "code",
   "outputs": [],
   "execution_count": null,
   "source": "",
   "id": "de9cbca8edb68d64"
  }
 ],
 "metadata": {
  "kernelspec": {
   "display_name": "Python 3",
   "language": "python",
   "name": "python3"
  },
  "language_info": {
   "codemirror_mode": {
    "name": "ipython",
    "version": 2
   },
   "file_extension": ".py",
   "mimetype": "text/x-python",
   "name": "python",
   "nbconvert_exporter": "python",
   "pygments_lexer": "ipython2",
   "version": "2.7.6"
  }
 },
 "nbformat": 4,
 "nbformat_minor": 5
}
