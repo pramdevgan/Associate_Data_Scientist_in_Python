{
 "cells": [
  {
   "metadata": {},
   "cell_type": "markdown",
   "source": "# Python Basics",
   "id": "de6dce792cb673a8"
  },
  {
   "metadata": {},
   "cell_type": "markdown",
   "source": [
    "## Your first Python code\n",
    "It's time to run your first Python code!\n",
    "\n",
    "Head to the code and hit the run code button to see the output.\n",
    "\n",
    "* Hit the run code button to see the output of \n",
    "```python\n",
    "print(5 / 8)\n",
    "```"
   ],
   "id": "4a7e5f6ff0551029"
  },
  {
   "metadata": {
    "ExecuteTime": {
     "end_time": "2024-11-04T01:27:08.285593Z",
     "start_time": "2024-11-04T01:27:08.280452Z"
    }
   },
   "cell_type": "code",
   "source": "print(5/8)",
   "id": "49a5acd4098a3e87",
   "outputs": [
    {
     "name": "stdout",
     "output_type": "stream",
     "text": [
      "0.625\n"
     ]
    }
   ],
   "execution_count": 1
  },
  {
   "metadata": {},
   "cell_type": "markdown",
   "source": [
    "## Any comments?\n",
    "You can also add **comments** to your Python scripts. Comments are important to make sure that you and others can understand what your code is about and do not run as Python code.\n",
    "\n",
    "They start with `#` tag. See the comment in the editor, `#` Division; now it's your turn to add a comment!\n",
    "\n",
    "* Replace ____ with the comment\n",
    "* \\# Addition"
   ],
   "id": "748f99ba5337270d"
  },
  {
   "metadata": {
    "ExecuteTime": {
     "end_time": "2024-11-04T01:28:44.293493Z",
     "start_time": "2024-11-04T01:28:44.289013Z"
    }
   },
   "cell_type": "code",
   "source": [
    "# Division\n",
    "print(5 / 8)\n",
    "#Addition\n",
    "print(7 + 10)"
   ],
   "id": "d8c5979dee5fb61c",
   "outputs": [
    {
     "name": "stdout",
     "output_type": "stream",
     "text": [
      "0.625\n",
      "17\n"
     ]
    }
   ],
   "execution_count": 2
  },
  {
   "metadata": {},
   "cell_type": "markdown",
   "source": [
    "## Python as a calculator\n",
    "Python is perfectly suited to do basic calculations. It can do addition, subtraction, multiplication and division.\n",
    "\n",
    "The code in the script gives some examples.\n",
    "\n",
    "Now it's your turn to practice!\n",
    "\n",
    "### Instructions\n",
    "* Print the sum of `4 + 5`.\n",
    "* Print the result of subtracting `5 from 5`.\n",
    "* Print the result of multiplying `3 by 5`.\n",
    "* Print the result of dividing `10 by 2`."
   ],
   "id": "67dad7fad4ada6b4"
  },
  {
   "metadata": {
    "ExecuteTime": {
     "end_time": "2024-11-04T01:30:23.878473Z",
     "start_time": "2024-11-04T01:30:23.873107Z"
    }
   },
   "cell_type": "code",
   "source": [
    "# Addition\n",
    "print(4+5)\n",
    "\n",
    "# Subtraction\n",
    "print(5-5)\n",
    "\n",
    "# Multiplication\n",
    "print(3*5)\n",
    "\n",
    "# Division\n",
    "print(10/2)"
   ],
   "id": "fbd68719703cfe89",
   "outputs": [
    {
     "name": "stdout",
     "output_type": "stream",
     "text": [
      "9\n",
      "0\n",
      "15\n",
      "5.0\n"
     ]
    }
   ],
   "execution_count": 3
  },
  {
   "metadata": {},
   "cell_type": "markdown",
   "source": [
    "### Variable Assignment\n",
    "In Python, a variable allows you to refer to a value with a name. To create a variable `x` with a value of `5`, you use `=`, like this example:\n",
    "```python\n",
    "x = 5\n",
    "```\n",
    "\n",
    "You can now use the name of this variable, `x`, instead of the actual value, `5`.\n",
    "\n",
    "Remember, `=` in Python means assignment, it doesn't test equality! Try it in the exercise by replacing `____` with your code.\n",
    "\n",
    "#### Instructions\n",
    "* Create a variable savings with the value of 100.\n",
    "* Check out this variable by typing print(savings) in the script.\n",
    "\n"
   ],
   "id": "170bb7d12fa9030a"
  },
  {
   "metadata": {
    "ExecuteTime": {
     "end_time": "2024-11-04T01:35:30.462864Z",
     "start_time": "2024-11-04T01:35:30.456411Z"
    }
   },
   "cell_type": "code",
   "source": [
    "savings = 100\n",
    "\n",
    "# Print out savings\n",
    "print(savings)"
   ],
   "id": "e08f48816017f685",
   "outputs": [
    {
     "name": "stdout",
     "output_type": "stream",
     "text": [
      "100\n"
     ]
    }
   ],
   "execution_count": 4
  },
  {
   "metadata": {},
   "cell_type": "markdown",
   "source": [
    "### Calculations with variables\n",
    "You've now created a savings variable, so let's start saving!\n",
    "\n",
    "Instead of calculating with the actual values, you can use variables instead.\n",
    "\n",
    "How much money would you have saved four months from now, if you saved $10 each month?\n",
    "\n",
    "#### Instructions\n",
    "\n",
    "* Create a variable `monthly_savings`, equal to `10` and `num_months`, equal to `4`.\n",
    "* Multiply `monthly_savings` by `num_months` and assign it to `new_savings`.\n",
    "* Print the value of `new_savings`."
   ],
   "id": "881c69cb0d3112da"
  },
  {
   "metadata": {},
   "cell_type": "markdown",
   "source": [
    "### Other variable types\n",
    "In the previous exercise, you worked with the integer Python data type:\n",
    "\n",
    "* `int`, or integer: a number without a fractional part. `savings`, with the value `100`, is an example of an integer.\n",
    "Next to numerical data types, there are three other very common data types:\n",
    "\n",
    "* `float`, or floating point: a number that has both an integer and fractional part, separated by a point. `1.1`, is an example of a float.\n",
    "* `str`, or string: a type to represent text. You can use single or double quotes to build a string.\n",
    "* `bool`, or boolean: a type to represent logical values. It can only be `True` or `False` (the capitalization is important!).\n",
    "\n",
    "#### Instructions\n",
    "\n",
    "* Create a new float, `half`, with the value `0.5`.\n",
    "* Create a new string, `intro`, with the value `\"Hello! How are you?\"`.\n",
    "* Create a new boolean, `is_good`, with the value `True`."
   ],
   "id": "382b3c2912e9ac67"
  },
  {
   "metadata": {},
   "cell_type": "code",
   "outputs": [],
   "execution_count": null,
   "source": [
    "# Create a variable half\n",
    "half = 0.5\n",
    "\n",
    "# Create a variable intro\n",
    "intro = \"Hello! How are you?\"\n",
    "\n",
    "# Create a variable is_good\n",
    "is_good = True"
   ],
   "id": "6a0378d54c8370be"
  },
  {
   "metadata": {},
   "cell_type": "markdown",
   "source": [
    "### Operations with other types\n",
    "Variables come in different types in Python. You can see the type of a variable by using `type()`. For example, to see type of a, execute: `type(a)`.\n",
    "\n",
    "Different types behave differently in Python. When you sum two strings, for example, you'll get different behavior than when you sum two integers or two booleans.\n",
    "\n",
    "Time for you to test this out.\n",
    "\n",
    "Instructions 1/2\n",
    "\n",
    "* Add `savings` and `new_savings` and assign it to `total_savings`.\n",
    "* Use `type()` to print the resulting type of `total_savings`."
   ],
   "id": "df23812d7d5e6afe"
  },
  {
   "metadata": {
    "ExecuteTime": {
     "end_time": "2024-11-04T01:47:46.946517Z",
     "start_time": "2024-11-04T01:47:46.941032Z"
    }
   },
   "cell_type": "code",
   "source": [
    "savings = 100\n",
    "new_savings = 40\n",
    "\n",
    "# Calculate total_savings using savings and new_savings\n",
    "total_savings = savings + new_savings\n",
    "print((type(total_savings)))\n",
    "print(total_savings)"
   ],
   "id": "1bcfa5dceee30b87",
   "outputs": [
    {
     "name": "stdout",
     "output_type": "stream",
     "text": [
      "<class 'int'>\n",
      "140\n"
     ]
    }
   ],
   "execution_count": 7
  },
  {
   "metadata": {},
   "cell_type": "markdown",
   "source": [
    "#### Instructions 2/2\n",
    "\n",
    "* Calculate the sum of `intro` and intro and assign the result to `doubleintro`.\n",
    "* Print out `doubleintro`. Did you expect this?"
   ],
   "id": "6f48945e13529d5e"
  },
  {
   "metadata": {
    "ExecuteTime": {
     "end_time": "2024-11-04T01:57:58.890251Z",
     "start_time": "2024-11-04T01:57:58.885429Z"
    }
   },
   "cell_type": "code",
   "source": [
    "intro = \"Hello! How are you?\"\n",
    "\n",
    "# Assign sum of intro and intro to doubleintro\n",
    "doubleintro = intro + intro\n",
    "print(type(doubleintro))\n",
    "# Print out doubleintro\n",
    "print(doubleintro)"
   ],
   "id": "35cbbce2737e318b",
   "outputs": [
    {
     "name": "stdout",
     "output_type": "stream",
     "text": [
      "<class 'str'>\n",
      "Hello! How are you?Hello! How are you?\n"
     ]
    }
   ],
   "execution_count": 12
  },
  {
   "metadata": {},
   "cell_type": "markdown",
   "source": [
    "# Python Lists\n",
    "Learn to store, access, and manipulate data in lists: the first step toward efficiently working with huge amounts of data."
   ],
   "id": "df03bd3d19fd8ea0"
  },
  {
   "metadata": {},
   "cell_type": "markdown",
   "source": [
    "## Create a list\n",
    "A list is a `compound data type`; you can group values together, like this:\n",
    "\n",
    "```python\n",
    "a = \"is\"\n",
    "b = \"nice\"\n",
    "my_list = [\"my\", \"list\", a, b]\n",
    "```\n",
    "\n",
    "After measuring the height of your family, you decide to collect some information on the house you're living in. The areas of the different parts of your house are stored in separate variables in the exercise.\n",
    "\n",
    "### Instructions\n",
    "* Create a list, `areas`, that contains the area of the hallway (`hall`), kitchen (`kit`), living room (`liv`), bedroom (`bed`) and bathroom (`bath`), in this order. Use the predefined variables.\n",
    "* Print `areas` with the `print()` function."
   ],
   "id": "54a5f256a26b1306"
  },
  {
   "metadata": {
    "ExecuteTime": {
     "end_time": "2024-11-04T01:55:03.746014Z",
     "start_time": "2024-11-04T01:55:03.741385Z"
    }
   },
   "cell_type": "code",
   "source": [
    "hall = 11.25\n",
    "kit = 18.0\n",
    "liv = 20.0\n",
    "bed = 10.75\n",
    "bath = 9.50\n",
    "\n",
    "# Create list areas\n",
    "areas = [hall, kit, liv, bed, bath]\n",
    "\n",
    "# Print areas\n",
    "print(areas)"
   ],
   "id": "4d0519d512dfb7ba",
   "outputs": [
    {
     "name": "stdout",
     "output_type": "stream",
     "text": [
      "[11.25, 18.0, 20.0, 10.75, 9.5]\n"
     ]
    }
   ],
   "execution_count": 10
  },
  {
   "metadata": {},
   "cell_type": "markdown",
   "source": [
    "## Create lists with different types\n",
    "Although it's not really common, a list can also contain a mix of Python types including strings, floats, and booleans.\n",
    "\n",
    "You're now going to add the room names to your list, so you can easily see both the room name and size together.\n",
    "\n",
    "Some of the code has been provided for you to get you started. Pay attention here! `\"bathroom\"` is a string, while bath is a variable that represents the float `9.50` you specified earlier.\n",
    "\n",
    "### Instructions\n",
    "\n",
    "* Finish the code that creates the `areas` list. Build the list so that the list first contains the name of each room as a string and then its area. In other words, add the strings `\"hallway\"`, `\"kitchen\"` and `\"bedroom\"` at the appropriate locations.\n",
    "* Print `areas` again; is the printout more informative this time?"
   ],
   "id": "e184e366a21dbc99"
  },
  {
   "metadata": {
    "ExecuteTime": {
     "end_time": "2024-11-04T01:57:03.959279Z",
     "start_time": "2024-11-04T01:57:03.954550Z"
    }
   },
   "cell_type": "code",
   "source": [
    "hall = 11.25\n",
    "kit = 18.0\n",
    "liv = 20.0\n",
    "bed = 10.75\n",
    "bath = 9.50\n",
    "\n",
    "# Adapt list areas\n",
    "areas = [\"hallway\", hall, \"kitchen\", kit, \"living room\", liv, \"bedroom\", bed, \"bathroom\", bath]\n",
    "\n",
    "# Print areas\n",
    "print(areas)"
   ],
   "id": "8e63ec2a07b62dc6",
   "outputs": [
    {
     "name": "stdout",
     "output_type": "stream",
     "text": [
      "['hallway', 11.25, 'kitchen', 18.0, 'living room', 20.0, 'bedroom', 10.75, 'bathroom', 9.5]\n"
     ]
    }
   ],
   "execution_count": 11
  },
  {
   "metadata": {},
   "cell_type": "markdown",
   "source": [
    "\n",
    "## List of lists\n",
    "As a data scientist, you'll often be dealing with a lot of data, and it will make sense to group some of this data.\n",
    "\n",
    "Instead of creating a list containing strings and floats, representing the names and areas of the rooms in your house, you can create a list of lists.\n",
    "\n",
    "Remember: `\"hallway\"` is a string, while `hall` is a variable that represents the float `11.25` you specified earlier.\n",
    "\n",
    "### Instructions\n",
    "\n",
    "* Finish the list of lists so that it also contains the bedroom and bathroom data. Make sure you enter these in order!\n",
    "* Print out `house`; does this way of structuring your data make more sense?"
   ],
   "id": "1a824db83b998fbd"
  },
  {
   "metadata": {
    "ExecuteTime": {
     "end_time": "2024-11-04T01:59:26.930767Z",
     "start_time": "2024-11-04T01:59:26.925633Z"
    }
   },
   "cell_type": "code",
   "source": [
    "hall = 11.25\n",
    "kit = 18.0\n",
    "liv = 20.0\n",
    "bed = 10.75\n",
    "bath = 9.50\n",
    "\n",
    "# House information as list of lists\n",
    "house = [[\"hallway\", hall],\n",
    "         [\"kitchen\", kit],\n",
    "         [\"living room\", liv],\n",
    "        [\"bedroom\", bed],\n",
    "        [\"bathroom\", bath]]\n",
    "\n",
    "# Print out house\n",
    "print(house)"
   ],
   "id": "29a6d93fc9342676",
   "outputs": [
    {
     "name": "stdout",
     "output_type": "stream",
     "text": [
      "[['hallway', 11.25], ['kitchen', 18.0], ['living room', 20.0], ['bedroom', 10.75], ['bathroom', 9.5]]\n"
     ]
    }
   ],
   "execution_count": 13
  },
  {
   "metadata": {},
   "cell_type": "markdown",
   "source": [
    "## Subset and conquer\n",
    "Subsetting Python lists is a piece of cake. Take the code sample below, which creates a list `x` and then selects `\"b\" `from it. Remember that this is the second element, so it has index `1`. You can also use `negative indexing`.\n",
    "\n",
    "```python\n",
    "x = [\"a\", \"b\", \"c\", \"d\"]\n",
    "x[1]\n",
    "x[-3] # same result!\n",
    "```\n",
    "\n",
    "Remember the `areas` list from before, containing both strings and floats? Its definition is already in the script. Can you add the correct code to do some Python subsetting?\n",
    "\n",
    "### Instructions\n",
    "\n",
    "* Print out the second element from the `areas` list (it has the value `11.25`).\n",
    "* Subset and print out the last element of `areas`, being `9.50`. Using a negative index makes sense here!\n",
    "* Select the number representing the area of the living room (`20.0`) and print it out."
   ],
   "id": "457f7fc1eb5506e2"
  },
  {
   "metadata": {
    "ExecuteTime": {
     "end_time": "2024-11-04T02:04:57.252694Z",
     "start_time": "2024-11-04T02:04:57.248111Z"
    }
   },
   "cell_type": "code",
   "source": [
    "# Create the areas list\n",
    "areas = [\"hallway\", 11.25, \"kitchen\", 18.0, \"living room\", 20.0, \"bedroom\", 10.75, \"bathroom\", 9.50]\n",
    "\n",
    "# Print out second element from areas\n",
    "print(areas[1])\n",
    "\n",
    "# Print out last element from areas\n",
    "print(areas[-1])\n",
    "\n",
    "# Print out the area of the living room\n",
    "print(areas[-5])"
   ],
   "id": "e3488ee4aa3c635b",
   "outputs": [
    {
     "name": "stdout",
     "output_type": "stream",
     "text": [
      "11.25\n",
      "9.5\n",
      "20.0\n"
     ]
    }
   ],
   "execution_count": 16
  },
  {
   "metadata": {},
   "cell_type": "markdown",
   "source": [
    "## Slicing and dicing\n",
    "Selecting single values from a list is just one part of the story. It's also possible to slice your list, which means selecting multiple elements from your list. Use the following syntax:\n",
    "\n",
    "```python\n",
    "my_list[start:end]\n",
    "```\n",
    "\n",
    "The `start` index will be included, while the `end` index is `not`. However, it's also possible not to specify these indexes. If you don't specify the `start` index, Python figures out that you want to start your slice at the beginning of your list.\n",
    "\n",
    "### Instructions\n",
    "\n",
    "* Use slicing to create a list, `downstairs`, that contains the first 6 elements of `areas`.\n",
    "* Create `upstairs`, as the last `4` elements of areas. This time, simplify the `slicing` by omitting the `end` index.\n",
    "* Print both `downstairs` and `upstairs` using `print()`."
   ],
   "id": "a09260f9b76321cf"
  },
  {
   "metadata": {
    "ExecuteTime": {
     "end_time": "2024-11-04T02:11:38.778142Z",
     "start_time": "2024-11-04T02:11:38.773444Z"
    }
   },
   "cell_type": "code",
   "source": [
    "# Create the areas list\n",
    "areas = [\"hallway\", 11.25, \"kitchen\", 18.0, \"living room\", 20.0, \"bedroom\", 10.75, \"bathroom\", 9.50]\n",
    "\n",
    "# Use slicing to create downstairs\n",
    "downstairs = areas[:6]\n",
    "\n",
    "# Use slicing to create upstairs\n",
    "upstairs = areas[6:]\n",
    "\n",
    "# Print out downstairs and upstairs\n",
    "print(downstairs)\n",
    "print(upstairs)"
   ],
   "id": "9154f4f34c8fa93b",
   "outputs": [
    {
     "name": "stdout",
     "output_type": "stream",
     "text": [
      "['hallway', 11.25, 'kitchen', 18.0, 'living room', 20.0]\n",
      "['bedroom', 10.75, 'bathroom', 9.5]\n"
     ]
    }
   ],
   "execution_count": 19
  },
  {
   "metadata": {},
   "cell_type": "markdown",
   "source": [
    "### Exercise\n",
    "#### Subsetting lists of lists\n",
    "A Python list can also contain other lists.\n",
    "\n",
    "To subset lists of lists, you can use the same technique as before: square brackets. This would look something like this for a list, house:\n",
    "\n",
    "```python\n",
    "house[2][0]\n",
    "```\n",
    "#### Instructions\n",
    "\n",
    "Subset the `house` list to get the float `9.5`."
   ],
   "id": "c35ab80369c8e9b1"
  },
  {
   "metadata": {
    "ExecuteTime": {
     "end_time": "2024-11-04T02:15:27.264624Z",
     "start_time": "2024-11-04T02:15:27.259100Z"
    }
   },
   "cell_type": "code",
   "source": [
    "house = [[\"hallway\", 11.25],\n",
    "         [\"kitchen\", 18.0],\n",
    "         [\"living room\", 20.0],\n",
    "         [\"bedroom\", 10.75],\n",
    "         [\"bathroom\", 9.50]]\n",
    "\n",
    "# Subset the house list\n",
    "house[4][1]\n"
   ],
   "id": "e82b2dd3d1347b98",
   "outputs": [
    {
     "data": {
      "text/plain": [
       "9.5"
      ]
     },
     "execution_count": 23,
     "metadata": {},
     "output_type": "execute_result"
    }
   ],
   "execution_count": 23
  },
  {
   "metadata": {},
   "cell_type": "markdown",
   "source": [
    "## Replace list elements\n",
    "To replace list elements, you subset the list and assign new values to the subset. You can select single elements or you can change entire list slices at once.\n",
    "\n",
    "For this and the following exercises, you'll continue working on the `areas` list that contains the names and areas of different rooms in a house.\n",
    "\n",
    "\n",
    "### Instructions\n",
    "\n",
    "* Update the area of the bathroom to be `10.50` square meters instead of `9.50` using negative indexing.\n",
    "* Make the `areas` list more trendy! Change `\"living room\"` to `\"chill zone\"`. Don't use negative indexing this time."
   ],
   "id": "57a0cab1f002e4a5"
  },
  {
   "metadata": {
    "ExecuteTime": {
     "end_time": "2024-11-04T02:23:07.637379Z",
     "start_time": "2024-11-04T02:23:07.632994Z"
    }
   },
   "cell_type": "code",
   "source": [
    "# Create the areas list\n",
    "areas = [\"hallway\", 11.25, \"kitchen\", 18.0, \"living room\", 20.0, \"bedroom\", 10.75, \"bathroom\", 9.50]\n",
    "\n",
    "# Correct the bathroom area\n",
    "\n",
    "areas[-1] = 10.50\n",
    "# Change \"living room\" to \"chill zone\"\n",
    "areas[4] = \"chill zone\"\n",
    "print(areas)"
   ],
   "id": "161b8a9ca823f778",
   "outputs": [
    {
     "name": "stdout",
     "output_type": "stream",
     "text": [
      "['hallway', 11.25, 'kitchen', 18.0, 'chill zone', 20.0, 'bedroom', 10.75, 'bathroom', 10.5]\n"
     ]
    }
   ],
   "execution_count": 26
  },
  {
   "metadata": {},
   "cell_type": "markdown",
   "source": [
    "\n",
    "## Extend a list\n",
    "If you can change elements in a list, you sure want to be able to add elements to it, right? You can use the `+` operator:\n",
    "\n",
    "```python\n",
    "x = [\"a\", \"b\", \"c\", \"d\"]\n",
    "y = x + [\"e\", \"f\"]\n",
    "```\n",
    "You just won the lottery, awesome! You decide to build a poolhouse and a garage. Can you add the information to the `areas` list?\n",
    "\n",
    "\n",
    "### Instructions\n",
    "\n",
    "* Use the `+` operator to paste the list `[\"poolhouse\", 24.5]` to the end of the `areas` list. Store the resulting list as `areas_1`.\n",
    "* Further extend `areas_1` by adding data on your garage. Add the string `\"garage\"` and float `15.45`. Name the resulting list `areas_2`."
   ],
   "id": "e81353e40fbe039d"
  },
  {
   "metadata": {
    "ExecuteTime": {
     "end_time": "2024-11-04T02:28:00.969280Z",
     "start_time": "2024-11-04T02:28:00.965236Z"
    }
   },
   "cell_type": "code",
   "source": [
    "# Create the areas list and make some changes\n",
    "areas = [\"hallway\", 11.25, \"kitchen\", 18.0, \"chill zone\", 20.0,\n",
    "         \"bedroom\", 10.75, \"bathroom\", 10.50]\n",
    "\n",
    "# Add poolhouse data to areas, new list is areas_1\n",
    "areas_1 = areas + [\"poolhouse\", 24.5]\n",
    "\n",
    "# Add garage data to areas_1, new list is areas_2\n",
    "areas_2 = areas_1 + [\"garage\", 15.45]\n",
    "print(areas_2)"
   ],
   "id": "babf9e78bb275ce5",
   "outputs": [
    {
     "name": "stdout",
     "output_type": "stream",
     "text": [
      "['hallway', 11.25, 'kitchen', 18.0, 'chill zone', 20.0, 'bedroom', 10.75, 'bathroom', 10.5, 'poolhouse', 24.5, 'garage', 15.45]\n"
     ]
    }
   ],
   "execution_count": 29
  },
  {
   "metadata": {},
   "cell_type": "code",
   "outputs": [],
   "execution_count": null,
   "source": "",
   "id": "ef8e7369ee7e7a46"
  }
 ],
 "metadata": {
  "kernelspec": {
   "display_name": "Python 3",
   "language": "python",
   "name": "python3"
  },
  "language_info": {
   "codemirror_mode": {
    "name": "ipython",
    "version": 2
   },
   "file_extension": ".py",
   "mimetype": "text/x-python",
   "name": "python",
   "nbconvert_exporter": "python",
   "pygments_lexer": "ipython2",
   "version": "2.7.6"
  }
 },
 "nbformat": 4,
 "nbformat_minor": 5
}
